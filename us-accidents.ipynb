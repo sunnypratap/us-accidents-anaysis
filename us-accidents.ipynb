{
 "cells": [
  {
   "cell_type": "markdown",
   "metadata": {
    "id": "5a42U98rK446"
   },
   "source": []
  },
  {
   "cell_type": "markdown",
   "metadata": {
    "id": "vZyFHCP_F7N7"
   },
   "source": [
    "# us-accidents\n",
    "\n",
    "Use the \"Run\" button to execute the code."
   ]
  },
  {
   "cell_type": "markdown",
   "metadata": {
    "id": "jYavalZaLQVD"
   },
   "source": [
    "TO Do:\n",
    "TODO:talk about EDA\n",
    "TODO:talk about the dataset(Source , what it \n",
    "contains, how it will usefull)\n",
    "  Kaggle\n",
    "  information about accidents\n",
    "  can be useful to prevent accidents\n"
   ]
  },
  {
   "cell_type": "code",
   "execution_count": 5,
   "metadata": {
    "executionInfo": {
     "elapsed": 3543,
     "status": "ok",
     "timestamp": 1662390423974,
     "user": {
      "displayName": "sunny pratap",
      "userId": "11288485692058842255"
     },
     "user_tz": -330
    },
    "id": "s1gDhv3OK3O-"
   },
   "outputs": [],
   "source": [
    "pip install opendatasets --upgrade --quiet"
   ]
  },
  {
   "cell_type": "markdown",
   "metadata": {
    "id": "I-2HghPxMO9Y"
   },
   "source": [
    "Download the DATA"
   ]
  },
  {
   "cell_type": "code",
   "execution_count": 6,
   "metadata": {
    "colab": {
     "base_uri": "https://localhost:8080/"
    },
    "executionInfo": {
     "elapsed": 124187,
     "status": "ok",
     "timestamp": 1662390838063,
     "user": {
      "displayName": "sunny pratap",
      "userId": "11288485692058842255"
     },
     "user_tz": -330
    },
    "id": "BsFpsRObF7N-",
    "outputId": "8dffa39d-40b8-4d27-b678-599c3be43e66"
   },
   "outputs": [
    {
     "name": "stdout",
     "output_type": "stream",
     "text": [
      "Please provide your Kaggle credentials to download this dataset. Learn more: http://bit.ly/kaggle-creds\n",
      "Your Kaggle username: sunnypratap\n",
      "Your Kaggle Key: ··········\n",
      "Downloading us-accidents.zip to ./us-accidents\n"
     ]
    },
    {
     "name": "stderr",
     "output_type": "stream",
     "text": [
      "100%|██████████| 269M/269M [00:01<00:00, 161MB/s]\n"
     ]
    },
    {
     "name": "stdout",
     "output_type": "stream",
     "text": [
      "\n"
     ]
    }
   ],
   "source": [
    "import opendatasets as od\n",
    "download_url = 'https://www.kaggle.com/datasets/sobhanmoosavi/us-accidents'\n",
    "od.download(download_url)"
   ]
  },
  {
   "cell_type": "code",
   "execution_count": 7,
   "metadata": {
    "executionInfo": {
     "elapsed": 594,
     "status": "ok",
     "timestamp": 1662391021403,
     "user": {
      "displayName": "sunny pratap",
      "userId": "11288485692058842255"
     },
     "user_tz": -330
    },
    "id": "yKvkGVDtOMNs"
   },
   "outputs": [],
   "source": [
    "data_filename=\"./us-accidents/US_Accidents_Dec21_updated.csv\""
   ]
  },
  {
   "cell_type": "markdown",
   "metadata": {
    "id": "GGUTwCeFOhPE"
   },
   "source": [
    "#Data Preparation and Cleaning\n",
    "\n",
    "\n",
    "-Load the file using Pandas.\n",
    "\n",
    "-Look at some informaiton about the file.\n",
    "\n",
    "-Fix any missing or incorrect values.\n"
   ]
  },
  {
   "cell_type": "code",
   "execution_count": 8,
   "metadata": {
    "executionInfo": {
     "elapsed": 1094,
     "status": "ok",
     "timestamp": 1662391159982,
     "user": {
      "displayName": "sunny pratap",
      "userId": "11288485692058842255"
     },
     "user_tz": -330
    },
    "id": "Z1TCuqqyO9MQ"
   },
   "outputs": [],
   "source": [
    "import pandas as pd"
   ]
  },
  {
   "cell_type": "code",
   "execution_count": 9,
   "metadata": {
    "executionInfo": {
     "elapsed": 32232,
     "status": "ok",
     "timestamp": 1662391229928,
     "user": {
      "displayName": "sunny pratap",
      "userId": "11288485692058842255"
     },
     "user_tz": -330
    },
    "id": "ka84p4t-PA-j"
   },
   "outputs": [],
   "source": [
    "#Reading a csv file downloaded from kaggle\n",
    "df = pd.read_csv(data_filename)"
   ]
  },
  {
   "cell_type": "code",
   "execution_count": 10,
   "metadata": {
    "colab": {
     "base_uri": "https://localhost:8080/",
     "height": 939
    },
    "executionInfo": {
     "elapsed": 1777,
     "status": "ok",
     "timestamp": 1662391270641,
     "user": {
      "displayName": "sunny pratap",
      "userId": "11288485692058842255"
     },
     "user_tz": -330
    },
    "id": "RINDZNZYPZWj",
    "outputId": "86e6e917-4323-452f-db93-745532a440a7"
   },
   "outputs": [
    {
     "data": {
      "text/html": [
       "\n",
       "  <div id=\"df-eb32d6fb-2493-436e-9354-ac9fe0426de2\">\n",
       "    <div class=\"colab-df-container\">\n",
       "      <div>\n",
       "<style scoped>\n",
       "    .dataframe tbody tr th:only-of-type {\n",
       "        vertical-align: middle;\n",
       "    }\n",
       "\n",
       "    .dataframe tbody tr th {\n",
       "        vertical-align: top;\n",
       "    }\n",
       "\n",
       "    .dataframe thead th {\n",
       "        text-align: right;\n",
       "    }\n",
       "</style>\n",
       "<table border=\"1\" class=\"dataframe\">\n",
       "  <thead>\n",
       "    <tr style=\"text-align: right;\">\n",
       "      <th></th>\n",
       "      <th>ID</th>\n",
       "      <th>Severity</th>\n",
       "      <th>Start_Time</th>\n",
       "      <th>End_Time</th>\n",
       "      <th>Start_Lat</th>\n",
       "      <th>Start_Lng</th>\n",
       "      <th>End_Lat</th>\n",
       "      <th>End_Lng</th>\n",
       "      <th>Distance(mi)</th>\n",
       "      <th>Description</th>\n",
       "      <th>...</th>\n",
       "      <th>Roundabout</th>\n",
       "      <th>Station</th>\n",
       "      <th>Stop</th>\n",
       "      <th>Traffic_Calming</th>\n",
       "      <th>Traffic_Signal</th>\n",
       "      <th>Turning_Loop</th>\n",
       "      <th>Sunrise_Sunset</th>\n",
       "      <th>Civil_Twilight</th>\n",
       "      <th>Nautical_Twilight</th>\n",
       "      <th>Astronomical_Twilight</th>\n",
       "    </tr>\n",
       "  </thead>\n",
       "  <tbody>\n",
       "    <tr>\n",
       "      <th>0</th>\n",
       "      <td>A-1</td>\n",
       "      <td>3</td>\n",
       "      <td>2016-02-08 00:37:08</td>\n",
       "      <td>2016-02-08 06:37:08</td>\n",
       "      <td>40.108910</td>\n",
       "      <td>-83.092860</td>\n",
       "      <td>40.112060</td>\n",
       "      <td>-83.031870</td>\n",
       "      <td>3.230</td>\n",
       "      <td>Between Sawmill Rd/Exit 20 and OH-315/Olentang...</td>\n",
       "      <td>...</td>\n",
       "      <td>False</td>\n",
       "      <td>False</td>\n",
       "      <td>False</td>\n",
       "      <td>False</td>\n",
       "      <td>False</td>\n",
       "      <td>False</td>\n",
       "      <td>Night</td>\n",
       "      <td>Night</td>\n",
       "      <td>Night</td>\n",
       "      <td>Night</td>\n",
       "    </tr>\n",
       "    <tr>\n",
       "      <th>1</th>\n",
       "      <td>A-2</td>\n",
       "      <td>2</td>\n",
       "      <td>2016-02-08 05:56:20</td>\n",
       "      <td>2016-02-08 11:56:20</td>\n",
       "      <td>39.865420</td>\n",
       "      <td>-84.062800</td>\n",
       "      <td>39.865010</td>\n",
       "      <td>-84.048730</td>\n",
       "      <td>0.747</td>\n",
       "      <td>At OH-4/OH-235/Exit 41 - Accident.</td>\n",
       "      <td>...</td>\n",
       "      <td>False</td>\n",
       "      <td>False</td>\n",
       "      <td>False</td>\n",
       "      <td>False</td>\n",
       "      <td>False</td>\n",
       "      <td>False</td>\n",
       "      <td>Night</td>\n",
       "      <td>Night</td>\n",
       "      <td>Night</td>\n",
       "      <td>Night</td>\n",
       "    </tr>\n",
       "    <tr>\n",
       "      <th>2</th>\n",
       "      <td>A-3</td>\n",
       "      <td>2</td>\n",
       "      <td>2016-02-08 06:15:39</td>\n",
       "      <td>2016-02-08 12:15:39</td>\n",
       "      <td>39.102660</td>\n",
       "      <td>-84.524680</td>\n",
       "      <td>39.102090</td>\n",
       "      <td>-84.523960</td>\n",
       "      <td>0.055</td>\n",
       "      <td>At I-71/US-50/Exit 1 - Accident.</td>\n",
       "      <td>...</td>\n",
       "      <td>False</td>\n",
       "      <td>False</td>\n",
       "      <td>False</td>\n",
       "      <td>False</td>\n",
       "      <td>False</td>\n",
       "      <td>False</td>\n",
       "      <td>Night</td>\n",
       "      <td>Night</td>\n",
       "      <td>Night</td>\n",
       "      <td>Day</td>\n",
       "    </tr>\n",
       "    <tr>\n",
       "      <th>3</th>\n",
       "      <td>A-4</td>\n",
       "      <td>2</td>\n",
       "      <td>2016-02-08 06:51:45</td>\n",
       "      <td>2016-02-08 12:51:45</td>\n",
       "      <td>41.062130</td>\n",
       "      <td>-81.537840</td>\n",
       "      <td>41.062170</td>\n",
       "      <td>-81.535470</td>\n",
       "      <td>0.123</td>\n",
       "      <td>At Dart Ave/Exit 21 - Accident.</td>\n",
       "      <td>...</td>\n",
       "      <td>False</td>\n",
       "      <td>False</td>\n",
       "      <td>False</td>\n",
       "      <td>False</td>\n",
       "      <td>False</td>\n",
       "      <td>False</td>\n",
       "      <td>Night</td>\n",
       "      <td>Night</td>\n",
       "      <td>Day</td>\n",
       "      <td>Day</td>\n",
       "    </tr>\n",
       "    <tr>\n",
       "      <th>4</th>\n",
       "      <td>A-5</td>\n",
       "      <td>3</td>\n",
       "      <td>2016-02-08 07:53:43</td>\n",
       "      <td>2016-02-08 13:53:43</td>\n",
       "      <td>39.172393</td>\n",
       "      <td>-84.492792</td>\n",
       "      <td>39.170476</td>\n",
       "      <td>-84.501798</td>\n",
       "      <td>0.500</td>\n",
       "      <td>At Mitchell Ave/Exit 6 - Accident.</td>\n",
       "      <td>...</td>\n",
       "      <td>False</td>\n",
       "      <td>False</td>\n",
       "      <td>False</td>\n",
       "      <td>False</td>\n",
       "      <td>False</td>\n",
       "      <td>False</td>\n",
       "      <td>Day</td>\n",
       "      <td>Day</td>\n",
       "      <td>Day</td>\n",
       "      <td>Day</td>\n",
       "    </tr>\n",
       "    <tr>\n",
       "      <th>...</th>\n",
       "      <td>...</td>\n",
       "      <td>...</td>\n",
       "      <td>...</td>\n",
       "      <td>...</td>\n",
       "      <td>...</td>\n",
       "      <td>...</td>\n",
       "      <td>...</td>\n",
       "      <td>...</td>\n",
       "      <td>...</td>\n",
       "      <td>...</td>\n",
       "      <td>...</td>\n",
       "      <td>...</td>\n",
       "      <td>...</td>\n",
       "      <td>...</td>\n",
       "      <td>...</td>\n",
       "      <td>...</td>\n",
       "      <td>...</td>\n",
       "      <td>...</td>\n",
       "      <td>...</td>\n",
       "      <td>...</td>\n",
       "      <td>...</td>\n",
       "    </tr>\n",
       "    <tr>\n",
       "      <th>2845337</th>\n",
       "      <td>A-2845338</td>\n",
       "      <td>2</td>\n",
       "      <td>2019-08-23 18:03:25</td>\n",
       "      <td>2019-08-23 18:32:01</td>\n",
       "      <td>34.002480</td>\n",
       "      <td>-117.379360</td>\n",
       "      <td>33.998880</td>\n",
       "      <td>-117.370940</td>\n",
       "      <td>0.543</td>\n",
       "      <td>At Market St - Accident.</td>\n",
       "      <td>...</td>\n",
       "      <td>False</td>\n",
       "      <td>False</td>\n",
       "      <td>False</td>\n",
       "      <td>False</td>\n",
       "      <td>False</td>\n",
       "      <td>False</td>\n",
       "      <td>Day</td>\n",
       "      <td>Day</td>\n",
       "      <td>Day</td>\n",
       "      <td>Day</td>\n",
       "    </tr>\n",
       "    <tr>\n",
       "      <th>2845338</th>\n",
       "      <td>A-2845339</td>\n",
       "      <td>2</td>\n",
       "      <td>2019-08-23 19:11:30</td>\n",
       "      <td>2019-08-23 19:38:23</td>\n",
       "      <td>32.766960</td>\n",
       "      <td>-117.148060</td>\n",
       "      <td>32.765550</td>\n",
       "      <td>-117.153630</td>\n",
       "      <td>0.338</td>\n",
       "      <td>At Camino Del Rio/Mission Center Rd - Accident.</td>\n",
       "      <td>...</td>\n",
       "      <td>False</td>\n",
       "      <td>False</td>\n",
       "      <td>False</td>\n",
       "      <td>False</td>\n",
       "      <td>False</td>\n",
       "      <td>False</td>\n",
       "      <td>Day</td>\n",
       "      <td>Day</td>\n",
       "      <td>Day</td>\n",
       "      <td>Day</td>\n",
       "    </tr>\n",
       "    <tr>\n",
       "      <th>2845339</th>\n",
       "      <td>A-2845340</td>\n",
       "      <td>2</td>\n",
       "      <td>2019-08-23 19:00:21</td>\n",
       "      <td>2019-08-23 19:28:49</td>\n",
       "      <td>33.775450</td>\n",
       "      <td>-117.847790</td>\n",
       "      <td>33.777400</td>\n",
       "      <td>-117.857270</td>\n",
       "      <td>0.561</td>\n",
       "      <td>At Glassell St/Grand Ave - Accident. in the ri...</td>\n",
       "      <td>...</td>\n",
       "      <td>False</td>\n",
       "      <td>False</td>\n",
       "      <td>False</td>\n",
       "      <td>False</td>\n",
       "      <td>False</td>\n",
       "      <td>False</td>\n",
       "      <td>Day</td>\n",
       "      <td>Day</td>\n",
       "      <td>Day</td>\n",
       "      <td>Day</td>\n",
       "    </tr>\n",
       "    <tr>\n",
       "      <th>2845340</th>\n",
       "      <td>A-2845341</td>\n",
       "      <td>2</td>\n",
       "      <td>2019-08-23 19:00:21</td>\n",
       "      <td>2019-08-23 19:29:42</td>\n",
       "      <td>33.992460</td>\n",
       "      <td>-118.403020</td>\n",
       "      <td>33.983110</td>\n",
       "      <td>-118.395650</td>\n",
       "      <td>0.772</td>\n",
       "      <td>At CA-90/Marina Fwy/Jefferson Blvd - Accident.</td>\n",
       "      <td>...</td>\n",
       "      <td>False</td>\n",
       "      <td>False</td>\n",
       "      <td>False</td>\n",
       "      <td>False</td>\n",
       "      <td>False</td>\n",
       "      <td>False</td>\n",
       "      <td>Day</td>\n",
       "      <td>Day</td>\n",
       "      <td>Day</td>\n",
       "      <td>Day</td>\n",
       "    </tr>\n",
       "    <tr>\n",
       "      <th>2845341</th>\n",
       "      <td>A-2845342</td>\n",
       "      <td>2</td>\n",
       "      <td>2019-08-23 18:52:06</td>\n",
       "      <td>2019-08-23 19:21:31</td>\n",
       "      <td>34.133930</td>\n",
       "      <td>-117.230920</td>\n",
       "      <td>34.137360</td>\n",
       "      <td>-117.239340</td>\n",
       "      <td>0.537</td>\n",
       "      <td>At Highland Ave/Arden Ave - Accident.</td>\n",
       "      <td>...</td>\n",
       "      <td>False</td>\n",
       "      <td>False</td>\n",
       "      <td>False</td>\n",
       "      <td>False</td>\n",
       "      <td>False</td>\n",
       "      <td>False</td>\n",
       "      <td>Day</td>\n",
       "      <td>Day</td>\n",
       "      <td>Day</td>\n",
       "      <td>Day</td>\n",
       "    </tr>\n",
       "  </tbody>\n",
       "</table>\n",
       "<p>2845342 rows × 47 columns</p>\n",
       "</div>\n",
       "      <button class=\"colab-df-convert\" onclick=\"convertToInteractive('df-eb32d6fb-2493-436e-9354-ac9fe0426de2')\"\n",
       "              title=\"Convert this dataframe to an interactive table.\"\n",
       "              style=\"display:none;\">\n",
       "        \n",
       "  <svg xmlns=\"http://www.w3.org/2000/svg\" height=\"24px\"viewBox=\"0 0 24 24\"\n",
       "       width=\"24px\">\n",
       "    <path d=\"M0 0h24v24H0V0z\" fill=\"none\"/>\n",
       "    <path d=\"M18.56 5.44l.94 2.06.94-2.06 2.06-.94-2.06-.94-.94-2.06-.94 2.06-2.06.94zm-11 1L8.5 8.5l.94-2.06 2.06-.94-2.06-.94L8.5 2.5l-.94 2.06-2.06.94zm10 10l.94 2.06.94-2.06 2.06-.94-2.06-.94-.94-2.06-.94 2.06-2.06.94z\"/><path d=\"M17.41 7.96l-1.37-1.37c-.4-.4-.92-.59-1.43-.59-.52 0-1.04.2-1.43.59L10.3 9.45l-7.72 7.72c-.78.78-.78 2.05 0 2.83L4 21.41c.39.39.9.59 1.41.59.51 0 1.02-.2 1.41-.59l7.78-7.78 2.81-2.81c.8-.78.8-2.07 0-2.86zM5.41 20L4 18.59l7.72-7.72 1.47 1.35L5.41 20z\"/>\n",
       "  </svg>\n",
       "      </button>\n",
       "      \n",
       "  <style>\n",
       "    .colab-df-container {\n",
       "      display:flex;\n",
       "      flex-wrap:wrap;\n",
       "      gap: 12px;\n",
       "    }\n",
       "\n",
       "    .colab-df-convert {\n",
       "      background-color: #E8F0FE;\n",
       "      border: none;\n",
       "      border-radius: 50%;\n",
       "      cursor: pointer;\n",
       "      display: none;\n",
       "      fill: #1967D2;\n",
       "      height: 32px;\n",
       "      padding: 0 0 0 0;\n",
       "      width: 32px;\n",
       "    }\n",
       "\n",
       "    .colab-df-convert:hover {\n",
       "      background-color: #E2EBFA;\n",
       "      box-shadow: 0px 1px 2px rgba(60, 64, 67, 0.3), 0px 1px 3px 1px rgba(60, 64, 67, 0.15);\n",
       "      fill: #174EA6;\n",
       "    }\n",
       "\n",
       "    [theme=dark] .colab-df-convert {\n",
       "      background-color: #3B4455;\n",
       "      fill: #D2E3FC;\n",
       "    }\n",
       "\n",
       "    [theme=dark] .colab-df-convert:hover {\n",
       "      background-color: #434B5C;\n",
       "      box-shadow: 0px 1px 3px 1px rgba(0, 0, 0, 0.15);\n",
       "      filter: drop-shadow(0px 1px 2px rgba(0, 0, 0, 0.3));\n",
       "      fill: #FFFFFF;\n",
       "    }\n",
       "  </style>\n",
       "\n",
       "      <script>\n",
       "        const buttonEl =\n",
       "          document.querySelector('#df-eb32d6fb-2493-436e-9354-ac9fe0426de2 button.colab-df-convert');\n",
       "        buttonEl.style.display =\n",
       "          google.colab.kernel.accessAllowed ? 'block' : 'none';\n",
       "\n",
       "        async function convertToInteractive(key) {\n",
       "          const element = document.querySelector('#df-eb32d6fb-2493-436e-9354-ac9fe0426de2');\n",
       "          const dataTable =\n",
       "            await google.colab.kernel.invokeFunction('convertToInteractive',\n",
       "                                                     [key], {});\n",
       "          if (!dataTable) return;\n",
       "\n",
       "          const docLinkHtml = 'Like what you see? Visit the ' +\n",
       "            '<a target=\"_blank\" href=https://colab.research.google.com/notebooks/data_table.ipynb>data table notebook</a>'\n",
       "            + ' to learn more about interactive tables.';\n",
       "          element.innerHTML = '';\n",
       "          dataTable['output_type'] = 'display_data';\n",
       "          await google.colab.output.renderOutput(dataTable, element);\n",
       "          const docLink = document.createElement('div');\n",
       "          docLink.innerHTML = docLinkHtml;\n",
       "          element.appendChild(docLink);\n",
       "        }\n",
       "      </script>\n",
       "    </div>\n",
       "  </div>\n",
       "  "
      ],
      "text/plain": [
       "                ID  Severity           Start_Time             End_Time  \\\n",
       "0              A-1         3  2016-02-08 00:37:08  2016-02-08 06:37:08   \n",
       "1              A-2         2  2016-02-08 05:56:20  2016-02-08 11:56:20   \n",
       "2              A-3         2  2016-02-08 06:15:39  2016-02-08 12:15:39   \n",
       "3              A-4         2  2016-02-08 06:51:45  2016-02-08 12:51:45   \n",
       "4              A-5         3  2016-02-08 07:53:43  2016-02-08 13:53:43   \n",
       "...            ...       ...                  ...                  ...   \n",
       "2845337  A-2845338         2  2019-08-23 18:03:25  2019-08-23 18:32:01   \n",
       "2845338  A-2845339         2  2019-08-23 19:11:30  2019-08-23 19:38:23   \n",
       "2845339  A-2845340         2  2019-08-23 19:00:21  2019-08-23 19:28:49   \n",
       "2845340  A-2845341         2  2019-08-23 19:00:21  2019-08-23 19:29:42   \n",
       "2845341  A-2845342         2  2019-08-23 18:52:06  2019-08-23 19:21:31   \n",
       "\n",
       "         Start_Lat   Start_Lng    End_Lat     End_Lng  Distance(mi)  \\\n",
       "0        40.108910  -83.092860  40.112060  -83.031870         3.230   \n",
       "1        39.865420  -84.062800  39.865010  -84.048730         0.747   \n",
       "2        39.102660  -84.524680  39.102090  -84.523960         0.055   \n",
       "3        41.062130  -81.537840  41.062170  -81.535470         0.123   \n",
       "4        39.172393  -84.492792  39.170476  -84.501798         0.500   \n",
       "...            ...         ...        ...         ...           ...   \n",
       "2845337  34.002480 -117.379360  33.998880 -117.370940         0.543   \n",
       "2845338  32.766960 -117.148060  32.765550 -117.153630         0.338   \n",
       "2845339  33.775450 -117.847790  33.777400 -117.857270         0.561   \n",
       "2845340  33.992460 -118.403020  33.983110 -118.395650         0.772   \n",
       "2845341  34.133930 -117.230920  34.137360 -117.239340         0.537   \n",
       "\n",
       "                                               Description  ...  Roundabout  \\\n",
       "0        Between Sawmill Rd/Exit 20 and OH-315/Olentang...  ...       False   \n",
       "1                       At OH-4/OH-235/Exit 41 - Accident.  ...       False   \n",
       "2                         At I-71/US-50/Exit 1 - Accident.  ...       False   \n",
       "3                          At Dart Ave/Exit 21 - Accident.  ...       False   \n",
       "4                       At Mitchell Ave/Exit 6 - Accident.  ...       False   \n",
       "...                                                    ...  ...         ...   \n",
       "2845337                           At Market St - Accident.  ...       False   \n",
       "2845338    At Camino Del Rio/Mission Center Rd - Accident.  ...       False   \n",
       "2845339  At Glassell St/Grand Ave - Accident. in the ri...  ...       False   \n",
       "2845340     At CA-90/Marina Fwy/Jefferson Blvd - Accident.  ...       False   \n",
       "2845341              At Highland Ave/Arden Ave - Accident.  ...       False   \n",
       "\n",
       "        Station   Stop Traffic_Calming Traffic_Signal Turning_Loop  \\\n",
       "0         False  False           False          False        False   \n",
       "1         False  False           False          False        False   \n",
       "2         False  False           False          False        False   \n",
       "3         False  False           False          False        False   \n",
       "4         False  False           False          False        False   \n",
       "...         ...    ...             ...            ...          ...   \n",
       "2845337   False  False           False          False        False   \n",
       "2845338   False  False           False          False        False   \n",
       "2845339   False  False           False          False        False   \n",
       "2845340   False  False           False          False        False   \n",
       "2845341   False  False           False          False        False   \n",
       "\n",
       "        Sunrise_Sunset Civil_Twilight Nautical_Twilight Astronomical_Twilight  \n",
       "0                Night          Night             Night                 Night  \n",
       "1                Night          Night             Night                 Night  \n",
       "2                Night          Night             Night                   Day  \n",
       "3                Night          Night               Day                   Day  \n",
       "4                  Day            Day               Day                   Day  \n",
       "...                ...            ...               ...                   ...  \n",
       "2845337            Day            Day               Day                   Day  \n",
       "2845338            Day            Day               Day                   Day  \n",
       "2845339            Day            Day               Day                   Day  \n",
       "2845340            Day            Day               Day                   Day  \n",
       "2845341            Day            Day               Day                   Day  \n",
       "\n",
       "[2845342 rows x 47 columns]"
      ]
     },
     "execution_count": 10,
     "metadata": {},
     "output_type": "execute_result"
    }
   ],
   "source": [
    "#printing 'df' (as it has read the csv file) to look into it.\n",
    "df"
   ]
  },
  {
   "cell_type": "code",
   "execution_count": 29,
   "metadata": {
    "colab": {
     "base_uri": "https://localhost:8080/"
    },
    "executionInfo": {
     "elapsed": 3,
     "status": "ok",
     "timestamp": 1662392990443,
     "user": {
      "displayName": "sunny pratap",
      "userId": "11288485692058842255"
     },
     "user_tz": -330
    },
    "id": "GzyW4JZQV-Vd",
    "outputId": "462e7d3b-bbcd-448c-e380-69c5fa5ca6e8"
   },
   "outputs": [
    {
     "data": {
      "text/plain": [
       "2845342"
      ]
     },
     "execution_count": 29,
     "metadata": {},
     "output_type": "execute_result"
    }
   ],
   "source": [
    "len(df)"
   ]
  },
  {
   "cell_type": "code",
   "execution_count": 15,
   "metadata": {
    "colab": {
     "base_uri": "https://localhost:8080/"
    },
    "executionInfo": {
     "elapsed": 365,
     "status": "ok",
     "timestamp": 1662391664407,
     "user": {
      "displayName": "sunny pratap",
      "userId": "11288485692058842255"
     },
     "user_tz": -330
    },
    "id": "N2flwSCBQaSP",
    "outputId": "97c94f56-a567-4193-98fb-06a736deddde"
   },
   "outputs": [
    {
     "data": {
      "text/plain": [
       "Index(['ID', 'Severity', 'Start_Time', 'End_Time', 'Start_Lat', 'Start_Lng',\n",
       "       'End_Lat', 'End_Lng', 'Distance(mi)', 'Description', 'Number', 'Street',\n",
       "       'Side', 'City', 'County', 'State', 'Zipcode', 'Country', 'Timezone',\n",
       "       'Airport_Code', 'Weather_Timestamp', 'Temperature(F)', 'Wind_Chill(F)',\n",
       "       'Humidity(%)', 'Pressure(in)', 'Visibility(mi)', 'Wind_Direction',\n",
       "       'Wind_Speed(mph)', 'Precipitation(in)', 'Weather_Condition', 'Amenity',\n",
       "       'Bump', 'Crossing', 'Give_Way', 'Junction', 'No_Exit', 'Railway',\n",
       "       'Roundabout', 'Station', 'Stop', 'Traffic_Calming', 'Traffic_Signal',\n",
       "       'Turning_Loop', 'Sunrise_Sunset', 'Civil_Twilight', 'Nautical_Twilight',\n",
       "       'Astronomical_Twilight'],\n",
       "      dtype='object')"
      ]
     },
     "execution_count": 15,
     "metadata": {},
     "output_type": "execute_result"
    }
   ],
   "source": [
    "#it will return the columns present in the table i.e. csv file\n",
    "df.columns\n"
   ]
  },
  {
   "cell_type": "code",
   "execution_count": 14,
   "metadata": {
    "colab": {
     "base_uri": "https://localhost:8080/"
    },
    "executionInfo": {
     "elapsed": 387,
     "status": "ok",
     "timestamp": 1662391662256,
     "user": {
      "displayName": "sunny pratap",
      "userId": "11288485692058842255"
     },
     "user_tz": -330
    },
    "id": "80_-N3xkQ6kG",
    "outputId": "6d6c9f29-dd62-46df-d408-fa486dc87c02"
   },
   "outputs": [
    {
     "data": {
      "text/plain": [
       "47"
      ]
     },
     "execution_count": 14,
     "metadata": {},
     "output_type": "execute_result"
    }
   ],
   "source": [
    "#it will return the length/ number of the columns present in the table\n",
    "len(df.columns)"
   ]
  },
  {
   "cell_type": "code",
   "execution_count": 12,
   "metadata": {
    "colab": {
     "base_uri": "https://localhost:8080/"
    },
    "executionInfo": {
     "elapsed": 2,
     "status": "ok",
     "timestamp": 1662391599682,
     "user": {
      "displayName": "sunny pratap",
      "userId": "11288485692058842255"
     },
     "user_tz": -330
    },
    "id": "SyfSKVFlQq4i",
    "outputId": "a5054ce6-612e-4050-893e-bdfdc8ef0a50"
   },
   "outputs": [
    {
     "data": {
      "text/plain": [
       "RangeIndex(start=0, stop=2845342, step=1)"
      ]
     },
     "execution_count": 12,
     "metadata": {},
     "output_type": "execute_result"
    }
   ],
   "source": [
    "#it will return the index of the table.\n",
    "df.index"
   ]
  },
  {
   "cell_type": "code",
   "execution_count": 16,
   "metadata": {
    "colab": {
     "base_uri": "https://localhost:8080/"
    },
    "executionInfo": {
     "elapsed": 403,
     "status": "ok",
     "timestamp": 1662391725944,
     "user": {
      "displayName": "sunny pratap",
      "userId": "11288485692058842255"
     },
     "user_tz": -330
    },
    "id": "4-NxAMh-RIc5",
    "outputId": "7f774713-4ffe-427a-8fbe-b62414f1b966"
   },
   "outputs": [
    {
     "name": "stdout",
     "output_type": "stream",
     "text": [
      "<class 'pandas.core.frame.DataFrame'>\n",
      "RangeIndex: 2845342 entries, 0 to 2845341\n",
      "Data columns (total 47 columns):\n",
      " #   Column                 Dtype  \n",
      "---  ------                 -----  \n",
      " 0   ID                     object \n",
      " 1   Severity               int64  \n",
      " 2   Start_Time             object \n",
      " 3   End_Time               object \n",
      " 4   Start_Lat              float64\n",
      " 5   Start_Lng              float64\n",
      " 6   End_Lat                float64\n",
      " 7   End_Lng                float64\n",
      " 8   Distance(mi)           float64\n",
      " 9   Description            object \n",
      " 10  Number                 float64\n",
      " 11  Street                 object \n",
      " 12  Side                   object \n",
      " 13  City                   object \n",
      " 14  County                 object \n",
      " 15  State                  object \n",
      " 16  Zipcode                object \n",
      " 17  Country                object \n",
      " 18  Timezone               object \n",
      " 19  Airport_Code           object \n",
      " 20  Weather_Timestamp      object \n",
      " 21  Temperature(F)         float64\n",
      " 22  Wind_Chill(F)          float64\n",
      " 23  Humidity(%)            float64\n",
      " 24  Pressure(in)           float64\n",
      " 25  Visibility(mi)         float64\n",
      " 26  Wind_Direction         object \n",
      " 27  Wind_Speed(mph)        float64\n",
      " 28  Precipitation(in)      float64\n",
      " 29  Weather_Condition      object \n",
      " 30  Amenity                bool   \n",
      " 31  Bump                   bool   \n",
      " 32  Crossing               bool   \n",
      " 33  Give_Way               bool   \n",
      " 34  Junction               bool   \n",
      " 35  No_Exit                bool   \n",
      " 36  Railway                bool   \n",
      " 37  Roundabout             bool   \n",
      " 38  Station                bool   \n",
      " 39  Stop                   bool   \n",
      " 40  Traffic_Calming        bool   \n",
      " 41  Traffic_Signal         bool   \n",
      " 42  Turning_Loop           bool   \n",
      " 43  Sunrise_Sunset         object \n",
      " 44  Civil_Twilight         object \n",
      " 45  Nautical_Twilight      object \n",
      " 46  Astronomical_Twilight  object \n",
      "dtypes: bool(13), float64(13), int64(1), object(20)\n",
      "memory usage: 773.4+ MB\n"
     ]
    }
   ],
   "source": [
    "#it will return the informations about the columns like data type and more\n",
    "df.info()"
   ]
  },
  {
   "cell_type": "code",
   "execution_count": 17,
   "metadata": {
    "colab": {
     "base_uri": "https://localhost:8080/",
     "height": 364
    },
    "executionInfo": {
     "elapsed": 2828,
     "status": "ok",
     "timestamp": 1662391899889,
     "user": {
      "displayName": "sunny pratap",
      "userId": "11288485692058842255"
     },
     "user_tz": -330
    },
    "id": "886bXiWpRj6w",
    "outputId": "1fcb9429-b843-4ccb-8cfd-fef82349ba63"
   },
   "outputs": [
    {
     "data": {
      "text/html": [
       "\n",
       "  <div id=\"df-62529fc2-cc2c-41ab-b342-6fb15da1e956\">\n",
       "    <div class=\"colab-df-container\">\n",
       "      <div>\n",
       "<style scoped>\n",
       "    .dataframe tbody tr th:only-of-type {\n",
       "        vertical-align: middle;\n",
       "    }\n",
       "\n",
       "    .dataframe tbody tr th {\n",
       "        vertical-align: top;\n",
       "    }\n",
       "\n",
       "    .dataframe thead th {\n",
       "        text-align: right;\n",
       "    }\n",
       "</style>\n",
       "<table border=\"1\" class=\"dataframe\">\n",
       "  <thead>\n",
       "    <tr style=\"text-align: right;\">\n",
       "      <th></th>\n",
       "      <th>Severity</th>\n",
       "      <th>Start_Lat</th>\n",
       "      <th>Start_Lng</th>\n",
       "      <th>End_Lat</th>\n",
       "      <th>End_Lng</th>\n",
       "      <th>Distance(mi)</th>\n",
       "      <th>Number</th>\n",
       "      <th>Temperature(F)</th>\n",
       "      <th>Wind_Chill(F)</th>\n",
       "      <th>Humidity(%)</th>\n",
       "      <th>Pressure(in)</th>\n",
       "      <th>Visibility(mi)</th>\n",
       "      <th>Wind_Speed(mph)</th>\n",
       "      <th>Precipitation(in)</th>\n",
       "    </tr>\n",
       "  </thead>\n",
       "  <tbody>\n",
       "    <tr>\n",
       "      <th>count</th>\n",
       "      <td>2.845342e+06</td>\n",
       "      <td>2.845342e+06</td>\n",
       "      <td>2.845342e+06</td>\n",
       "      <td>2.845342e+06</td>\n",
       "      <td>2.845342e+06</td>\n",
       "      <td>2.845342e+06</td>\n",
       "      <td>1.101431e+06</td>\n",
       "      <td>2.776068e+06</td>\n",
       "      <td>2.375699e+06</td>\n",
       "      <td>2.772250e+06</td>\n",
       "      <td>2.786142e+06</td>\n",
       "      <td>2.774796e+06</td>\n",
       "      <td>2.687398e+06</td>\n",
       "      <td>2.295884e+06</td>\n",
       "    </tr>\n",
       "    <tr>\n",
       "      <th>mean</th>\n",
       "      <td>2.137572e+00</td>\n",
       "      <td>3.624520e+01</td>\n",
       "      <td>-9.711463e+01</td>\n",
       "      <td>3.624532e+01</td>\n",
       "      <td>-9.711439e+01</td>\n",
       "      <td>7.026779e-01</td>\n",
       "      <td>8.089408e+03</td>\n",
       "      <td>6.179356e+01</td>\n",
       "      <td>5.965823e+01</td>\n",
       "      <td>6.436545e+01</td>\n",
       "      <td>2.947234e+01</td>\n",
       "      <td>9.099391e+00</td>\n",
       "      <td>7.395044e+00</td>\n",
       "      <td>7.016940e-03</td>\n",
       "    </tr>\n",
       "    <tr>\n",
       "      <th>std</th>\n",
       "      <td>4.787216e-01</td>\n",
       "      <td>5.363797e+00</td>\n",
       "      <td>1.831782e+01</td>\n",
       "      <td>5.363873e+00</td>\n",
       "      <td>1.831763e+01</td>\n",
       "      <td>1.560361e+00</td>\n",
       "      <td>1.836009e+04</td>\n",
       "      <td>1.862263e+01</td>\n",
       "      <td>2.116097e+01</td>\n",
       "      <td>2.287457e+01</td>\n",
       "      <td>1.045286e+00</td>\n",
       "      <td>2.717546e+00</td>\n",
       "      <td>5.527454e+00</td>\n",
       "      <td>9.348831e-02</td>\n",
       "    </tr>\n",
       "    <tr>\n",
       "      <th>min</th>\n",
       "      <td>1.000000e+00</td>\n",
       "      <td>2.456603e+01</td>\n",
       "      <td>-1.245481e+02</td>\n",
       "      <td>2.456601e+01</td>\n",
       "      <td>-1.245457e+02</td>\n",
       "      <td>0.000000e+00</td>\n",
       "      <td>0.000000e+00</td>\n",
       "      <td>-8.900000e+01</td>\n",
       "      <td>-8.900000e+01</td>\n",
       "      <td>1.000000e+00</td>\n",
       "      <td>0.000000e+00</td>\n",
       "      <td>0.000000e+00</td>\n",
       "      <td>0.000000e+00</td>\n",
       "      <td>0.000000e+00</td>\n",
       "    </tr>\n",
       "    <tr>\n",
       "      <th>25%</th>\n",
       "      <td>2.000000e+00</td>\n",
       "      <td>3.344517e+01</td>\n",
       "      <td>-1.180331e+02</td>\n",
       "      <td>3.344628e+01</td>\n",
       "      <td>-1.180333e+02</td>\n",
       "      <td>5.200000e-02</td>\n",
       "      <td>1.270000e+03</td>\n",
       "      <td>5.000000e+01</td>\n",
       "      <td>4.600000e+01</td>\n",
       "      <td>4.800000e+01</td>\n",
       "      <td>2.931000e+01</td>\n",
       "      <td>1.000000e+01</td>\n",
       "      <td>3.500000e+00</td>\n",
       "      <td>0.000000e+00</td>\n",
       "    </tr>\n",
       "    <tr>\n",
       "      <th>50%</th>\n",
       "      <td>2.000000e+00</td>\n",
       "      <td>3.609861e+01</td>\n",
       "      <td>-9.241808e+01</td>\n",
       "      <td>3.609799e+01</td>\n",
       "      <td>-9.241772e+01</td>\n",
       "      <td>2.440000e-01</td>\n",
       "      <td>4.007000e+03</td>\n",
       "      <td>6.400000e+01</td>\n",
       "      <td>6.300000e+01</td>\n",
       "      <td>6.700000e+01</td>\n",
       "      <td>2.982000e+01</td>\n",
       "      <td>1.000000e+01</td>\n",
       "      <td>7.000000e+00</td>\n",
       "      <td>0.000000e+00</td>\n",
       "    </tr>\n",
       "    <tr>\n",
       "      <th>75%</th>\n",
       "      <td>2.000000e+00</td>\n",
       "      <td>4.016024e+01</td>\n",
       "      <td>-8.037243e+01</td>\n",
       "      <td>4.016105e+01</td>\n",
       "      <td>-8.037338e+01</td>\n",
       "      <td>7.640000e-01</td>\n",
       "      <td>9.567000e+03</td>\n",
       "      <td>7.600000e+01</td>\n",
       "      <td>7.600000e+01</td>\n",
       "      <td>8.300000e+01</td>\n",
       "      <td>3.001000e+01</td>\n",
       "      <td>1.000000e+01</td>\n",
       "      <td>1.000000e+01</td>\n",
       "      <td>0.000000e+00</td>\n",
       "    </tr>\n",
       "    <tr>\n",
       "      <th>max</th>\n",
       "      <td>4.000000e+00</td>\n",
       "      <td>4.900058e+01</td>\n",
       "      <td>-6.711317e+01</td>\n",
       "      <td>4.907500e+01</td>\n",
       "      <td>-6.710924e+01</td>\n",
       "      <td>1.551860e+02</td>\n",
       "      <td>9.999997e+06</td>\n",
       "      <td>1.960000e+02</td>\n",
       "      <td>1.960000e+02</td>\n",
       "      <td>1.000000e+02</td>\n",
       "      <td>5.890000e+01</td>\n",
       "      <td>1.400000e+02</td>\n",
       "      <td>1.087000e+03</td>\n",
       "      <td>2.400000e+01</td>\n",
       "    </tr>\n",
       "  </tbody>\n",
       "</table>\n",
       "</div>\n",
       "      <button class=\"colab-df-convert\" onclick=\"convertToInteractive('df-62529fc2-cc2c-41ab-b342-6fb15da1e956')\"\n",
       "              title=\"Convert this dataframe to an interactive table.\"\n",
       "              style=\"display:none;\">\n",
       "        \n",
       "  <svg xmlns=\"http://www.w3.org/2000/svg\" height=\"24px\"viewBox=\"0 0 24 24\"\n",
       "       width=\"24px\">\n",
       "    <path d=\"M0 0h24v24H0V0z\" fill=\"none\"/>\n",
       "    <path d=\"M18.56 5.44l.94 2.06.94-2.06 2.06-.94-2.06-.94-.94-2.06-.94 2.06-2.06.94zm-11 1L8.5 8.5l.94-2.06 2.06-.94-2.06-.94L8.5 2.5l-.94 2.06-2.06.94zm10 10l.94 2.06.94-2.06 2.06-.94-2.06-.94-.94-2.06-.94 2.06-2.06.94z\"/><path d=\"M17.41 7.96l-1.37-1.37c-.4-.4-.92-.59-1.43-.59-.52 0-1.04.2-1.43.59L10.3 9.45l-7.72 7.72c-.78.78-.78 2.05 0 2.83L4 21.41c.39.39.9.59 1.41.59.51 0 1.02-.2 1.41-.59l7.78-7.78 2.81-2.81c.8-.78.8-2.07 0-2.86zM5.41 20L4 18.59l7.72-7.72 1.47 1.35L5.41 20z\"/>\n",
       "  </svg>\n",
       "      </button>\n",
       "      \n",
       "  <style>\n",
       "    .colab-df-container {\n",
       "      display:flex;\n",
       "      flex-wrap:wrap;\n",
       "      gap: 12px;\n",
       "    }\n",
       "\n",
       "    .colab-df-convert {\n",
       "      background-color: #E8F0FE;\n",
       "      border: none;\n",
       "      border-radius: 50%;\n",
       "      cursor: pointer;\n",
       "      display: none;\n",
       "      fill: #1967D2;\n",
       "      height: 32px;\n",
       "      padding: 0 0 0 0;\n",
       "      width: 32px;\n",
       "    }\n",
       "\n",
       "    .colab-df-convert:hover {\n",
       "      background-color: #E2EBFA;\n",
       "      box-shadow: 0px 1px 2px rgba(60, 64, 67, 0.3), 0px 1px 3px 1px rgba(60, 64, 67, 0.15);\n",
       "      fill: #174EA6;\n",
       "    }\n",
       "\n",
       "    [theme=dark] .colab-df-convert {\n",
       "      background-color: #3B4455;\n",
       "      fill: #D2E3FC;\n",
       "    }\n",
       "\n",
       "    [theme=dark] .colab-df-convert:hover {\n",
       "      background-color: #434B5C;\n",
       "      box-shadow: 0px 1px 3px 1px rgba(0, 0, 0, 0.15);\n",
       "      filter: drop-shadow(0px 1px 2px rgba(0, 0, 0, 0.3));\n",
       "      fill: #FFFFFF;\n",
       "    }\n",
       "  </style>\n",
       "\n",
       "      <script>\n",
       "        const buttonEl =\n",
       "          document.querySelector('#df-62529fc2-cc2c-41ab-b342-6fb15da1e956 button.colab-df-convert');\n",
       "        buttonEl.style.display =\n",
       "          google.colab.kernel.accessAllowed ? 'block' : 'none';\n",
       "\n",
       "        async function convertToInteractive(key) {\n",
       "          const element = document.querySelector('#df-62529fc2-cc2c-41ab-b342-6fb15da1e956');\n",
       "          const dataTable =\n",
       "            await google.colab.kernel.invokeFunction('convertToInteractive',\n",
       "                                                     [key], {});\n",
       "          if (!dataTable) return;\n",
       "\n",
       "          const docLinkHtml = 'Like what you see? Visit the ' +\n",
       "            '<a target=\"_blank\" href=https://colab.research.google.com/notebooks/data_table.ipynb>data table notebook</a>'\n",
       "            + ' to learn more about interactive tables.';\n",
       "          element.innerHTML = '';\n",
       "          dataTable['output_type'] = 'display_data';\n",
       "          await google.colab.output.renderOutput(dataTable, element);\n",
       "          const docLink = document.createElement('div');\n",
       "          docLink.innerHTML = docLinkHtml;\n",
       "          element.appendChild(docLink);\n",
       "        }\n",
       "      </script>\n",
       "    </div>\n",
       "  </div>\n",
       "  "
      ],
      "text/plain": [
       "           Severity     Start_Lat     Start_Lng       End_Lat       End_Lng  \\\n",
       "count  2.845342e+06  2.845342e+06  2.845342e+06  2.845342e+06  2.845342e+06   \n",
       "mean   2.137572e+00  3.624520e+01 -9.711463e+01  3.624532e+01 -9.711439e+01   \n",
       "std    4.787216e-01  5.363797e+00  1.831782e+01  5.363873e+00  1.831763e+01   \n",
       "min    1.000000e+00  2.456603e+01 -1.245481e+02  2.456601e+01 -1.245457e+02   \n",
       "25%    2.000000e+00  3.344517e+01 -1.180331e+02  3.344628e+01 -1.180333e+02   \n",
       "50%    2.000000e+00  3.609861e+01 -9.241808e+01  3.609799e+01 -9.241772e+01   \n",
       "75%    2.000000e+00  4.016024e+01 -8.037243e+01  4.016105e+01 -8.037338e+01   \n",
       "max    4.000000e+00  4.900058e+01 -6.711317e+01  4.907500e+01 -6.710924e+01   \n",
       "\n",
       "       Distance(mi)        Number  Temperature(F)  Wind_Chill(F)  \\\n",
       "count  2.845342e+06  1.101431e+06    2.776068e+06   2.375699e+06   \n",
       "mean   7.026779e-01  8.089408e+03    6.179356e+01   5.965823e+01   \n",
       "std    1.560361e+00  1.836009e+04    1.862263e+01   2.116097e+01   \n",
       "min    0.000000e+00  0.000000e+00   -8.900000e+01  -8.900000e+01   \n",
       "25%    5.200000e-02  1.270000e+03    5.000000e+01   4.600000e+01   \n",
       "50%    2.440000e-01  4.007000e+03    6.400000e+01   6.300000e+01   \n",
       "75%    7.640000e-01  9.567000e+03    7.600000e+01   7.600000e+01   \n",
       "max    1.551860e+02  9.999997e+06    1.960000e+02   1.960000e+02   \n",
       "\n",
       "        Humidity(%)  Pressure(in)  Visibility(mi)  Wind_Speed(mph)  \\\n",
       "count  2.772250e+06  2.786142e+06    2.774796e+06     2.687398e+06   \n",
       "mean   6.436545e+01  2.947234e+01    9.099391e+00     7.395044e+00   \n",
       "std    2.287457e+01  1.045286e+00    2.717546e+00     5.527454e+00   \n",
       "min    1.000000e+00  0.000000e+00    0.000000e+00     0.000000e+00   \n",
       "25%    4.800000e+01  2.931000e+01    1.000000e+01     3.500000e+00   \n",
       "50%    6.700000e+01  2.982000e+01    1.000000e+01     7.000000e+00   \n",
       "75%    8.300000e+01  3.001000e+01    1.000000e+01     1.000000e+01   \n",
       "max    1.000000e+02  5.890000e+01    1.400000e+02     1.087000e+03   \n",
       "\n",
       "       Precipitation(in)  \n",
       "count       2.295884e+06  \n",
       "mean        7.016940e-03  \n",
       "std         9.348831e-02  \n",
       "min         0.000000e+00  \n",
       "25%         0.000000e+00  \n",
       "50%         0.000000e+00  \n",
       "75%         0.000000e+00  \n",
       "max         2.400000e+01  "
      ]
     },
     "execution_count": 17,
     "metadata": {},
     "output_type": "execute_result"
    }
   ],
   "source": [
    "#it will return the relevent statistical information of the integer columns like mean,count,std,min... etc\n",
    "df.describe()"
   ]
  },
  {
   "cell_type": "code",
   "execution_count": 20,
   "metadata": {
    "colab": {
     "base_uri": "https://localhost:8080/"
    },
    "executionInfo": {
     "elapsed": 380,
     "status": "ok",
     "timestamp": 1662392408793,
     "user": {
      "displayName": "sunny pratap",
      "userId": "11288485692058842255"
     },
     "user_tz": -330
    },
    "id": "hPiLEdxsRj3N",
    "outputId": "e7a3e820-577f-45ac-b0d2-363bc5de6079"
   },
   "outputs": [
    {
     "data": {
      "text/plain": [
       "14"
      ]
     },
     "execution_count": 20,
     "metadata": {},
     "output_type": "execute_result"
    }
   ],
   "source": [
    "#method to find the number of numeric columns in the table/ csv file\n",
    "numerics = ['int16', 'int32', 'int64', 'float16', 'float32', 'float64']\n",
    "\n",
    "newdf = df.select_dtypes(include=numerics)\n",
    "len(newdf.columns)\n"
   ]
  },
  {
   "cell_type": "code",
   "execution_count": 25,
   "metadata": {
    "colab": {
     "base_uri": "https://localhost:8080/",
     "height": 488
    },
    "executionInfo": {
     "elapsed": 3306,
     "status": "ok",
     "timestamp": 1662392663067,
     "user": {
      "displayName": "sunny pratap",
      "userId": "11288485692058842255"
     },
     "user_tz": -330
    },
    "id": "ZZU2XFTYRj0f",
    "outputId": "5d73fd4b-8503-485b-b828-ecf3d6ecc78e"
   },
   "outputs": [
    {
     "data": {
      "text/html": [
       "\n",
       "  <div id=\"df-7756db53-0f53-4d59-8225-526ea30fe87b\">\n",
       "    <div class=\"colab-df-container\">\n",
       "      <div>\n",
       "<style scoped>\n",
       "    .dataframe tbody tr th:only-of-type {\n",
       "        vertical-align: middle;\n",
       "    }\n",
       "\n",
       "    .dataframe tbody tr th {\n",
       "        vertical-align: top;\n",
       "    }\n",
       "\n",
       "    .dataframe thead th {\n",
       "        text-align: right;\n",
       "    }\n",
       "</style>\n",
       "<table border=\"1\" class=\"dataframe\">\n",
       "  <thead>\n",
       "    <tr style=\"text-align: right;\">\n",
       "      <th></th>\n",
       "      <th>ID</th>\n",
       "      <th>Severity</th>\n",
       "      <th>Start_Time</th>\n",
       "      <th>End_Time</th>\n",
       "      <th>Start_Lat</th>\n",
       "      <th>Start_Lng</th>\n",
       "      <th>End_Lat</th>\n",
       "      <th>End_Lng</th>\n",
       "      <th>Distance(mi)</th>\n",
       "      <th>Description</th>\n",
       "      <th>...</th>\n",
       "      <th>Roundabout</th>\n",
       "      <th>Station</th>\n",
       "      <th>Stop</th>\n",
       "      <th>Traffic_Calming</th>\n",
       "      <th>Traffic_Signal</th>\n",
       "      <th>Turning_Loop</th>\n",
       "      <th>Sunrise_Sunset</th>\n",
       "      <th>Civil_Twilight</th>\n",
       "      <th>Nautical_Twilight</th>\n",
       "      <th>Astronomical_Twilight</th>\n",
       "    </tr>\n",
       "  </thead>\n",
       "  <tbody>\n",
       "    <tr>\n",
       "      <th>0</th>\n",
       "      <td>False</td>\n",
       "      <td>False</td>\n",
       "      <td>False</td>\n",
       "      <td>False</td>\n",
       "      <td>False</td>\n",
       "      <td>False</td>\n",
       "      <td>False</td>\n",
       "      <td>False</td>\n",
       "      <td>False</td>\n",
       "      <td>False</td>\n",
       "      <td>...</td>\n",
       "      <td>False</td>\n",
       "      <td>False</td>\n",
       "      <td>False</td>\n",
       "      <td>False</td>\n",
       "      <td>False</td>\n",
       "      <td>False</td>\n",
       "      <td>False</td>\n",
       "      <td>False</td>\n",
       "      <td>False</td>\n",
       "      <td>False</td>\n",
       "    </tr>\n",
       "    <tr>\n",
       "      <th>1</th>\n",
       "      <td>False</td>\n",
       "      <td>False</td>\n",
       "      <td>False</td>\n",
       "      <td>False</td>\n",
       "      <td>False</td>\n",
       "      <td>False</td>\n",
       "      <td>False</td>\n",
       "      <td>False</td>\n",
       "      <td>False</td>\n",
       "      <td>False</td>\n",
       "      <td>...</td>\n",
       "      <td>False</td>\n",
       "      <td>False</td>\n",
       "      <td>False</td>\n",
       "      <td>False</td>\n",
       "      <td>False</td>\n",
       "      <td>False</td>\n",
       "      <td>False</td>\n",
       "      <td>False</td>\n",
       "      <td>False</td>\n",
       "      <td>False</td>\n",
       "    </tr>\n",
       "    <tr>\n",
       "      <th>2</th>\n",
       "      <td>False</td>\n",
       "      <td>False</td>\n",
       "      <td>False</td>\n",
       "      <td>False</td>\n",
       "      <td>False</td>\n",
       "      <td>False</td>\n",
       "      <td>False</td>\n",
       "      <td>False</td>\n",
       "      <td>False</td>\n",
       "      <td>False</td>\n",
       "      <td>...</td>\n",
       "      <td>False</td>\n",
       "      <td>False</td>\n",
       "      <td>False</td>\n",
       "      <td>False</td>\n",
       "      <td>False</td>\n",
       "      <td>False</td>\n",
       "      <td>False</td>\n",
       "      <td>False</td>\n",
       "      <td>False</td>\n",
       "      <td>False</td>\n",
       "    </tr>\n",
       "    <tr>\n",
       "      <th>3</th>\n",
       "      <td>False</td>\n",
       "      <td>False</td>\n",
       "      <td>False</td>\n",
       "      <td>False</td>\n",
       "      <td>False</td>\n",
       "      <td>False</td>\n",
       "      <td>False</td>\n",
       "      <td>False</td>\n",
       "      <td>False</td>\n",
       "      <td>False</td>\n",
       "      <td>...</td>\n",
       "      <td>False</td>\n",
       "      <td>False</td>\n",
       "      <td>False</td>\n",
       "      <td>False</td>\n",
       "      <td>False</td>\n",
       "      <td>False</td>\n",
       "      <td>False</td>\n",
       "      <td>False</td>\n",
       "      <td>False</td>\n",
       "      <td>False</td>\n",
       "    </tr>\n",
       "    <tr>\n",
       "      <th>4</th>\n",
       "      <td>False</td>\n",
       "      <td>False</td>\n",
       "      <td>False</td>\n",
       "      <td>False</td>\n",
       "      <td>False</td>\n",
       "      <td>False</td>\n",
       "      <td>False</td>\n",
       "      <td>False</td>\n",
       "      <td>False</td>\n",
       "      <td>False</td>\n",
       "      <td>...</td>\n",
       "      <td>False</td>\n",
       "      <td>False</td>\n",
       "      <td>False</td>\n",
       "      <td>False</td>\n",
       "      <td>False</td>\n",
       "      <td>False</td>\n",
       "      <td>False</td>\n",
       "      <td>False</td>\n",
       "      <td>False</td>\n",
       "      <td>False</td>\n",
       "    </tr>\n",
       "    <tr>\n",
       "      <th>...</th>\n",
       "      <td>...</td>\n",
       "      <td>...</td>\n",
       "      <td>...</td>\n",
       "      <td>...</td>\n",
       "      <td>...</td>\n",
       "      <td>...</td>\n",
       "      <td>...</td>\n",
       "      <td>...</td>\n",
       "      <td>...</td>\n",
       "      <td>...</td>\n",
       "      <td>...</td>\n",
       "      <td>...</td>\n",
       "      <td>...</td>\n",
       "      <td>...</td>\n",
       "      <td>...</td>\n",
       "      <td>...</td>\n",
       "      <td>...</td>\n",
       "      <td>...</td>\n",
       "      <td>...</td>\n",
       "      <td>...</td>\n",
       "      <td>...</td>\n",
       "    </tr>\n",
       "    <tr>\n",
       "      <th>2845337</th>\n",
       "      <td>False</td>\n",
       "      <td>False</td>\n",
       "      <td>False</td>\n",
       "      <td>False</td>\n",
       "      <td>False</td>\n",
       "      <td>False</td>\n",
       "      <td>False</td>\n",
       "      <td>False</td>\n",
       "      <td>False</td>\n",
       "      <td>False</td>\n",
       "      <td>...</td>\n",
       "      <td>False</td>\n",
       "      <td>False</td>\n",
       "      <td>False</td>\n",
       "      <td>False</td>\n",
       "      <td>False</td>\n",
       "      <td>False</td>\n",
       "      <td>False</td>\n",
       "      <td>False</td>\n",
       "      <td>False</td>\n",
       "      <td>False</td>\n",
       "    </tr>\n",
       "    <tr>\n",
       "      <th>2845338</th>\n",
       "      <td>False</td>\n",
       "      <td>False</td>\n",
       "      <td>False</td>\n",
       "      <td>False</td>\n",
       "      <td>False</td>\n",
       "      <td>False</td>\n",
       "      <td>False</td>\n",
       "      <td>False</td>\n",
       "      <td>False</td>\n",
       "      <td>False</td>\n",
       "      <td>...</td>\n",
       "      <td>False</td>\n",
       "      <td>False</td>\n",
       "      <td>False</td>\n",
       "      <td>False</td>\n",
       "      <td>False</td>\n",
       "      <td>False</td>\n",
       "      <td>False</td>\n",
       "      <td>False</td>\n",
       "      <td>False</td>\n",
       "      <td>False</td>\n",
       "    </tr>\n",
       "    <tr>\n",
       "      <th>2845339</th>\n",
       "      <td>False</td>\n",
       "      <td>False</td>\n",
       "      <td>False</td>\n",
       "      <td>False</td>\n",
       "      <td>False</td>\n",
       "      <td>False</td>\n",
       "      <td>False</td>\n",
       "      <td>False</td>\n",
       "      <td>False</td>\n",
       "      <td>False</td>\n",
       "      <td>...</td>\n",
       "      <td>False</td>\n",
       "      <td>False</td>\n",
       "      <td>False</td>\n",
       "      <td>False</td>\n",
       "      <td>False</td>\n",
       "      <td>False</td>\n",
       "      <td>False</td>\n",
       "      <td>False</td>\n",
       "      <td>False</td>\n",
       "      <td>False</td>\n",
       "    </tr>\n",
       "    <tr>\n",
       "      <th>2845340</th>\n",
       "      <td>False</td>\n",
       "      <td>False</td>\n",
       "      <td>False</td>\n",
       "      <td>False</td>\n",
       "      <td>False</td>\n",
       "      <td>False</td>\n",
       "      <td>False</td>\n",
       "      <td>False</td>\n",
       "      <td>False</td>\n",
       "      <td>False</td>\n",
       "      <td>...</td>\n",
       "      <td>False</td>\n",
       "      <td>False</td>\n",
       "      <td>False</td>\n",
       "      <td>False</td>\n",
       "      <td>False</td>\n",
       "      <td>False</td>\n",
       "      <td>False</td>\n",
       "      <td>False</td>\n",
       "      <td>False</td>\n",
       "      <td>False</td>\n",
       "    </tr>\n",
       "    <tr>\n",
       "      <th>2845341</th>\n",
       "      <td>False</td>\n",
       "      <td>False</td>\n",
       "      <td>False</td>\n",
       "      <td>False</td>\n",
       "      <td>False</td>\n",
       "      <td>False</td>\n",
       "      <td>False</td>\n",
       "      <td>False</td>\n",
       "      <td>False</td>\n",
       "      <td>False</td>\n",
       "      <td>...</td>\n",
       "      <td>False</td>\n",
       "      <td>False</td>\n",
       "      <td>False</td>\n",
       "      <td>False</td>\n",
       "      <td>False</td>\n",
       "      <td>False</td>\n",
       "      <td>False</td>\n",
       "      <td>False</td>\n",
       "      <td>False</td>\n",
       "      <td>False</td>\n",
       "    </tr>\n",
       "  </tbody>\n",
       "</table>\n",
       "<p>2845342 rows × 47 columns</p>\n",
       "</div>\n",
       "      <button class=\"colab-df-convert\" onclick=\"convertToInteractive('df-7756db53-0f53-4d59-8225-526ea30fe87b')\"\n",
       "              title=\"Convert this dataframe to an interactive table.\"\n",
       "              style=\"display:none;\">\n",
       "        \n",
       "  <svg xmlns=\"http://www.w3.org/2000/svg\" height=\"24px\"viewBox=\"0 0 24 24\"\n",
       "       width=\"24px\">\n",
       "    <path d=\"M0 0h24v24H0V0z\" fill=\"none\"/>\n",
       "    <path d=\"M18.56 5.44l.94 2.06.94-2.06 2.06-.94-2.06-.94-.94-2.06-.94 2.06-2.06.94zm-11 1L8.5 8.5l.94-2.06 2.06-.94-2.06-.94L8.5 2.5l-.94 2.06-2.06.94zm10 10l.94 2.06.94-2.06 2.06-.94-2.06-.94-.94-2.06-.94 2.06-2.06.94z\"/><path d=\"M17.41 7.96l-1.37-1.37c-.4-.4-.92-.59-1.43-.59-.52 0-1.04.2-1.43.59L10.3 9.45l-7.72 7.72c-.78.78-.78 2.05 0 2.83L4 21.41c.39.39.9.59 1.41.59.51 0 1.02-.2 1.41-.59l7.78-7.78 2.81-2.81c.8-.78.8-2.07 0-2.86zM5.41 20L4 18.59l7.72-7.72 1.47 1.35L5.41 20z\"/>\n",
       "  </svg>\n",
       "      </button>\n",
       "      \n",
       "  <style>\n",
       "    .colab-df-container {\n",
       "      display:flex;\n",
       "      flex-wrap:wrap;\n",
       "      gap: 12px;\n",
       "    }\n",
       "\n",
       "    .colab-df-convert {\n",
       "      background-color: #E8F0FE;\n",
       "      border: none;\n",
       "      border-radius: 50%;\n",
       "      cursor: pointer;\n",
       "      display: none;\n",
       "      fill: #1967D2;\n",
       "      height: 32px;\n",
       "      padding: 0 0 0 0;\n",
       "      width: 32px;\n",
       "    }\n",
       "\n",
       "    .colab-df-convert:hover {\n",
       "      background-color: #E2EBFA;\n",
       "      box-shadow: 0px 1px 2px rgba(60, 64, 67, 0.3), 0px 1px 3px 1px rgba(60, 64, 67, 0.15);\n",
       "      fill: #174EA6;\n",
       "    }\n",
       "\n",
       "    [theme=dark] .colab-df-convert {\n",
       "      background-color: #3B4455;\n",
       "      fill: #D2E3FC;\n",
       "    }\n",
       "\n",
       "    [theme=dark] .colab-df-convert:hover {\n",
       "      background-color: #434B5C;\n",
       "      box-shadow: 0px 1px 3px 1px rgba(0, 0, 0, 0.15);\n",
       "      filter: drop-shadow(0px 1px 2px rgba(0, 0, 0, 0.3));\n",
       "      fill: #FFFFFF;\n",
       "    }\n",
       "  </style>\n",
       "\n",
       "      <script>\n",
       "        const buttonEl =\n",
       "          document.querySelector('#df-7756db53-0f53-4d59-8225-526ea30fe87b button.colab-df-convert');\n",
       "        buttonEl.style.display =\n",
       "          google.colab.kernel.accessAllowed ? 'block' : 'none';\n",
       "\n",
       "        async function convertToInteractive(key) {\n",
       "          const element = document.querySelector('#df-7756db53-0f53-4d59-8225-526ea30fe87b');\n",
       "          const dataTable =\n",
       "            await google.colab.kernel.invokeFunction('convertToInteractive',\n",
       "                                                     [key], {});\n",
       "          if (!dataTable) return;\n",
       "\n",
       "          const docLinkHtml = 'Like what you see? Visit the ' +\n",
       "            '<a target=\"_blank\" href=https://colab.research.google.com/notebooks/data_table.ipynb>data table notebook</a>'\n",
       "            + ' to learn more about interactive tables.';\n",
       "          element.innerHTML = '';\n",
       "          dataTable['output_type'] = 'display_data';\n",
       "          await google.colab.output.renderOutput(dataTable, element);\n",
       "          const docLink = document.createElement('div');\n",
       "          docLink.innerHTML = docLinkHtml;\n",
       "          element.appendChild(docLink);\n",
       "        }\n",
       "      </script>\n",
       "    </div>\n",
       "  </div>\n",
       "  "
      ],
      "text/plain": [
       "            ID  Severity  Start_Time  End_Time  Start_Lat  Start_Lng  End_Lat  \\\n",
       "0        False     False       False     False      False      False    False   \n",
       "1        False     False       False     False      False      False    False   \n",
       "2        False     False       False     False      False      False    False   \n",
       "3        False     False       False     False      False      False    False   \n",
       "4        False     False       False     False      False      False    False   \n",
       "...        ...       ...         ...       ...        ...        ...      ...   \n",
       "2845337  False     False       False     False      False      False    False   \n",
       "2845338  False     False       False     False      False      False    False   \n",
       "2845339  False     False       False     False      False      False    False   \n",
       "2845340  False     False       False     False      False      False    False   \n",
       "2845341  False     False       False     False      False      False    False   \n",
       "\n",
       "         End_Lng  Distance(mi)  Description  ...  Roundabout  Station   Stop  \\\n",
       "0          False         False        False  ...       False    False  False   \n",
       "1          False         False        False  ...       False    False  False   \n",
       "2          False         False        False  ...       False    False  False   \n",
       "3          False         False        False  ...       False    False  False   \n",
       "4          False         False        False  ...       False    False  False   \n",
       "...          ...           ...          ...  ...         ...      ...    ...   \n",
       "2845337    False         False        False  ...       False    False  False   \n",
       "2845338    False         False        False  ...       False    False  False   \n",
       "2845339    False         False        False  ...       False    False  False   \n",
       "2845340    False         False        False  ...       False    False  False   \n",
       "2845341    False         False        False  ...       False    False  False   \n",
       "\n",
       "         Traffic_Calming  Traffic_Signal  Turning_Loop  Sunrise_Sunset  \\\n",
       "0                  False           False         False           False   \n",
       "1                  False           False         False           False   \n",
       "2                  False           False         False           False   \n",
       "3                  False           False         False           False   \n",
       "4                  False           False         False           False   \n",
       "...                  ...             ...           ...             ...   \n",
       "2845337            False           False         False           False   \n",
       "2845338            False           False         False           False   \n",
       "2845339            False           False         False           False   \n",
       "2845340            False           False         False           False   \n",
       "2845341            False           False         False           False   \n",
       "\n",
       "         Civil_Twilight  Nautical_Twilight  Astronomical_Twilight  \n",
       "0                 False              False                  False  \n",
       "1                 False              False                  False  \n",
       "2                 False              False                  False  \n",
       "3                 False              False                  False  \n",
       "4                 False              False                  False  \n",
       "...                 ...                ...                    ...  \n",
       "2845337           False              False                  False  \n",
       "2845338           False              False                  False  \n",
       "2845339           False              False                  False  \n",
       "2845340           False              False                  False  \n",
       "2845341           False              False                  False  \n",
       "\n",
       "[2845342 rows x 47 columns]"
      ]
     },
     "execution_count": 25,
     "metadata": {},
     "output_type": "execute_result"
    }
   ],
   "source": [
    "#it will return table with boolean, if values is not null it will return false , it null it will return true\n",
    "df.isna()\n"
   ]
  },
  {
   "cell_type": "code",
   "execution_count": 24,
   "metadata": {
    "colab": {
     "base_uri": "https://localhost:8080/"
    },
    "executionInfo": {
     "elapsed": 2807,
     "status": "ok",
     "timestamp": 1662392655593,
     "user": {
      "displayName": "sunny pratap",
      "userId": "11288485692058842255"
     },
     "user_tz": -330
    },
    "id": "ns91OY-1Rjxp",
    "outputId": "73f13c50-3238-47c2-c102-c94165705660"
   },
   "outputs": [
    {
     "data": {
      "text/plain": [
       "ID                             0\n",
       "Severity                       0\n",
       "Start_Time                     0\n",
       "End_Time                       0\n",
       "Start_Lat                      0\n",
       "Start_Lng                      0\n",
       "End_Lat                        0\n",
       "End_Lng                        0\n",
       "Distance(mi)                   0\n",
       "Description                    0\n",
       "Number                   1743911\n",
       "Street                         2\n",
       "Side                           0\n",
       "City                         137\n",
       "County                         0\n",
       "State                          0\n",
       "Zipcode                     1319\n",
       "Country                        0\n",
       "Timezone                    3659\n",
       "Airport_Code                9549\n",
       "Weather_Timestamp          50736\n",
       "Temperature(F)             69274\n",
       "Wind_Chill(F)             469643\n",
       "Humidity(%)                73092\n",
       "Pressure(in)               59200\n",
       "Visibility(mi)             70546\n",
       "Wind_Direction             73775\n",
       "Wind_Speed(mph)           157944\n",
       "Precipitation(in)         549458\n",
       "Weather_Condition          70636\n",
       "Amenity                        0\n",
       "Bump                           0\n",
       "Crossing                       0\n",
       "Give_Way                       0\n",
       "Junction                       0\n",
       "No_Exit                        0\n",
       "Railway                        0\n",
       "Roundabout                     0\n",
       "Station                        0\n",
       "Stop                           0\n",
       "Traffic_Calming                0\n",
       "Traffic_Signal                 0\n",
       "Turning_Loop                   0\n",
       "Sunrise_Sunset              2867\n",
       "Civil_Twilight              2867\n",
       "Nautical_Twilight           2867\n",
       "Astronomical_Twilight       2867\n",
       "dtype: int64"
      ]
     },
     "execution_count": 24,
     "metadata": {},
     "output_type": "execute_result"
    }
   ],
   "source": [
    "#it will return the total sum number of null values in each columns\n"
   ]
  },
  {
   "cell_type": "markdown",
   "metadata": {
    "id": "YcpSDmQYU91P"
   },
   "source": [
    "Percentage of missing columns per columns"
   ]
  },
  {
   "cell_type": "code",
   "execution_count": 28,
   "metadata": {
    "colab": {
     "base_uri": "https://localhost:8080/"
    },
    "executionInfo": {
     "elapsed": 3393,
     "status": "ok",
     "timestamp": 1662392792745,
     "user": {
      "displayName": "sunny pratap",
      "userId": "11288485692058842255"
     },
     "user_tz": -330
    },
    "id": "xnY3TOuFRjt_",
    "outputId": "9607d0cf-78d8-426c-bb37-73addc213ddd"
   },
   "outputs": [
    {
     "data": {
      "text/plain": [
       "Number                   1743911\n",
       "Precipitation(in)         549458\n",
       "Wind_Chill(F)             469643\n",
       "Wind_Speed(mph)           157944\n",
       "Wind_Direction             73775\n",
       "Humidity(%)                73092\n",
       "Weather_Condition          70636\n",
       "Visibility(mi)             70546\n",
       "Temperature(F)             69274\n",
       "Pressure(in)               59200\n",
       "Weather_Timestamp          50736\n",
       "Airport_Code                9549\n",
       "Timezone                    3659\n",
       "Nautical_Twilight           2867\n",
       "Civil_Twilight              2867\n",
       "Sunrise_Sunset              2867\n",
       "Astronomical_Twilight       2867\n",
       "Zipcode                     1319\n",
       "City                         137\n",
       "Street                         2\n",
       "Country                        0\n",
       "Junction                       0\n",
       "Start_Time                     0\n",
       "End_Time                       0\n",
       "Start_Lat                      0\n",
       "Turning_Loop                   0\n",
       "Traffic_Signal                 0\n",
       "Traffic_Calming                0\n",
       "Stop                           0\n",
       "Station                        0\n",
       "Roundabout                     0\n",
       "Railway                        0\n",
       "No_Exit                        0\n",
       "Crossing                       0\n",
       "Give_Way                       0\n",
       "Bump                           0\n",
       "Amenity                        0\n",
       "Start_Lng                      0\n",
       "End_Lat                        0\n",
       "End_Lng                        0\n",
       "Distance(mi)                   0\n",
       "Description                    0\n",
       "Severity                       0\n",
       "Side                           0\n",
       "County                         0\n",
       "State                          0\n",
       "ID                             0\n",
       "dtype: int64"
      ]
     },
     "execution_count": 28,
     "metadata": {},
     "output_type": "execute_result"
    }
   ],
   "source": [
    "#it will sort the output of null values per columns in descending order\n",
    "df.isna().sum().sort_values(ascending=False)"
   ]
  },
  {
   "cell_type": "code",
   "execution_count": 31,
   "metadata": {
    "colab": {
     "base_uri": "https://localhost:8080/"
    },
    "executionInfo": {
     "elapsed": 3093,
     "status": "ok",
     "timestamp": 1662393121741,
     "user": {
      "displayName": "sunny pratap",
      "userId": "11288485692058842255"
     },
     "user_tz": -330
    },
    "id": "8C4Ski2cRjrr",
    "outputId": "9c5beec6-657d-4453-ff7b-512049b4a2c7"
   },
   "outputs": [
    {
     "data": {
      "text/plain": [
       "Number                   61.290031\n",
       "Precipitation(in)        19.310789\n",
       "Wind_Chill(F)            16.505678\n",
       "Wind_Speed(mph)           5.550967\n",
       "Wind_Direction            2.592834\n",
       "Humidity(%)               2.568830\n",
       "Weather_Condition         2.482514\n",
       "Visibility(mi)            2.479350\n",
       "Temperature(F)            2.434646\n",
       "Pressure(in)              2.080593\n",
       "Weather_Timestamp         1.783125\n",
       "Airport_Code              0.335601\n",
       "Timezone                  0.128596\n",
       "Nautical_Twilight         0.100761\n",
       "Civil_Twilight            0.100761\n",
       "Sunrise_Sunset            0.100761\n",
       "Astronomical_Twilight     0.100761\n",
       "Zipcode                   0.046356\n",
       "City                      0.004815\n",
       "Street                    0.000070\n",
       "Country                   0.000000\n",
       "Junction                  0.000000\n",
       "Start_Time                0.000000\n",
       "End_Time                  0.000000\n",
       "Start_Lat                 0.000000\n",
       "Turning_Loop              0.000000\n",
       "Traffic_Signal            0.000000\n",
       "Traffic_Calming           0.000000\n",
       "Stop                      0.000000\n",
       "Station                   0.000000\n",
       "Roundabout                0.000000\n",
       "Railway                   0.000000\n",
       "No_Exit                   0.000000\n",
       "Crossing                  0.000000\n",
       "Give_Way                  0.000000\n",
       "Bump                      0.000000\n",
       "Amenity                   0.000000\n",
       "Start_Lng                 0.000000\n",
       "End_Lat                   0.000000\n",
       "End_Lng                   0.000000\n",
       "Distance(mi)              0.000000\n",
       "Description               0.000000\n",
       "Severity                  0.000000\n",
       "Side                      0.000000\n",
       "County                    0.000000\n",
       "State                     0.000000\n",
       "ID                        0.000000\n",
       "dtype: float64"
      ]
     },
     "execution_count": 31,
     "metadata": {},
     "output_type": "execute_result"
    }
   ],
   "source": [
    "#it will sort the output of null values per columns in descending order in percentage\n",
    "missing_percentages=(df.isna().sum().sort_values(ascending=False)/len(df))*100\n",
    "missing_percentages"
   ]
  },
  {
   "cell_type": "code",
   "execution_count": 34,
   "metadata": {
    "colab": {
     "base_uri": "https://localhost:8080/"
    },
    "executionInfo": {
     "elapsed": 386,
     "status": "ok",
     "timestamp": 1662393449061,
     "user": {
      "displayName": "sunny pratap",
      "userId": "11288485692058842255"
     },
     "user_tz": -330
    },
    "id": "t3apycYoXbCp",
    "outputId": "f9b1b424-3123-44a1-ae8b-46d2de9e930c"
   },
   "outputs": [
    {
     "data": {
      "text/plain": [
       "Number                   61.290031\n",
       "Precipitation(in)        19.310789\n",
       "Wind_Chill(F)            16.505678\n",
       "Wind_Speed(mph)           5.550967\n",
       "Wind_Direction            2.592834\n",
       "Humidity(%)               2.568830\n",
       "Weather_Condition         2.482514\n",
       "Visibility(mi)            2.479350\n",
       "Temperature(F)            2.434646\n",
       "Pressure(in)              2.080593\n",
       "Weather_Timestamp         1.783125\n",
       "Airport_Code              0.335601\n",
       "Timezone                  0.128596\n",
       "Nautical_Twilight         0.100761\n",
       "Civil_Twilight            0.100761\n",
       "Sunrise_Sunset            0.100761\n",
       "Astronomical_Twilight     0.100761\n",
       "Zipcode                   0.046356\n",
       "City                      0.004815\n",
       "Street                    0.000070\n",
       "dtype: float64"
      ]
     },
     "execution_count": 34,
     "metadata": {},
     "output_type": "execute_result"
    }
   ],
   "source": [
    "#it will return the non zero values, that is % we have found in earlier line of code\n",
    "missing_percentages[missing_percentages != 0]"
   ]
  },
  {
   "cell_type": "code",
   "execution_count": 35,
   "metadata": {
    "colab": {
     "base_uri": "https://localhost:8080/",
     "height": 283
    },
    "executionInfo": {
     "elapsed": 466,
     "status": "ok",
     "timestamp": 1662393472836,
     "user": {
      "displayName": "sunny pratap",
      "userId": "11288485692058842255"
     },
     "user_tz": -330
    },
    "id": "F3JCWCQ1XzJq",
    "outputId": "b4033ddf-7e75-4688-c646-5e40aeb05d96"
   },
   "outputs": [
    {
     "data": {
      "text/plain": [
       "<matplotlib.axes._subplots.AxesSubplot at 0x7f0dd7bfd450>"
      ]
     },
     "execution_count": 35,
     "metadata": {},
     "output_type": "execute_result"
    },
    {
     "data": {
      "image/png": "[encoded data removed]",
      "text/plain": [
       "<Figure size 432x288 with 1 Axes>"
      ]
     },
     "metadata": {
      "needs_background": "light"
     },
     "output_type": "display_data"
    }
   ],
   "source": [
    "# ways to plot in pandas\n",
    "    # kind:str\n",
    "    # The kind of plot to produce:\n",
    "\n",
    "    # ‘line’ : line plot (default)\n",
    "\n",
    "    # ‘bar’ : vertical bar plot\n",
    "\n",
    "    # ‘barh’ : horizontal bar plot\n",
    "\n",
    "    # ‘hist’ : histogram\n",
    "\n",
    "    # ‘box’ : boxplot\n",
    "\n",
    "    # ‘kde’ : Kernel Density Estimation plot\n",
    "\n",
    "    # ‘density’ : same as ‘kde’\n",
    "\n",
    "    # ‘area’ : area plot\n",
    "\n",
    "    # ‘pie’ : pie plot\n",
    "\n",
    "    # ‘scatter’ : scatter plot (DataFrame only)\n",
    "\n",
    "    # ‘hexbin’ : hexbin plot (DataFrame only)\n",
    "missing_percentages[missing_percentages != 0].plot() #by default it will plot line chart in this case"
   ]
  },
  {
   "cell_type": "code",
   "execution_count": 42,
   "metadata": {
    "colab": {
     "base_uri": "https://localhost:8080/",
     "height": 283
    },
    "executionInfo": {
     "elapsed": 432,
     "status": "ok",
     "timestamp": 1662399620095,
     "user": {
      "displayName": "sunny pratap",
      "userId": "11288485692058842255"
     },
     "user_tz": -330
    },
    "id": "FMwVjGnKvOlT",
    "outputId": "d0e318c6-1336-418f-8c04-edbbbcc51090"
   },
   "outputs": [
    {
     "data": {
      "text/plain": [
       "<matplotlib.axes._subplots.AxesSubplot at 0x7f0dd5812410>"
      ]
     },
     "execution_count": 42,
     "metadata": {},
     "output_type": "execute_result"
    },
    {
     "data": {
      "image/png": "[encoded data removed]",
      "text/plain": [
       "<Figure size 432x288 with 1 Axes>"
      ]
     },
     "metadata": {
      "needs_background": "light"
     },
     "output_type": "display_data"
    }
   ],
   "source": [
    "missing_percentages[missing_percentages != 0].plot(kind='line')"
   ]
  },
  {
   "cell_type": "code",
   "execution_count": 36,
   "metadata": {
    "colab": {
     "base_uri": "https://localhost:8080/",
     "height": 282
    },
    "executionInfo": {
     "elapsed": 505,
     "status": "ok",
     "timestamp": 1662393500973,
     "user": {
      "displayName": "sunny pratap",
      "userId": "11288485692058842255"
     },
     "user_tz": -330
    },
    "id": "ov2m1jBYRjpW",
    "outputId": "ec6743c9-0c66-42e4-a106-da865bde13bf"
   },
   "outputs": [
    {
     "data": {
      "text/plain": [
       "<matplotlib.axes._subplots.AxesSubplot at 0x7f0dd58d2d10>"
      ]
     },
     "execution_count": 36,
     "metadata": {},
     "output_type": "execute_result"
    },
    {
     "data": {
      "image/png": "[encoded data removed]",
      "text/plain": [
       "<Figure size 432x288 with 1 Axes>"
      ]
     },
     "metadata": {
      "needs_background": "light"
     },
     "output_type": "display_data"
    }
   ],
   "source": [
    "missing_percentages[missing_percentages != 0].plot(kind='barh')"
   ]
  },
  {
   "cell_type": "code",
   "execution_count": 43,
   "metadata": {
    "colab": {
     "base_uri": "https://localhost:8080/",
     "height": 380
    },
    "executionInfo": {
     "elapsed": 828,
     "status": "ok",
     "timestamp": 1662399659697,
     "user": {
      "displayName": "sunny pratap",
      "userId": "11288485692058842255"
     },
     "user_tz": -330
    },
    "id": "ra_9bxFLuUHl",
    "outputId": "b3fc226c-d67a-4574-8047-a5decbb2557b"
   },
   "outputs": [
    {
     "data": {
      "text/plain": [
       "<matplotlib.axes._subplots.AxesSubplot at 0x7f0dd5758e50>"
      ]
     },
     "execution_count": 43,
     "metadata": {},
     "output_type": "execute_result"
    },
    {
     "data": {
      "image/png": "[encoded data removed]",
      "text/plain": [
       "<Figure size 432x288 with 1 Axes>"
      ]
     },
     "metadata": {
      "needs_background": "light"
     },
     "output_type": "display_data"
    }
   ],
   "source": [
    "missing_percentages[missing_percentages != 0].plot(kind='bar')"
   ]
  },
  {
   "cell_type": "code",
   "execution_count": 44,
   "metadata": {
    "colab": {
     "base_uri": "https://localhost:8080/",
     "height": 282
    },
    "executionInfo": {
     "elapsed": 1593,
     "status": "ok",
     "timestamp": 1662399684336,
     "user": {
      "displayName": "sunny pratap",
      "userId": "11288485692058842255"
     },
     "user_tz": -330
    },
    "id": "6_dQibvYvfsD",
    "outputId": "b4eb07b9-45ee-414a-b2d0-aad9e12ac36a"
   },
   "outputs": [
    {
     "data": {
      "text/plain": [
       "<matplotlib.axes._subplots.AxesSubplot at 0x7f0dd56934d0>"
      ]
     },
     "execution_count": 44,
     "metadata": {},
     "output_type": "execute_result"
    },
    {
     "data": {
      "image/png": "[encoded data removed]",
      "text/plain": [
       "<Figure size 432x288 with 1 Axes>"
      ]
     },
     "metadata": {
      "needs_background": "light"
     },
     "output_type": "display_data"
    }
   ],
   "source": [
    "missing_percentages[missing_percentages != 0].plot(kind='density')"
   ]
  },
  {
   "cell_type": "code",
   "execution_count": 46,
   "metadata": {
    "colab": {
     "base_uri": "https://localhost:8080/",
     "height": 283
    },
    "executionInfo": {
     "elapsed": 606,
     "status": "ok",
     "timestamp": 1662399724382,
     "user": {
      "displayName": "sunny pratap",
      "userId": "11288485692058842255"
     },
     "user_tz": -330
    },
    "id": "XinNT8Jfvm-5",
    "outputId": "2615a7c4-afc2-4714-8ef3-112a7eb06b9f"
   },
   "outputs": [
    {
     "data": {
      "text/plain": [
       "<matplotlib.axes._subplots.AxesSubplot at 0x7f0dc9beb290>"
      ]
     },
     "execution_count": 46,
     "metadata": {},
     "output_type": "execute_result"
    },
    {
     "data": {
      "image/png": "[encoded data removed]",
      "text/plain": [
       "<Figure size 432x288 with 1 Axes>"
      ]
     },
     "metadata": {
      "needs_background": "light"
     },
     "output_type": "display_data"
    }
   ],
   "source": [
    "missing_percentages[missing_percentages != 0].plot(kind='area')"
   ]
  },
  {
   "cell_type": "code",
   "execution_count": 45,
   "metadata": {
    "colab": {
     "base_uri": "https://localhost:8080/",
     "height": 265
    },
    "executionInfo": {
     "elapsed": 558,
     "status": "ok",
     "timestamp": 1662399718644,
     "user": {
      "displayName": "sunny pratap",
      "userId": "11288485692058842255"
     },
     "user_tz": -330
    },
    "id": "O3OSk8Qfvmyd",
    "outputId": "3019f5ea-8db2-4696-a2c2-b1da2dcf13d3"
   },
   "outputs": [
    {
     "data": {
      "text/plain": [
       "<matplotlib.axes._subplots.AxesSubplot at 0x7f0dc9c41890>"
      ]
     },
     "execution_count": 45,
     "metadata": {},
     "output_type": "execute_result"
    },
    {
     "data": {
      "image/png": "[encoded data removed]",
      "text/plain": [
       "<Figure size 432x288 with 1 Axes>"
      ]
     },
     "metadata": {},
     "output_type": "display_data"
    }
   ],
   "source": [
    "missing_percentages[missing_percentages != 0].plot(kind='pie')"
   ]
  },
  {
   "cell_type": "markdown",
   "metadata": {
    "id": "WSI8A8eGrWUC"
   },
   "source": [
    "Remove columns that you don't want to use"
   ]
  },
  {
   "cell_type": "code",
   "execution_count": null,
   "metadata": {
    "id": "WtqNffTGRjmu"
   },
   "outputs": [],
   "source": []
  },
  {
   "cell_type": "markdown",
   "metadata": {
    "id": "aIbuzNLPPTXC"
   },
   "source": [
    "##Exploratory Analysis and Visualization\n",
    "\n",
    "Columns we'll analyze:\n",
    "\n",
    "  1.city\n",
    "\n",
    "  2.Start Time\n",
    "\n",
    "  3.Start Lat, Start Lng\n",
    "\n",
    "  4.Temperature\n",
    "\n",
    "  5.Weather Condition"
   ]
  },
  {
   "cell_type": "markdown",
   "metadata": {
    "id": "66mzygIiBzHx"
   },
   "source": [
    "##City\n"
   ]
  },
  {
   "cell_type": "code",
   "execution_count": 37,
   "metadata": {
    "colab": {
     "base_uri": "https://localhost:8080/"
    },
    "executionInfo": {
     "elapsed": 392,
     "status": "ok",
     "timestamp": 1662398667279,
     "user": {
      "displayName": "sunny pratap",
      "userId": "11288485692058842255"
     },
     "user_tz": -330
    },
    "id": "gYOjxLuDrkZz",
    "outputId": "919dc7fe-fc26-4cf6-c0d2-279297eebd8c"
   },
   "outputs": [
    {
     "data": {
      "text/plain": [
       "Index(['ID', 'Severity', 'Start_Time', 'End_Time', 'Start_Lat', 'Start_Lng',\n",
       "       'End_Lat', 'End_Lng', 'Distance(mi)', 'Description', 'Number', 'Street',\n",
       "       'Side', 'City', 'County', 'State', 'Zipcode', 'Country', 'Timezone',\n",
       "       'Airport_Code', 'Weather_Timestamp', 'Temperature(F)', 'Wind_Chill(F)',\n",
       "       'Humidity(%)', 'Pressure(in)', 'Visibility(mi)', 'Wind_Direction',\n",
       "       'Wind_Speed(mph)', 'Precipitation(in)', 'Weather_Condition', 'Amenity',\n",
       "       'Bump', 'Crossing', 'Give_Way', 'Junction', 'No_Exit', 'Railway',\n",
       "       'Roundabout', 'Station', 'Stop', 'Traffic_Calming', 'Traffic_Signal',\n",
       "       'Turning_Loop', 'Sunrise_Sunset', 'Civil_Twilight', 'Nautical_Twilight',\n",
       "       'Astronomical_Twilight'],\n",
       "      dtype='object')"
      ]
     },
     "execution_count": 37,
     "metadata": {},
     "output_type": "execute_result"
    }
   ],
   "source": [
    "# It will return the coumns of the table\n",
    "df.columns"
   ]
  },
  {
   "cell_type": "code",
   "execution_count": 40,
   "metadata": {
    "colab": {
     "base_uri": "https://localhost:8080/"
    },
    "executionInfo": {
     "elapsed": 392,
     "status": "ok",
     "timestamp": 1662398915970,
     "user": {
      "displayName": "sunny pratap",
      "userId": "11288485692058842255"
     },
     "user_tz": -330
    },
    "id": "qhVs4TZBsXpR",
    "outputId": "cc9a878e-25d4-402a-9f00-cd2bbc8a4441"
   },
   "outputs": [
    {
     "data": {
      "text/plain": [
       "11682"
      ]
     },
     "execution_count": 40,
     "metadata": {},
     "output_type": "execute_result"
    }
   ],
   "source": [
    "#it will return the Distint name of cities and return the number of distict cities\n",
    "cities=df.City.unique()\n",
    "len(cities)"
   ]
  },
  {
   "cell_type": "code",
   "execution_count": 52,
   "metadata": {
    "colab": {
     "base_uri": "https://localhost:8080/"
    },
    "executionInfo": {
     "elapsed": 405,
     "status": "ok",
     "timestamp": 1662400010755,
     "user": {
      "displayName": "sunny pratap",
      "userId": "11288485692058842255"
     },
     "user_tz": -330
    },
    "id": "bLZaraiBwgJj",
    "outputId": "40139657-1134-4fc2-8501-728762005fff"
   },
   "outputs": [
    {
     "data": {
      "text/plain": [
       "Miami           106966\n",
       "Los Angeles      68956\n",
       "Orlando          54691\n",
       "Dallas           41979\n",
       "Houston          39448\n",
       "Charlotte        33152\n",
       "Sacramento       32559\n",
       "San Diego        26627\n",
       "Raleigh          22840\n",
       "Minneapolis      22768\n",
       "Portland         20944\n",
       "Nashville        20267\n",
       "Austin           18301\n",
       "Baton Rouge      18182\n",
       "Phoenix          17143\n",
       "Saint Paul       16869\n",
       "New Orleans      16251\n",
       "Atlanta          15622\n",
       "Jacksonville     14967\n",
       "Richmond         14349\n",
       "Name: City, dtype: int64"
      ]
     },
     "execution_count": 52,
     "metadata": {},
     "output_type": "execute_result"
    }
   ],
   "source": [
    "# it will return the number of occurance of any values in a column so we are findind in the column 'City'\n",
    "cities_by_accident = df.City.value_counts()\n",
    "cities_by_accident[:20]"
   ]
  },
  {
   "cell_type": "code",
   "execution_count": 58,
   "metadata": {
    "colab": {
     "base_uri": "https://localhost:8080/"
    },
    "executionInfo": {
     "elapsed": 443,
     "status": "ok",
     "timestamp": 1662402832480,
     "user": {
      "displayName": "sunny pratap",
      "userId": "11288485692058842255"
     },
     "user_tz": -330
    },
    "id": "wueTBNGN7csk",
    "outputId": "76a52bb9-0646-456f-d5aa-153ebf8b0a22"
   },
   "outputs": [
    {
     "data": {
      "text/plain": [
       "pandas.core.series.Series"
      ]
     },
     "execution_count": 58,
     "metadata": {},
     "output_type": "execute_result"
    }
   ],
   "source": [
    "type(cities_by_accident)"
   ]
  },
  {
   "cell_type": "code",
   "execution_count": 55,
   "metadata": {
    "colab": {
     "base_uri": "https://localhost:8080/"
    },
    "executionInfo": {
     "elapsed": 391,
     "status": "ok",
     "timestamp": 1662400278354,
     "user": {
      "displayName": "sunny pratap",
      "userId": "11288485692058842255"
     },
     "user_tz": -330
    },
    "id": "IfwVJO14sXiv",
    "outputId": "950392da-7456-42c7-eb3b-c96345b847e3"
   },
   "outputs": [
    {
     "data": {
      "text/plain": [
       "False"
      ]
     },
     "execution_count": 55,
     "metadata": {},
     "output_type": "execute_result"
    }
   ],
   "source": [
    "#checking whether the particular city is present in the data or not\n",
    "'New York' in df.City\n",
    "'NY' in df.City"
   ]
  },
  {
   "cell_type": "code",
   "execution_count": 56,
   "metadata": {
    "colab": {
     "base_uri": "https://localhost:8080/",
     "height": 336
    },
    "executionInfo": {
     "elapsed": 464,
     "status": "ok",
     "timestamp": 1662402514321,
     "user": {
      "displayName": "sunny pratap",
      "userId": "11288485692058842255"
     },
     "user_tz": -330
    },
    "id": "N-2fmPBEsXf4",
    "outputId": "2d178af4-2cd8-417b-ce2f-5248e1e85942"
   },
   "outputs": [
    {
     "data": {
      "text/plain": [
       "<matplotlib.axes._subplots.AxesSubplot at 0x7f0dc9affa50>"
      ]
     },
     "execution_count": 56,
     "metadata": {},
     "output_type": "execute_result"
    },
    {
     "data": {
      "image/png": "[encoded data removed]",
      "text/plain": [
       "<Figure size 432x288 with 1 Axes>"
      ]
     },
     "metadata": {
      "needs_background": "light"
     },
     "output_type": "display_data"
    }
   ],
   "source": [
    "cities_by_accident[:20].plot(kind='bar')"
   ]
  },
  {
   "cell_type": "code",
   "execution_count": 57,
   "metadata": {
    "executionInfo": {
     "elapsed": 378,
     "status": "ok",
     "timestamp": 1662402755947,
     "user": {
      "displayName": "sunny pratap",
      "userId": "11288485692058842255"
     },
     "user_tz": -330
    },
    "id": "rHmctdRmsXc5"
   },
   "outputs": [],
   "source": [
    "import seaborn as sns\n",
    "sns.set_style(\"darkgrid\")"
   ]
  },
  {
   "cell_type": "code",
   "execution_count": 60,
   "metadata": {
    "colab": {
     "base_uri": "https://localhost:8080/",
     "height": 351
    },
    "executionInfo": {
     "elapsed": 820,
     "status": "ok",
     "timestamp": 1662402905755,
     "user": {
      "displayName": "sunny pratap",
      "userId": "11288485692058842255"
     },
     "user_tz": -330
    },
    "id": "WCMLj4IMsXZt",
    "outputId": "72fac4bf-59bf-4678-cbc5-0c46df8b9409"
   },
   "outputs": [
    {
     "name": "stderr",
     "output_type": "stream",
     "text": [
      "/usr/local/lib/python3.7/dist-packages/seaborn/distributions.py:2619: FutureWarning: `distplot` is a deprecated function and will be removed in a future version. Please adapt your code to use either `displot` (a figure-level function with similar flexibility) or `histplot` (an axes-level function for histograms).\n",
      "  warnings.warn(msg, FutureWarning)\n"
     ]
    },
    {
     "data": {
      "text/plain": [
       "<matplotlib.axes._subplots.AxesSubplot at 0x7f0dc0e8d890>"
      ]
     },
     "execution_count": 60,
     "metadata": {},
     "output_type": "execute_result"
    },
    {
     "data": {
      "image/png": "[encoded data removed]",
      "text/plain": [
       "<Figure size 432x288 with 1 Axes>"
      ]
     },
     "metadata": {},
     "output_type": "display_data"
    }
   ],
   "source": [
    "sns.distplot(cities_by_accident)"
   ]
  },
  {
   "cell_type": "code",
   "execution_count": 64,
   "metadata": {
    "colab": {
     "base_uri": "https://localhost:8080/",
     "height": 351
    },
    "executionInfo": {
     "elapsed": 1047,
     "status": "ok",
     "timestamp": 1662403264336,
     "user": {
      "displayName": "sunny pratap",
      "userId": "11288485692058842255"
     },
     "user_tz": -330
    },
    "id": "hYcs0Sp6sXXJ",
    "outputId": "d380f18a-1862-40f8-eeeb-85d3e92c18f1"
   },
   "outputs": [
    {
     "name": "stderr",
     "output_type": "stream",
     "text": [
      "/usr/local/lib/python3.7/dist-packages/seaborn/distributions.py:2619: FutureWarning: `distplot` is a deprecated function and will be removed in a future version. Please adapt your code to use either `displot` (a figure-level function with similar flexibility) or `histplot` (an axes-level function for histograms).\n",
      "  warnings.warn(msg, FutureWarning)\n"
     ]
    },
    {
     "data": {
      "text/plain": [
       "<matplotlib.axes._subplots.AxesSubplot at 0x7f0dc09602d0>"
      ]
     },
     "execution_count": 64,
     "metadata": {},
     "output_type": "execute_result"
    },
    {
     "data": {
      "image/png": "[encoded data removed]",
      "text/plain": [
       "<Figure size 432x288 with 1 Axes>"
      ]
     },
     "metadata": {},
     "output_type": "display_data"
    }
   ],
   "source": [
    "sns.distplot(cities_by_accident[:100])"
   ]
  },
  {
   "cell_type": "code",
   "execution_count": 62,
   "metadata": {
    "executionInfo": {
     "elapsed": 417,
     "status": "ok",
     "timestamp": 1662403085314,
     "user": {
      "displayName": "sunny pratap",
      "userId": "11288485692058842255"
     },
     "user_tz": -330
    },
    "id": "Ru8OQoMVsXUK"
   },
   "outputs": [],
   "source": [
    "high_accidents_cities = cities_by_accident[cities_by_accident >= 1000]\n",
    "low_accidents_cities = cities_by_accident[cities_by_accident < 1000]"
   ]
  },
  {
   "cell_type": "code",
   "execution_count": 63,
   "metadata": {
    "colab": {
     "base_uri": "https://localhost:8080/"
    },
    "executionInfo": {
     "elapsed": 386,
     "status": "ok",
     "timestamp": 1662403113474,
     "user": {
      "displayName": "sunny pratap",
      "userId": "11288485692058842255"
     },
     "user_tz": -330
    },
    "id": "k-rzZiQqsWv3",
    "outputId": "5c155b41-8e01-4618-8a6d-2b5c816f8e61"
   },
   "outputs": [
    {
     "data": {
      "text/plain": [
       "0.04245848313644924"
      ]
     },
     "execution_count": 63,
     "metadata": {},
     "output_type": "execute_result"
    }
   ],
   "source": [
    "len(high_accidents_cities)/len(cities)"
   ]
  },
  {
   "cell_type": "code",
   "execution_count": 65,
   "metadata": {
    "colab": {
     "base_uri": "https://localhost:8080/",
     "height": 351
    },
    "executionInfo": {
     "elapsed": 977,
     "status": "ok",
     "timestamp": 1662403792824,
     "user": {
      "displayName": "sunny pratap",
      "userId": "11288485692058842255"
     },
     "user_tz": -330
    },
    "id": "TYKNNwgu9J6K",
    "outputId": "1c1078fb-f79b-4a54-8962-b6e97b3a8252"
   },
   "outputs": [
    {
     "name": "stderr",
     "output_type": "stream",
     "text": [
      "/usr/local/lib/python3.7/dist-packages/seaborn/distributions.py:2619: FutureWarning: `distplot` is a deprecated function and will be removed in a future version. Please adapt your code to use either `displot` (a figure-level function with similar flexibility) or `histplot` (an axes-level function for histograms).\n",
      "  warnings.warn(msg, FutureWarning)\n"
     ]
    },
    {
     "data": {
      "text/plain": [
       "<matplotlib.axes._subplots.AxesSubplot at 0x7f0dbfe6ca90>"
      ]
     },
     "execution_count": 65,
     "metadata": {},
     "output_type": "execute_result"
    },
    {
     "data": {
      "image/png": "[encoded data removed]",
      "text/plain": [
       "<Figure size 432x288 with 1 Axes>"
      ]
     },
     "metadata": {},
     "output_type": "display_data"
    }
   ],
   "source": [
    "sns.distplot(high_accidents_cities)"
   ]
  },
  {
   "cell_type": "code",
   "execution_count": 66,
   "metadata": {
    "colab": {
     "base_uri": "https://localhost:8080/",
     "height": 351
    },
    "executionInfo": {
     "elapsed": 835,
     "status": "ok",
     "timestamp": 1662403795094,
     "user": {
      "displayName": "sunny pratap",
      "userId": "11288485692058842255"
     },
     "user_tz": -330
    },
    "id": "EjXGUEF-9J3A",
    "outputId": "8b3ad5e7-0a54-442e-96dd-ffbe3935ecdd"
   },
   "outputs": [
    {
     "name": "stderr",
     "output_type": "stream",
     "text": [
      "/usr/local/lib/python3.7/dist-packages/seaborn/distributions.py:2619: FutureWarning: `distplot` is a deprecated function and will be removed in a future version. Please adapt your code to use either `displot` (a figure-level function with similar flexibility) or `histplot` (an axes-level function for histograms).\n",
      "  warnings.warn(msg, FutureWarning)\n"
     ]
    },
    {
     "data": {
      "text/plain": [
       "<matplotlib.axes._subplots.AxesSubplot at 0x7f0dc7a102d0>"
      ]
     },
     "execution_count": 66,
     "metadata": {},
     "output_type": "execute_result"
    },
    {
     "data": {
      "image/png": "[encoded data removed]",
      "text/plain": [
       "<Figure size 432x288 with 1 Axes>"
      ]
     },
     "metadata": {},
     "output_type": "display_data"
    }
   ],
   "source": [
    "sns.distplot(low_accidents_cities)"
   ]
  },
  {
   "cell_type": "code",
   "execution_count": 67,
   "metadata": {
    "colab": {
     "base_uri": "https://localhost:8080/"
    },
    "executionInfo": {
     "elapsed": 381,
     "status": "ok",
     "timestamp": 1662404051569,
     "user": {
      "displayName": "sunny pratap",
      "userId": "11288485692058842255"
     },
     "user_tz": -330
    },
    "id": "nfwaVhsr9J0I",
    "outputId": "b0aa9bb8-dab4-4a7f-d9a6-5eab65a16185"
   },
   "outputs": [
    {
     "data": {
      "text/plain": [
       "Carney                          1\n",
       "Waverly Hall                    1\n",
       "Center Sandwich                 1\n",
       "Glen Flora                      1\n",
       "Sulphur Springs                 1\n",
       "                               ..\n",
       "Ridgedale                       1\n",
       "Sekiu                           1\n",
       "Wooldridge                      1\n",
       "Bullock                         1\n",
       "American Fork-Pleasant Grove    1\n",
       "Name: City, Length: 1110, dtype: int64"
      ]
     },
     "execution_count": 67,
     "metadata": {},
     "output_type": "execute_result"
    }
   ],
   "source": [
    "#checking how many cities have only accidents\n",
    "cities_by_accident[cities_by_accident == 1]"
   ]
  },
  {
   "cell_type": "markdown",
   "metadata": {
    "id": "YD69pkqQBUGg"
   },
   "source": [
    "###Start Time\n"
   ]
  },
  {
   "cell_type": "code",
   "execution_count": 70,
   "metadata": {
    "colab": {
     "base_uri": "https://localhost:8080/",
     "height": 35
    },
    "executionInfo": {
     "elapsed": 391,
     "status": "ok",
     "timestamp": 1662404561147,
     "user": {
      "displayName": "sunny pratap",
      "userId": "11288485692058842255"
     },
     "user_tz": -330
    },
    "id": "2-k6oG899Jxc",
    "outputId": "987658ba-8d93-4d03-c7f3-74554b7db8eb"
   },
   "outputs": [
    {
     "data": {
      "application/vnd.google.colaboratory.intrinsic+json": {
       "type": "string"
      },
      "text/plain": [
       "'2016-02-08 00:37:08'"
      ]
     },
     "execution_count": 70,
     "metadata": {},
     "output_type": "execute_result"
    }
   ],
   "source": [
    "df.Start_Time[0]"
   ]
  },
  {
   "cell_type": "code",
   "execution_count": 71,
   "metadata": {
    "executionInfo": {
     "elapsed": 4018,
     "status": "ok",
     "timestamp": 1662404696070,
     "user": {
      "displayName": "sunny pratap",
      "userId": "11288485692058842255"
     },
     "user_tz": -330
    },
    "id": "k-E2liWq9Jgr"
   },
   "outputs": [],
   "source": [
    "#changing it to time stamp\n",
    "df.Start_Time = pd.to_datetime(df.Start_Time)"
   ]
  },
  {
   "cell_type": "code",
   "execution_count": 72,
   "metadata": {
    "colab": {
     "base_uri": "https://localhost:8080/"
    },
    "executionInfo": {
     "elapsed": 3,
     "status": "ok",
     "timestamp": 1662404715373,
     "user": {
      "displayName": "sunny pratap",
      "userId": "11288485692058842255"
     },
     "user_tz": -330
    },
    "id": "UTiADcVqCrPw",
    "outputId": "dc9f0c9d-02f2-4385-881f-9a0d9dcdb663"
   },
   "outputs": [
    {
     "data": {
      "text/plain": [
       "Timestamp('2016-02-08 00:37:08')"
      ]
     },
     "execution_count": 72,
     "metadata": {},
     "output_type": "execute_result"
    }
   ],
   "source": [
    "df.Start_Time[0]"
   ]
  },
  {
   "cell_type": "code",
   "execution_count": 73,
   "metadata": {
    "colab": {
     "base_uri": "https://localhost:8080/"
    },
    "executionInfo": {
     "elapsed": 381,
     "status": "ok",
     "timestamp": 1662404927341,
     "user": {
      "displayName": "sunny pratap",
      "userId": "11288485692058842255"
     },
     "user_tz": -330
    },
    "id": "806KVT7ACrMV",
    "outputId": "d32a2dc9-5d70-40dc-8e32-841d3bd3826a"
   },
   "outputs": [
    {
     "data": {
      "text/plain": [
       "0"
      ]
     },
     "execution_count": 73,
     "metadata": {},
     "output_type": "execute_result"
    }
   ],
   "source": [
    "#it will return hour part from the time stamp for single entity\n",
    "df.Start_Time[0].hour"
   ]
  },
  {
   "cell_type": "code",
   "execution_count": 74,
   "metadata": {
    "colab": {
     "base_uri": "https://localhost:8080/"
    },
    "executionInfo": {
     "elapsed": 389,
     "status": "ok",
     "timestamp": 1662404953610,
     "user": {
      "displayName": "sunny pratap",
      "userId": "11288485692058842255"
     },
     "user_tz": -330
    },
    "id": "LmPqXyuiCrJ4",
    "outputId": "91d75086-6efe-468b-d75c-d1bcea66e517"
   },
   "outputs": [
    {
     "data": {
      "text/plain": [
       "37"
      ]
     },
     "execution_count": 74,
     "metadata": {},
     "output_type": "execute_result"
    }
   ],
   "source": [
    "#it will return minute part from the time stamp for single entity\n",
    "df.Start_Time[0].minute"
   ]
  },
  {
   "cell_type": "code",
   "execution_count": 76,
   "metadata": {
    "colab": {
     "base_uri": "https://localhost:8080/"
    },
    "executionInfo": {
     "elapsed": 544,
     "status": "ok",
     "timestamp": 1662404985844,
     "user": {
      "displayName": "sunny pratap",
      "userId": "11288485692058842255"
     },
     "user_tz": -330
    },
    "id": "h9K0I87aCrHg",
    "outputId": "9d77fff0-4b72-4dbc-9035-593cb5a07353"
   },
   "outputs": [
    {
     "data": {
      "text/plain": [
       "8"
      ]
     },
     "execution_count": 76,
     "metadata": {},
     "output_type": "execute_result"
    }
   ],
   "source": [
    "#it will return second part from the time stamp for single entity\n",
    "df.Start_Time[0].second"
   ]
  },
  {
   "cell_type": "code",
   "execution_count": 78,
   "metadata": {
    "colab": {
     "base_uri": "https://localhost:8080/"
    },
    "executionInfo": {
     "elapsed": 882,
     "status": "ok",
     "timestamp": 1662405151224,
     "user": {
      "displayName": "sunny pratap",
      "userId": "11288485692058842255"
     },
     "user_tz": -330
    },
    "id": "nky0llVcCrEm",
    "outputId": "b5ba65eb-ad43-4783-8a7c-00570abef13f"
   },
   "outputs": [
    {
     "data": {
      "text/plain": [
       "0           8\n",
       "1          20\n",
       "2          39\n",
       "3          45\n",
       "4          43\n",
       "           ..\n",
       "2845337    25\n",
       "2845338    30\n",
       "2845339    21\n",
       "2845340    21\n",
       "2845341     6\n",
       "Name: Start_Time, Length: 2845342, dtype: int64"
      ]
     },
     "execution_count": 78,
     "metadata": {},
     "output_type": "execute_result"
    }
   ],
   "source": [
    "#it will return second part from the time stamp for whole column\n",
    "df.Start_Time.dt.second"
   ]
  },
  {
   "cell_type": "code",
   "execution_count": 79,
   "metadata": {
    "colab": {
     "base_uri": "https://localhost:8080/"
    },
    "executionInfo": {
     "elapsed": 777,
     "status": "ok",
     "timestamp": 1662405181901,
     "user": {
      "displayName": "sunny pratap",
      "userId": "11288485692058842255"
     },
     "user_tz": -330
    },
    "id": "mRpP6ibKEcgI",
    "outputId": "d2eb3871-9b9a-4b8b-c034-dc238a2df9a7"
   },
   "outputs": [
    {
     "data": {
      "text/plain": [
       "0          37\n",
       "1          56\n",
       "2          15\n",
       "3          51\n",
       "4          53\n",
       "           ..\n",
       "2845337     3\n",
       "2845338    11\n",
       "2845339     0\n",
       "2845340     0\n",
       "2845341    52\n",
       "Name: Start_Time, Length: 2845342, dtype: int64"
      ]
     },
     "execution_count": 79,
     "metadata": {},
     "output_type": "execute_result"
    }
   ],
   "source": [
    "#it will return minute part from the time stamp for whole column\n",
    "df.Start_Time.dt.minute"
   ]
  },
  {
   "cell_type": "code",
   "execution_count": 80,
   "metadata": {
    "colab": {
     "base_uri": "https://localhost:8080/"
    },
    "executionInfo": {
     "elapsed": 768,
     "status": "ok",
     "timestamp": 1662405189144,
     "user": {
      "displayName": "sunny pratap",
      "userId": "11288485692058842255"
     },
     "user_tz": -330
    },
    "id": "xTW4ZcLGEccw",
    "outputId": "ba72aad8-88ca-4adc-e58e-a55d03c71e7f"
   },
   "outputs": [
    {
     "data": {
      "text/plain": [
       "0           0\n",
       "1           5\n",
       "2           6\n",
       "3           6\n",
       "4           7\n",
       "           ..\n",
       "2845337    18\n",
       "2845338    19\n",
       "2845339    19\n",
       "2845340    19\n",
       "2845341    18\n",
       "Name: Start_Time, Length: 2845342, dtype: int64"
      ]
     },
     "execution_count": 80,
     "metadata": {},
     "output_type": "execute_result"
    }
   ],
   "source": [
    "#it will return hour part from the time stamp for whole column\n",
    "df.Start_Time.dt.hour"
   ]
  },
  {
   "cell_type": "code",
   "execution_count": 86,
   "metadata": {
    "colab": {
     "base_uri": "https://localhost:8080/"
    },
    "executionInfo": {
     "elapsed": 753,
     "status": "ok",
     "timestamp": 1662406054405,
     "user": {
      "displayName": "sunny pratap",
      "userId": "11288485692058842255"
     },
     "user_tz": -330
    },
    "id": "uI2EmptrHzGG",
    "outputId": "e9113f68-74e8-4344-e409-71db809c0dc2"
   },
   "outputs": [
    {
     "data": {
      "text/plain": [
       "0           8\n",
       "1           8\n",
       "2           8\n",
       "3           8\n",
       "4           8\n",
       "           ..\n",
       "2845337    23\n",
       "2845338    23\n",
       "2845339    23\n",
       "2845340    23\n",
       "2845341    23\n",
       "Name: Start_Time, Length: 2845342, dtype: int64"
      ]
     },
     "execution_count": 86,
     "metadata": {},
     "output_type": "execute_result"
    }
   ],
   "source": [
    "#it will return day part from the time stamp for whole column\n",
    "df.Start_Time.dt.day"
   ]
  },
  {
   "cell_type": "code",
   "execution_count": 87,
   "metadata": {
    "colab": {
     "base_uri": "https://localhost:8080/"
    },
    "executionInfo": {
     "elapsed": 663,
     "status": "ok",
     "timestamp": 1662406085712,
     "user": {
      "displayName": "sunny pratap",
      "userId": "11288485692058842255"
     },
     "user_tz": -330
    },
    "id": "XUXBtNPtH5ta",
    "outputId": "77d9a10b-9c33-42c8-b3ce-669ee866b8e6"
   },
   "outputs": [
    {
     "data": {
      "text/plain": [
       "0          2\n",
       "1          2\n",
       "2          2\n",
       "3          2\n",
       "4          2\n",
       "          ..\n",
       "2845337    8\n",
       "2845338    8\n",
       "2845339    8\n",
       "2845340    8\n",
       "2845341    8\n",
       "Name: Start_Time, Length: 2845342, dtype: int64"
      ]
     },
     "execution_count": 87,
     "metadata": {},
     "output_type": "execute_result"
    }
   ],
   "source": [
    "#it will return month part from the time stamp for whole column\n",
    "df.Start_Time.dt.month"
   ]
  },
  {
   "cell_type": "code",
   "execution_count": 88,
   "metadata": {
    "colab": {
     "base_uri": "https://localhost:8080/"
    },
    "executionInfo": {
     "elapsed": 439,
     "status": "ok",
     "timestamp": 1662406100101,
     "user": {
      "displayName": "sunny pratap",
      "userId": "11288485692058842255"
     },
     "user_tz": -330
    },
    "id": "O-r3CfsYH9ed",
    "outputId": "89f3b2dc-7b19-4ba3-ffb3-2b52ca26ca20"
   },
   "outputs": [
    {
     "data": {
      "text/plain": [
       "0          2016\n",
       "1          2016\n",
       "2          2016\n",
       "3          2016\n",
       "4          2016\n",
       "           ... \n",
       "2845337    2019\n",
       "2845338    2019\n",
       "2845339    2019\n",
       "2845340    2019\n",
       "2845341    2019\n",
       "Name: Start_Time, Length: 2845342, dtype: int64"
      ]
     },
     "execution_count": 88,
     "metadata": {},
     "output_type": "execute_result"
    }
   ],
   "source": [
    "#it will return year part from the time stamp for whole column\n",
    "df.Start_Time.dt.year"
   ]
  },
  {
   "cell_type": "code",
   "execution_count": 89,
   "metadata": {
    "colab": {
     "base_uri": "https://localhost:8080/"
    },
    "executionInfo": {
     "elapsed": 574,
     "status": "ok",
     "timestamp": 1662406124298,
     "user": {
      "displayName": "sunny pratap",
      "userId": "11288485692058842255"
     },
     "user_tz": -330
    },
    "id": "VTUKlHa8ID8A",
    "outputId": "29aea408-8174-44e6-ad79-435adb50b364"
   },
   "outputs": [
    {
     "data": {
      "text/plain": [
       "0          0\n",
       "1          0\n",
       "2          0\n",
       "3          0\n",
       "4          0\n",
       "          ..\n",
       "2845337    4\n",
       "2845338    4\n",
       "2845339    4\n",
       "2845340    4\n",
       "2845341    4\n",
       "Name: Start_Time, Length: 2845342, dtype: int64"
      ]
     },
     "execution_count": 89,
     "metadata": {},
     "output_type": "execute_result"
    }
   ],
   "source": [
    "#it will return dayofweek from the time stamp for whole column i.e 0 for monday ansd 6 for sunday\n",
    "df.Start_Time.dt.dayofweek"
   ]
  },
  {
   "cell_type": "code",
   "execution_count": 84,
   "metadata": {
    "colab": {
     "base_uri": "https://localhost:8080/",
     "height": 352
    },
    "executionInfo": {
     "elapsed": 1494,
     "status": "ok",
     "timestamp": 1662405503692,
     "user": {
      "displayName": "sunny pratap",
      "userId": "11288485692058842255"
     },
     "user_tz": -330
    },
    "id": "8-Np7hjjEcad",
    "outputId": "e9e33ff3-fe0d-48f4-92b9-671ca9bc45c5"
   },
   "outputs": [
    {
     "name": "stderr",
     "output_type": "stream",
     "text": [
      "/usr/local/lib/python3.7/dist-packages/seaborn/distributions.py:2619: FutureWarning: `distplot` is a deprecated function and will be removed in a future version. Please adapt your code to use either `displot` (a figure-level function with similar flexibility) or `histplot` (an axes-level function for histograms).\n",
      "  warnings.warn(msg, FutureWarning)\n"
     ]
    },
    {
     "data": {
      "text/plain": [
       "<matplotlib.axes._subplots.AxesSubplot at 0x7f0dbcb79610>"
      ]
     },
     "execution_count": 84,
     "metadata": {},
     "output_type": "execute_result"
    },
    {
     "data": {
      "image/png": "[encoded data removed]",
      "text/plain": [
       "<Figure size 432x288 with 1 Axes>"
      ]
     },
     "metadata": {},
     "output_type": "display_data"
    }
   ],
   "source": [
    "#it will show the data in percentages\n",
    "sns.distplot(df.Start_Time.dt.hour, bins=24, kde=False, norm_hist=True)"
   ]
  },
  {
   "cell_type": "markdown",
   "metadata": {
    "id": "qcScrpZyF6zV"
   },
   "source": [
    "-A high percentage of accidents occurs between 2 pm to 5 pm (probably people in hurry to reach home from \n",
    "work , that may leads to higher traffic)\n",
    "\n",
    "-A next highest percentage of accidents occurs between 8 am to 10 am (probably people in hurry to get to work, that may leads to higher traffic)"
   ]
  },
  {
   "cell_type": "code",
   "execution_count": 91,
   "metadata": {
    "colab": {
     "base_uri": "https://localhost:8080/",
     "height": 352
    },
    "executionInfo": {
     "elapsed": 1409,
     "status": "ok",
     "timestamp": 1662406223268,
     "user": {
      "displayName": "sunny pratap",
      "userId": "11288485692058842255"
     },
     "user_tz": -330
    },
    "id": "tfN8NA40EcYa",
    "outputId": "20695e45-7ccd-4b7a-eb52-620a1ee7216a"
   },
   "outputs": [
    {
     "name": "stderr",
     "output_type": "stream",
     "text": [
      "/usr/local/lib/python3.7/dist-packages/seaborn/distributions.py:2619: FutureWarning: `distplot` is a deprecated function and will be removed in a future version. Please adapt your code to use either `displot` (a figure-level function with similar flexibility) or `histplot` (an axes-level function for histograms).\n",
      "  warnings.warn(msg, FutureWarning)\n"
     ]
    },
    {
     "data": {
      "text/plain": [
       "<matplotlib.axes._subplots.AxesSubplot at 0x7f0dbca60650>"
      ]
     },
     "execution_count": 91,
     "metadata": {},
     "output_type": "execute_result"
    },
    {
     "data": {
      "image/png": "[encoded data removed]",
      "text/plain": [
       "<Figure size 432x288 with 1 Axes>"
      ]
     },
     "metadata": {},
     "output_type": "display_data"
    }
   ],
   "source": [
    "sns.distplot(df.Start_Time.dt.dayofweek, bins=7, kde=False, norm_hist=True)"
   ]
  },
  {
   "cell_type": "markdown",
   "metadata": {
    "id": "5NOvQkKNIjJx"
   },
   "source": [
    "-Is the distribution of accidents by hour the same on weekends as on weekdays"
   ]
  },
  {
   "cell_type": "code",
   "execution_count": 96,
   "metadata": {
    "colab": {
     "base_uri": "https://localhost:8080/",
     "height": 352
    },
    "executionInfo": {
     "elapsed": 812,
     "status": "ok",
     "timestamp": 1662406571075,
     "user": {
      "displayName": "sunny pratap",
      "userId": "11288485692058842255"
     },
     "user_tz": -330
    },
    "id": "dqIdGCXdJRPF",
    "outputId": "d695ddc2-7d24-4f6b-8db1-dde20a410a5c"
   },
   "outputs": [
    {
     "name": "stderr",
     "output_type": "stream",
     "text": [
      "/usr/local/lib/python3.7/dist-packages/seaborn/distributions.py:2619: FutureWarning: `distplot` is a deprecated function and will be removed in a future version. Please adapt your code to use either `displot` (a figure-level function with similar flexibility) or `histplot` (an axes-level function for histograms).\n",
      "  warnings.warn(msg, FutureWarning)\n"
     ]
    },
    {
     "data": {
      "text/plain": [
       "<matplotlib.axes._subplots.AxesSubplot at 0x7f0dbc90e210>"
      ]
     },
     "execution_count": 96,
     "metadata": {},
     "output_type": "execute_result"
    },
    {
     "data": {
      "image/png": "[encoded data removed]",
      "text/plain": [
       "<Figure size 432x288 with 1 Axes>"
      ]
     },
     "metadata": {},
     "output_type": "display_data"
    }
   ],
   "source": [
    "sundays_start_time = df.Start_Time[df.Start_Time.dt.dayofweek==6]\n",
    "sns.distplot(sundays_start_time.dt.hour, bins=24, kde=False, norm_hist=True)\n"
   ]
  },
  {
   "cell_type": "markdown",
   "metadata": {
    "id": "vgdcEHRGKGeO"
   },
   "source": [
    "On Sundays, the peak occurs between 10 am and 4 pm, unlike the weekdays"
   ]
  },
  {
   "cell_type": "code",
   "execution_count": 97,
   "metadata": {
    "colab": {
     "base_uri": "https://localhost:8080/",
     "height": 297
    },
    "executionInfo": {
     "elapsed": 2324,
     "status": "ok",
     "timestamp": 1662406635400,
     "user": {
      "displayName": "sunny pratap",
      "userId": "11288485692058842255"
     },
     "user_tz": -330
    },
    "id": "ijtzjOBfEcTf",
    "outputId": "ff23586a-18f8-4e7b-b065-158f7d99759a"
   },
   "outputs": [
    {
     "data": {
      "text/plain": [
       "<matplotlib.axes._subplots.AxesSubplot at 0x7f0dbc88a850>"
      ]
     },
     "execution_count": 97,
     "metadata": {},
     "output_type": "execute_result"
    },
    {
     "data": {
      "image/png": "[encoded data removed]",
      "text/plain": [
       "<Figure size 432x288 with 1 Axes>"
      ]
     },
     "metadata": {},
     "output_type": "display_data"
    }
   ],
   "source": [
    "mondays_start_time = df.Start_Time[df.Start_Time.dt.dayofweek==0]\n",
    "sns.distplot(mondays_start_time.dt.hour, bins=24, kde=False, norm_hist=True)"
   ]
  },
  {
   "cell_type": "markdown",
   "metadata": {
    "id": "7NBnkoUuKFGB"
   },
   "source": []
  },
  {
   "cell_type": "markdown",
   "metadata": {
    "id": "va09FA49KgI5"
   },
   "source": [
    "-On weekdays, morning office time while going to work and while returning to home, having maximum accidents"
   ]
  },
  {
   "cell_type": "code",
   "execution_count": 98,
   "metadata": {
    "colab": {
     "base_uri": "https://localhost:8080/",
     "height": 352
    },
    "executionInfo": {
     "elapsed": 907,
     "status": "ok",
     "timestamp": 1662406860468,
     "user": {
      "displayName": "sunny pratap",
      "userId": "11288485692058842255"
     },
     "user_tz": -330
    },
    "id": "t_h-yu2GEcQ2",
    "outputId": "6f39a330-0fff-4ed2-cad8-673895f11cd8"
   },
   "outputs": [
    {
     "name": "stderr",
     "output_type": "stream",
     "text": [
      "/usr/local/lib/python3.7/dist-packages/seaborn/distributions.py:2619: FutureWarning: `distplot` is a deprecated function and will be removed in a future version. Please adapt your code to use either `displot` (a figure-level function with similar flexibility) or `histplot` (an axes-level function for histograms).\n",
      "  warnings.warn(msg, FutureWarning)\n"
     ]
    },
    {
     "data": {
      "text/plain": [
       "<matplotlib.axes._subplots.AxesSubplot at 0x7f0dbc885c50>"
      ]
     },
     "execution_count": 98,
     "metadata": {},
     "output_type": "execute_result"
    },
    {
     "data": {
      "image/png": "[encoded data removed]",
      "text/plain": [
       "<Figure size 432x288 with 1 Axes>"
      ]
     },
     "metadata": {},
     "output_type": "display_data"
    }
   ],
   "source": [
    "sns.distplot(mondays_start_time.dt.month, bins=12, kde=False, norm_hist=True)"
   ]
  },
  {
   "cell_type": "markdown",
   "metadata": {
    "id": "qMozLAFeLMKQ"
   },
   "source": [
    "-Con you explain the month-wise trend in accidents?\n",
    "-may be because of winter"
   ]
  },
  {
   "cell_type": "code",
   "execution_count": 109,
   "metadata": {
    "colab": {
     "base_uri": "https://localhost:8080/"
    },
    "executionInfo": {
     "elapsed": 382,
     "status": "ok",
     "timestamp": 1662407373238,
     "user": {
      "displayName": "sunny pratap",
      "userId": "11288485692058842255"
     },
     "user_tz": -330
    },
    "id": "P8cAKO7IMntE",
    "outputId": "3587afa4-9ae3-4bf8-f73d-159b65c22989"
   },
   "outputs": [
    {
     "data": {
      "text/plain": [
       "False"
      ]
     },
     "execution_count": 109,
     "metadata": {},
     "output_type": "execute_result"
    }
   ],
   "source": [
    "# Columns with name 'source' is not available in the table\n",
    "'source' in df.columns "
   ]
  },
  {
   "cell_type": "markdown",
   "metadata": {
    "id": "xU8W_4njNv79"
   },
   "source": [
    "-comsider excluding Bing data seems to have issue in source, not available in new csv"
   ]
  },
  {
   "cell_type": "code",
   "execution_count": 112,
   "metadata": {
    "colab": {
     "base_uri": "https://localhost:8080/",
     "height": 352
    },
    "executionInfo": {
     "elapsed": 1456,
     "status": "ok",
     "timestamp": 1662407589716,
     "user": {
      "displayName": "sunny pratap",
      "userId": "11288485692058842255"
     },
     "user_tz": -330
    },
    "id": "lUaLOEN7EcOR",
    "outputId": "2274fab0-2d82-4e12-9d5b-8b88a8daf825"
   },
   "outputs": [
    {
     "name": "stderr",
     "output_type": "stream",
     "text": [
      "/usr/local/lib/python3.7/dist-packages/seaborn/distributions.py:2619: FutureWarning: `distplot` is a deprecated function and will be removed in a future version. Please adapt your code to use either `displot` (a figure-level function with similar flexibility) or `histplot` (an axes-level function for histograms).\n",
      "  warnings.warn(msg, FutureWarning)\n"
     ]
    },
    {
     "data": {
      "text/plain": [
       "<matplotlib.axes._subplots.AxesSubplot at 0x7f0dbc594f90>"
      ]
     },
     "execution_count": 112,
     "metadata": {},
     "output_type": "execute_result"
    },
    {
     "data": {
      "image/png": "[encoded data removed]",
      "text/plain": [
       "<Figure size 432x288 with 1 Axes>"
      ]
     },
     "metadata": {},
     "output_type": "display_data"
    }
   ],
   "source": [
    "df_2019 = df[df.Start_Time.dt.year ==2019]\n",
    "sns.distplot(df_2019.Start_Time.dt.month, bins=12, kde=False, norm_hist=True)"
   ]
  },
  {
   "cell_type": "markdown",
   "metadata": {
    "id": "FubXIsHIODsl"
   },
   "source": [
    "###Start Latitude and Longitude"
   ]
  },
  {
   "cell_type": "code",
   "execution_count": 113,
   "metadata": {
    "colab": {
     "base_uri": "https://localhost:8080/"
    },
    "executionInfo": {
     "elapsed": 394,
     "status": "ok",
     "timestamp": 1662407731275,
     "user": {
      "displayName": "sunny pratap",
      "userId": "11288485692058842255"
     },
     "user_tz": -330
    },
    "id": "SS4P5ObiEcLi",
    "outputId": "c0332426-a938-445e-9c53-9d7a0b26b0f9"
   },
   "outputs": [
    {
     "data": {
      "text/plain": [
       "0          40.108910\n",
       "1          39.865420\n",
       "2          39.102660\n",
       "3          41.062130\n",
       "4          39.172393\n",
       "             ...    \n",
       "2845337    34.002480\n",
       "2845338    32.766960\n",
       "2845339    33.775450\n",
       "2845340    33.992460\n",
       "2845341    34.133930\n",
       "Name: Start_Lat, Length: 2845342, dtype: float64"
      ]
     },
     "execution_count": 113,
     "metadata": {},
     "output_type": "execute_result"
    }
   ],
   "source": [
    "df.Start_Lat"
   ]
  },
  {
   "cell_type": "code",
   "execution_count": 115,
   "metadata": {
    "colab": {
     "base_uri": "https://localhost:8080/"
    },
    "executionInfo": {
     "elapsed": 389,
     "status": "ok",
     "timestamp": 1662407752150,
     "user": {
      "displayName": "sunny pratap",
      "userId": "11288485692058842255"
     },
     "user_tz": -330
    },
    "id": "m4gBBK9PEcJS",
    "outputId": "b627a7a7-5729-4cf5-f82c-69e6ffc0f983"
   },
   "outputs": [
    {
     "data": {
      "text/plain": [
       "0          -83.092860\n",
       "1          -84.062800\n",
       "2          -84.524680\n",
       "3          -81.537840\n",
       "4          -84.492792\n",
       "              ...    \n",
       "2845337   -117.379360\n",
       "2845338   -117.148060\n",
       "2845339   -117.847790\n",
       "2845340   -118.403020\n",
       "2845341   -117.230920\n",
       "Name: Start_Lng, Length: 2845342, dtype: float64"
      ]
     },
     "execution_count": 115,
     "metadata": {},
     "output_type": "execute_result"
    }
   ],
   "source": [
    "df.Start_Lng"
   ]
  },
  {
   "cell_type": "code",
   "execution_count": 116,
   "metadata": {
    "colab": {
     "base_uri": "https://localhost:8080/",
     "height": 299
    },
    "executionInfo": {
     "elapsed": 11755,
     "status": "ok",
     "timestamp": 1662407837636,
     "user": {
      "displayName": "sunny pratap",
      "userId": "11288485692058842255"
     },
     "user_tz": -330
    },
    "id": "ifE2vx9-EcGs",
    "outputId": "d35fcc07-ce6e-4dc3-a992-50ed8950a202"
   },
   "outputs": [
    {
     "data": {
      "text/plain": [
       "<matplotlib.axes._subplots.AxesSubplot at 0x7f0dbcd24490>"
      ]
     },
     "execution_count": 116,
     "metadata": {},
     "output_type": "execute_result"
    },
    {
     "data": {
      "image/png": "[encoded data removed]",
      "text/plain": [
       "<Figure size 432x288 with 1 Axes>"
      ]
     },
     "metadata": {},
     "output_type": "display_data"
    }
   ],
   "source": [
    "sns.scatterplot(x=df.Start_Lng, y=df.Start_Lat)"
   ]
  },
  {
   "cell_type": "code",
   "execution_count": 118,
   "metadata": {
    "colab": {
     "base_uri": "https://localhost:8080/",
     "height": 1000
    },
    "executionInfo": {
     "elapsed": 2460,
     "status": "ok",
     "timestamp": 1662408017182,
     "user": {
      "displayName": "sunny pratap",
      "userId": "11288485692058842255"
     },
     "user_tz": -330
    },
    "id": "wAAFOKJSEcEd",
    "outputId": "21ef72ee-a1e5-47f3-d0bd-2e42442f9b7b"
   },
   "outputs": [
    {
     "data": {
      "text/html": [
       "\n",
       "  <div id=\"df-1ba156e0-6196-4ed6-8a40-47aa264e5e66\">\n",
       "    <div class=\"colab-df-container\">\n",
       "      <div>\n",
       "<style scoped>\n",
       "    .dataframe tbody tr th:only-of-type {\n",
       "        vertical-align: middle;\n",
       "    }\n",
       "\n",
       "    .dataframe tbody tr th {\n",
       "        vertical-align: top;\n",
       "    }\n",
       "\n",
       "    .dataframe thead th {\n",
       "        text-align: right;\n",
       "    }\n",
       "</style>\n",
       "<table border=\"1\" class=\"dataframe\">\n",
       "  <thead>\n",
       "    <tr style=\"text-align: right;\">\n",
       "      <th></th>\n",
       "      <th>ID</th>\n",
       "      <th>Severity</th>\n",
       "      <th>Start_Time</th>\n",
       "      <th>End_Time</th>\n",
       "      <th>Start_Lat</th>\n",
       "      <th>Start_Lng</th>\n",
       "      <th>End_Lat</th>\n",
       "      <th>End_Lng</th>\n",
       "      <th>Distance(mi)</th>\n",
       "      <th>Description</th>\n",
       "      <th>...</th>\n",
       "      <th>Roundabout</th>\n",
       "      <th>Station</th>\n",
       "      <th>Stop</th>\n",
       "      <th>Traffic_Calming</th>\n",
       "      <th>Traffic_Signal</th>\n",
       "      <th>Turning_Loop</th>\n",
       "      <th>Sunrise_Sunset</th>\n",
       "      <th>Civil_Twilight</th>\n",
       "      <th>Nautical_Twilight</th>\n",
       "      <th>Astronomical_Twilight</th>\n",
       "    </tr>\n",
       "  </thead>\n",
       "  <tbody>\n",
       "    <tr>\n",
       "      <th>190579</th>\n",
       "      <td>A-190580</td>\n",
       "      <td>2</td>\n",
       "      <td>2017-05-17 12:24:33</td>\n",
       "      <td>2017-05-17 18:24:33</td>\n",
       "      <td>25.898359</td>\n",
       "      <td>-80.209691</td>\n",
       "      <td>25.898359</td>\n",
       "      <td>-80.209691</td>\n",
       "      <td>0.000</td>\n",
       "      <td>At 151st St/Exit 11 - Accident.</td>\n",
       "      <td>...</td>\n",
       "      <td>False</td>\n",
       "      <td>False</td>\n",
       "      <td>False</td>\n",
       "      <td>False</td>\n",
       "      <td>False</td>\n",
       "      <td>False</td>\n",
       "      <td>Day</td>\n",
       "      <td>Day</td>\n",
       "      <td>Day</td>\n",
       "      <td>Day</td>\n",
       "    </tr>\n",
       "    <tr>\n",
       "      <th>1348222</th>\n",
       "      <td>A-1348223</td>\n",
       "      <td>2</td>\n",
       "      <td>2021-10-22 17:05:19</td>\n",
       "      <td>2021-10-22 19:17:22</td>\n",
       "      <td>28.608476</td>\n",
       "      <td>-81.417223</td>\n",
       "      <td>28.610859</td>\n",
       "      <td>-81.415959</td>\n",
       "      <td>0.182</td>\n",
       "      <td>Slow traffic on FL-424 - FL-434 - County Hwy-4...</td>\n",
       "      <td>...</td>\n",
       "      <td>False</td>\n",
       "      <td>False</td>\n",
       "      <td>False</td>\n",
       "      <td>False</td>\n",
       "      <td>False</td>\n",
       "      <td>False</td>\n",
       "      <td>Day</td>\n",
       "      <td>Day</td>\n",
       "      <td>Day</td>\n",
       "      <td>Day</td>\n",
       "    </tr>\n",
       "    <tr>\n",
       "      <th>833020</th>\n",
       "      <td>A-833021</td>\n",
       "      <td>2</td>\n",
       "      <td>2021-03-26 16:59:00</td>\n",
       "      <td>2021-03-26 22:26:38</td>\n",
       "      <td>40.846573</td>\n",
       "      <td>-124.045459</td>\n",
       "      <td>40.847838</td>\n",
       "      <td>-124.048502</td>\n",
       "      <td>0.181</td>\n",
       "      <td>Accident from Splinter Ln to Buttermilk Ln.</td>\n",
       "      <td>...</td>\n",
       "      <td>False</td>\n",
       "      <td>False</td>\n",
       "      <td>False</td>\n",
       "      <td>False</td>\n",
       "      <td>False</td>\n",
       "      <td>False</td>\n",
       "      <td>Day</td>\n",
       "      <td>Day</td>\n",
       "      <td>Day</td>\n",
       "      <td>Day</td>\n",
       "    </tr>\n",
       "    <tr>\n",
       "      <th>2457942</th>\n",
       "      <td>A-2457943</td>\n",
       "      <td>2</td>\n",
       "      <td>2019-11-13 09:59:00</td>\n",
       "      <td>2019-11-13 10:29:48</td>\n",
       "      <td>34.179484</td>\n",
       "      <td>-118.395326</td>\n",
       "      <td>34.179484</td>\n",
       "      <td>-118.395326</td>\n",
       "      <td>0.000</td>\n",
       "      <td>At Oxnard St - Accident.</td>\n",
       "      <td>...</td>\n",
       "      <td>False</td>\n",
       "      <td>False</td>\n",
       "      <td>False</td>\n",
       "      <td>False</td>\n",
       "      <td>False</td>\n",
       "      <td>False</td>\n",
       "      <td>Day</td>\n",
       "      <td>Day</td>\n",
       "      <td>Day</td>\n",
       "      <td>Day</td>\n",
       "    </tr>\n",
       "    <tr>\n",
       "      <th>147349</th>\n",
       "      <td>A-147350</td>\n",
       "      <td>2</td>\n",
       "      <td>2017-03-14 06:43:55</td>\n",
       "      <td>2017-03-14 12:43:55</td>\n",
       "      <td>29.813950</td>\n",
       "      <td>-95.379171</td>\n",
       "      <td>29.813810</td>\n",
       "      <td>-95.378182</td>\n",
       "      <td>0.060</td>\n",
       "      <td>At I-45/Exit 17 - Accident.</td>\n",
       "      <td>...</td>\n",
       "      <td>False</td>\n",
       "      <td>False</td>\n",
       "      <td>False</td>\n",
       "      <td>False</td>\n",
       "      <td>False</td>\n",
       "      <td>False</td>\n",
       "      <td>Night</td>\n",
       "      <td>Night</td>\n",
       "      <td>Day</td>\n",
       "      <td>Day</td>\n",
       "    </tr>\n",
       "    <tr>\n",
       "      <th>...</th>\n",
       "      <td>...</td>\n",
       "      <td>...</td>\n",
       "      <td>...</td>\n",
       "      <td>...</td>\n",
       "      <td>...</td>\n",
       "      <td>...</td>\n",
       "      <td>...</td>\n",
       "      <td>...</td>\n",
       "      <td>...</td>\n",
       "      <td>...</td>\n",
       "      <td>...</td>\n",
       "      <td>...</td>\n",
       "      <td>...</td>\n",
       "      <td>...</td>\n",
       "      <td>...</td>\n",
       "      <td>...</td>\n",
       "      <td>...</td>\n",
       "      <td>...</td>\n",
       "      <td>...</td>\n",
       "      <td>...</td>\n",
       "      <td>...</td>\n",
       "    </tr>\n",
       "    <tr>\n",
       "      <th>2744198</th>\n",
       "      <td>A-2744199</td>\n",
       "      <td>2</td>\n",
       "      <td>2017-10-23 19:32:37</td>\n",
       "      <td>2017-10-24 01:32:37</td>\n",
       "      <td>38.852130</td>\n",
       "      <td>-77.400700</td>\n",
       "      <td>38.853100</td>\n",
       "      <td>-77.393170</td>\n",
       "      <td>0.411</td>\n",
       "      <td>Ramp to Custis Memorial Pkwy - Accident. Right...</td>\n",
       "      <td>...</td>\n",
       "      <td>False</td>\n",
       "      <td>False</td>\n",
       "      <td>False</td>\n",
       "      <td>False</td>\n",
       "      <td>False</td>\n",
       "      <td>False</td>\n",
       "      <td>Night</td>\n",
       "      <td>Night</td>\n",
       "      <td>Night</td>\n",
       "      <td>Day</td>\n",
       "    </tr>\n",
       "    <tr>\n",
       "      <th>2568679</th>\n",
       "      <td>A-2568680</td>\n",
       "      <td>3</td>\n",
       "      <td>2018-10-31 12:20:43</td>\n",
       "      <td>2018-10-31 12:50:06</td>\n",
       "      <td>47.162228</td>\n",
       "      <td>-122.475964</td>\n",
       "      <td>47.162249</td>\n",
       "      <td>-122.476046</td>\n",
       "      <td>0.004</td>\n",
       "      <td>At I-5 - Accident.</td>\n",
       "      <td>...</td>\n",
       "      <td>False</td>\n",
       "      <td>False</td>\n",
       "      <td>False</td>\n",
       "      <td>False</td>\n",
       "      <td>False</td>\n",
       "      <td>False</td>\n",
       "      <td>Day</td>\n",
       "      <td>Day</td>\n",
       "      <td>Day</td>\n",
       "      <td>Day</td>\n",
       "    </tr>\n",
       "    <tr>\n",
       "      <th>1263515</th>\n",
       "      <td>A-1263516</td>\n",
       "      <td>2</td>\n",
       "      <td>2021-08-26 15:33:13</td>\n",
       "      <td>2021-08-26 19:21:03</td>\n",
       "      <td>34.143342</td>\n",
       "      <td>-80.933920</td>\n",
       "      <td>34.143957</td>\n",
       "      <td>-80.935403</td>\n",
       "      <td>0.095</td>\n",
       "      <td>Incident on JILDA DR near LONGTOWN RD Drive wi...</td>\n",
       "      <td>...</td>\n",
       "      <td>False</td>\n",
       "      <td>False</td>\n",
       "      <td>False</td>\n",
       "      <td>False</td>\n",
       "      <td>False</td>\n",
       "      <td>False</td>\n",
       "      <td>Day</td>\n",
       "      <td>Day</td>\n",
       "      <td>Day</td>\n",
       "      <td>Day</td>\n",
       "    </tr>\n",
       "    <tr>\n",
       "      <th>2109469</th>\n",
       "      <td>A-2109470</td>\n",
       "      <td>2</td>\n",
       "      <td>2020-05-10 04:13:00</td>\n",
       "      <td>2020-05-10 05:52:33</td>\n",
       "      <td>38.324189</td>\n",
       "      <td>-122.022091</td>\n",
       "      <td>38.324189</td>\n",
       "      <td>-122.022091</td>\n",
       "      <td>0.000</td>\n",
       "      <td>At Lagoon Valley Rd - Accident.</td>\n",
       "      <td>...</td>\n",
       "      <td>False</td>\n",
       "      <td>False</td>\n",
       "      <td>True</td>\n",
       "      <td>False</td>\n",
       "      <td>False</td>\n",
       "      <td>False</td>\n",
       "      <td>Night</td>\n",
       "      <td>Night</td>\n",
       "      <td>Night</td>\n",
       "      <td>Night</td>\n",
       "    </tr>\n",
       "    <tr>\n",
       "      <th>479762</th>\n",
       "      <td>A-479763</td>\n",
       "      <td>2</td>\n",
       "      <td>2021-06-09 15:30:00</td>\n",
       "      <td>2021-06-09 17:46:39</td>\n",
       "      <td>39.532049</td>\n",
       "      <td>-119.739351</td>\n",
       "      <td>39.532640</td>\n",
       "      <td>-119.739037</td>\n",
       "      <td>0.044</td>\n",
       "      <td>Crash (Minor Delays) - on I-80 East near Exit ...</td>\n",
       "      <td>...</td>\n",
       "      <td>False</td>\n",
       "      <td>False</td>\n",
       "      <td>False</td>\n",
       "      <td>False</td>\n",
       "      <td>False</td>\n",
       "      <td>False</td>\n",
       "      <td>Day</td>\n",
       "      <td>Day</td>\n",
       "      <td>Day</td>\n",
       "      <td>Day</td>\n",
       "    </tr>\n",
       "  </tbody>\n",
       "</table>\n",
       "<p>284534 rows × 47 columns</p>\n",
       "</div>\n",
       "      <button class=\"colab-df-convert\" onclick=\"convertToInteractive('df-1ba156e0-6196-4ed6-8a40-47aa264e5e66')\"\n",
       "              title=\"Convert this dataframe to an interactive table.\"\n",
       "              style=\"display:none;\">\n",
       "        \n",
       "  <svg xmlns=\"http://www.w3.org/2000/svg\" height=\"24px\"viewBox=\"0 0 24 24\"\n",
       "       width=\"24px\">\n",
       "    <path d=\"M0 0h24v24H0V0z\" fill=\"none\"/>\n",
       "    <path d=\"M18.56 5.44l.94 2.06.94-2.06 2.06-.94-2.06-.94-.94-2.06-.94 2.06-2.06.94zm-11 1L8.5 8.5l.94-2.06 2.06-.94-2.06-.94L8.5 2.5l-.94 2.06-2.06.94zm10 10l.94 2.06.94-2.06 2.06-.94-2.06-.94-.94-2.06-.94 2.06-2.06.94z\"/><path d=\"M17.41 7.96l-1.37-1.37c-.4-.4-.92-.59-1.43-.59-.52 0-1.04.2-1.43.59L10.3 9.45l-7.72 7.72c-.78.78-.78 2.05 0 2.83L4 21.41c.39.39.9.59 1.41.59.51 0 1.02-.2 1.41-.59l7.78-7.78 2.81-2.81c.8-.78.8-2.07 0-2.86zM5.41 20L4 18.59l7.72-7.72 1.47 1.35L5.41 20z\"/>\n",
       "  </svg>\n",
       "      </button>\n",
       "      \n",
       "  <style>\n",
       "    .colab-df-container {\n",
       "      display:flex;\n",
       "      flex-wrap:wrap;\n",
       "      gap: 12px;\n",
       "    }\n",
       "\n",
       "    .colab-df-convert {\n",
       "      background-color: #E8F0FE;\n",
       "      border: none;\n",
       "      border-radius: 50%;\n",
       "      cursor: pointer;\n",
       "      display: none;\n",
       "      fill: #1967D2;\n",
       "      height: 32px;\n",
       "      padding: 0 0 0 0;\n",
       "      width: 32px;\n",
       "    }\n",
       "\n",
       "    .colab-df-convert:hover {\n",
       "      background-color: #E2EBFA;\n",
       "      box-shadow: 0px 1px 2px rgba(60, 64, 67, 0.3), 0px 1px 3px 1px rgba(60, 64, 67, 0.15);\n",
       "      fill: #174EA6;\n",
       "    }\n",
       "\n",
       "    [theme=dark] .colab-df-convert {\n",
       "      background-color: #3B4455;\n",
       "      fill: #D2E3FC;\n",
       "    }\n",
       "\n",
       "    [theme=dark] .colab-df-convert:hover {\n",
       "      background-color: #434B5C;\n",
       "      box-shadow: 0px 1px 3px 1px rgba(0, 0, 0, 0.15);\n",
       "      filter: drop-shadow(0px 1px 2px rgba(0, 0, 0, 0.3));\n",
       "      fill: #FFFFFF;\n",
       "    }\n",
       "  </style>\n",
       "\n",
       "      <script>\n",
       "        const buttonEl =\n",
       "          document.querySelector('#df-1ba156e0-6196-4ed6-8a40-47aa264e5e66 button.colab-df-convert');\n",
       "        buttonEl.style.display =\n",
       "          google.colab.kernel.accessAllowed ? 'block' : 'none';\n",
       "\n",
       "        async function convertToInteractive(key) {\n",
       "          const element = document.querySelector('#df-1ba156e0-6196-4ed6-8a40-47aa264e5e66');\n",
       "          const dataTable =\n",
       "            await google.colab.kernel.invokeFunction('convertToInteractive',\n",
       "                                                     [key], {});\n",
       "          if (!dataTable) return;\n",
       "\n",
       "          const docLinkHtml = 'Like what you see? Visit the ' +\n",
       "            '<a target=\"_blank\" href=https://colab.research.google.com/notebooks/data_table.ipynb>data table notebook</a>'\n",
       "            + ' to learn more about interactive tables.';\n",
       "          element.innerHTML = '';\n",
       "          dataTable['output_type'] = 'display_data';\n",
       "          await google.colab.output.renderOutput(dataTable, element);\n",
       "          const docLink = document.createElement('div');\n",
       "          docLink.innerHTML = docLinkHtml;\n",
       "          element.appendChild(docLink);\n",
       "        }\n",
       "      </script>\n",
       "    </div>\n",
       "  </div>\n",
       "  "
      ],
      "text/plain": [
       "                ID  Severity          Start_Time             End_Time  \\\n",
       "190579    A-190580         2 2017-05-17 12:24:33  2017-05-17 18:24:33   \n",
       "1348222  A-1348223         2 2021-10-22 17:05:19  2021-10-22 19:17:22   \n",
       "833020    A-833021         2 2021-03-26 16:59:00  2021-03-26 22:26:38   \n",
       "2457942  A-2457943         2 2019-11-13 09:59:00  2019-11-13 10:29:48   \n",
       "147349    A-147350         2 2017-03-14 06:43:55  2017-03-14 12:43:55   \n",
       "...            ...       ...                 ...                  ...   \n",
       "2744198  A-2744199         2 2017-10-23 19:32:37  2017-10-24 01:32:37   \n",
       "2568679  A-2568680         3 2018-10-31 12:20:43  2018-10-31 12:50:06   \n",
       "1263515  A-1263516         2 2021-08-26 15:33:13  2021-08-26 19:21:03   \n",
       "2109469  A-2109470         2 2020-05-10 04:13:00  2020-05-10 05:52:33   \n",
       "479762    A-479763         2 2021-06-09 15:30:00  2021-06-09 17:46:39   \n",
       "\n",
       "         Start_Lat   Start_Lng    End_Lat     End_Lng  Distance(mi)  \\\n",
       "190579   25.898359  -80.209691  25.898359  -80.209691         0.000   \n",
       "1348222  28.608476  -81.417223  28.610859  -81.415959         0.182   \n",
       "833020   40.846573 -124.045459  40.847838 -124.048502         0.181   \n",
       "2457942  34.179484 -118.395326  34.179484 -118.395326         0.000   \n",
       "147349   29.813950  -95.379171  29.813810  -95.378182         0.060   \n",
       "...            ...         ...        ...         ...           ...   \n",
       "2744198  38.852130  -77.400700  38.853100  -77.393170         0.411   \n",
       "2568679  47.162228 -122.475964  47.162249 -122.476046         0.004   \n",
       "1263515  34.143342  -80.933920  34.143957  -80.935403         0.095   \n",
       "2109469  38.324189 -122.022091  38.324189 -122.022091         0.000   \n",
       "479762   39.532049 -119.739351  39.532640 -119.739037         0.044   \n",
       "\n",
       "                                               Description  ...  Roundabout  \\\n",
       "190579                     At 151st St/Exit 11 - Accident.  ...       False   \n",
       "1348222  Slow traffic on FL-424 - FL-434 - County Hwy-4...  ...       False   \n",
       "833020         Accident from Splinter Ln to Buttermilk Ln.  ...       False   \n",
       "2457942                           At Oxnard St - Accident.  ...       False   \n",
       "147349                         At I-45/Exit 17 - Accident.  ...       False   \n",
       "...                                                    ...  ...         ...   \n",
       "2744198  Ramp to Custis Memorial Pkwy - Accident. Right...  ...       False   \n",
       "2568679                                 At I-5 - Accident.  ...       False   \n",
       "1263515  Incident on JILDA DR near LONGTOWN RD Drive wi...  ...       False   \n",
       "2109469                    At Lagoon Valley Rd - Accident.  ...       False   \n",
       "479762   Crash (Minor Delays) - on I-80 East near Exit ...  ...       False   \n",
       "\n",
       "        Station   Stop Traffic_Calming Traffic_Signal Turning_Loop  \\\n",
       "190579    False  False           False          False        False   \n",
       "1348222   False  False           False          False        False   \n",
       "833020    False  False           False          False        False   \n",
       "2457942   False  False           False          False        False   \n",
       "147349    False  False           False          False        False   \n",
       "...         ...    ...             ...            ...          ...   \n",
       "2744198   False  False           False          False        False   \n",
       "2568679   False  False           False          False        False   \n",
       "1263515   False  False           False          False        False   \n",
       "2109469   False   True           False          False        False   \n",
       "479762    False  False           False          False        False   \n",
       "\n",
       "        Sunrise_Sunset Civil_Twilight Nautical_Twilight Astronomical_Twilight  \n",
       "190579             Day            Day               Day                   Day  \n",
       "1348222            Day            Day               Day                   Day  \n",
       "833020             Day            Day               Day                   Day  \n",
       "2457942            Day            Day               Day                   Day  \n",
       "147349           Night          Night               Day                   Day  \n",
       "...                ...            ...               ...                   ...  \n",
       "2744198          Night          Night             Night                   Day  \n",
       "2568679            Day            Day               Day                   Day  \n",
       "1263515            Day            Day               Day                   Day  \n",
       "2109469          Night          Night             Night                 Night  \n",
       "479762             Day            Day               Day                   Day  \n",
       "\n",
       "[284534 rows x 47 columns]"
      ]
     },
     "execution_count": 118,
     "metadata": {},
     "output_type": "execute_result"
    }
   ],
   "source": [
    "sample_df = df.sample(int(0.1*len(df)))\n",
    "sample_df"
   ]
  },
  {
   "cell_type": "code",
   "execution_count": 120,
   "metadata": {
    "colab": {
     "base_uri": "https://localhost:8080/",
     "height": 299
    },
    "executionInfo": {
     "elapsed": 11495,
     "status": "ok",
     "timestamp": 1662408146874,
     "user": {
      "displayName": "sunny pratap",
      "userId": "11288485692058842255"
     },
     "user_tz": -330
    },
    "id": "EnPQM4Y0EcB0",
    "outputId": "1b5b0172-51b9-4871-b7b2-a52eb535c188"
   },
   "outputs": [
    {
     "data": {
      "text/plain": [
       "<matplotlib.axes._subplots.AxesSubplot at 0x7f0dbacbc4d0>"
      ]
     },
     "execution_count": 120,
     "metadata": {},
     "output_type": "execute_result"
    },
    {
     "data": {
      "image/png": "[encoded data removed]",
      "text/plain": [
       "<Figure size 432x288 with 1 Axes>"
      ]
     },
     "metadata": {},
     "output_type": "display_data"
    }
   ],
   "source": [
    "# we have reduced the number of data as took 10% of the data from the csv\n",
    "sns.scatterplot(x=sample_df.Start_Lng, y=sample_df.Start_Lat, size=0.001)"
   ]
  },
  {
   "cell_type": "code",
   "execution_count": 121,
   "metadata": {
    "executionInfo": {
     "elapsed": 510,
     "status": "ok",
     "timestamp": 1662408272394,
     "user": {
      "displayName": "sunny pratap",
      "userId": "11288485692058842255"
     },
     "user_tz": -330
    },
    "id": "ATi2POB0Eb_E"
   },
   "outputs": [],
   "source": [
    "import folium"
   ]
  },
  {
   "cell_type": "code",
   "execution_count": 123,
   "metadata": {
    "colab": {
     "base_uri": "https://localhost:8080/"
    },
    "executionInfo": {
     "elapsed": 382,
     "status": "ok",
     "timestamp": 1662408404754,
     "user": {
      "displayName": "sunny pratap",
      "userId": "11288485692058842255"
     },
     "user_tz": -330
    },
    "id": "q4VkphZlQnma",
    "outputId": "1730b3c9-c073-452a-a794-bddbe9e25294"
   },
   "outputs": [
    {
     "data": {
      "text/plain": [
       "(40.10891, -83.09286)"
      ]
     },
     "execution_count": 123,
     "metadata": {},
     "output_type": "execute_result"
    }
   ],
   "source": [
    "lat, lon = df.Start_Lat[0], df.Start_Lng[0]\n",
    "lat, lon"
   ]
  },
  {
   "cell_type": "code",
   "execution_count": 124,
   "metadata": {
    "colab": {
     "base_uri": "https://localhost:8080/",
     "height": 519
    },
    "executionInfo": {
     "elapsed": 403,
     "status": "ok",
     "timestamp": 1662408504520,
     "user": {
      "displayName": "sunny pratap",
      "userId": "11288485692058842255"
     },
     "user_tz": -330
    },
    "id": "ClRFPrR9Eb1e",
    "outputId": "7701afe3-47dc-41ba-97e7-f954a17631e4"
   },
   "outputs": [
    {
     "data": {
      "text/html": [
       "<div style=\"width:100%;\"><div style=\"position:relative;width:100%;height:0;padding-bottom:60%;\"><span style=\"color:#565656\">Make this Notebook Trusted to load map: File -> Trust Notebook</span><iframe srcdoc=\"&lt;!DOCTYPE html&gt;\n",
       "&lt;head&gt;    \n",
       "    &lt;meta http-equiv=&quot;content-type&quot; content=&quot;text/html; charset=UTF-8&quot; /&gt;\n",
       "    \n",
       "        &lt;script&gt;\n",
       "            L_NO_TOUCH = false;\n",
       "            L_DISABLE_3D = false;\n",
       "        &lt;/script&gt;\n",
       "    \n",
       "    &lt;style&gt;html, body {width: 100%;height: 100%;margin: 0;padding: 0;}&lt;/style&gt;\n",
       "    &lt;style&gt;#map {position:absolute;top:0;bottom:0;right:0;left:0;}&lt;/style&gt;\n",
       "    &lt;script src=&quot;https://cdn.jsdelivr.net/npm/leaflet@1.6.0/dist/leaflet.js&quot;&gt;&lt;/script&gt;\n",
       "    &lt;script src=&quot;https://code.jquery.com/jquery-1.12.4.min.js&quot;&gt;&lt;/script&gt;\n",
       "    &lt;script src=&quot;https://maxcdn.bootstrapcdn.com/bootstrap/3.2.0/js/bootstrap.min.js&quot;&gt;&lt;/script&gt;\n",
       "    &lt;script src=&quot;https://cdnjs.cloudflare.com/ajax/libs/Leaflet.awesome-markers/2.0.2/leaflet.awesome-markers.js&quot;&gt;&lt;/script&gt;\n",
       "    &lt;link rel=&quot;stylesheet&quot; href=&quot;https://cdn.jsdelivr.net/npm/leaflet@1.6.0/dist/leaflet.css&quot;/&gt;\n",
       "    &lt;link rel=&quot;stylesheet&quot; href=&quot;https://maxcdn.bootstrapcdn.com/bootstrap/3.2.0/css/bootstrap.min.css&quot;/&gt;\n",
       "    &lt;link rel=&quot;stylesheet&quot; href=&quot;https://maxcdn.bootstrapcdn.com/bootstrap/3.2.0/css/bootstrap-theme.min.css&quot;/&gt;\n",
       "    &lt;link rel=&quot;stylesheet&quot; href=&quot;https://maxcdn.bootstrapcdn.com/font-awesome/4.6.3/css/font-awesome.min.css&quot;/&gt;\n",
       "    &lt;link rel=&quot;stylesheet&quot; href=&quot;https://cdnjs.cloudflare.com/ajax/libs/Leaflet.awesome-markers/2.0.2/leaflet.awesome-markers.css&quot;/&gt;\n",
       "    &lt;link rel=&quot;stylesheet&quot; href=&quot;https://cdn.jsdelivr.net/gh/python-visualization/folium/folium/templates/leaflet.awesome.rotate.min.css&quot;/&gt;\n",
       "    \n",
       "            &lt;meta name=&quot;viewport&quot; content=&quot;width=device-width,\n",
       "                initial-scale=1.0, maximum-scale=1.0, user-scalable=no&quot; /&gt;\n",
       "            &lt;style&gt;\n",
       "                #map_15ba37c70a97eac3ed121e3d5d1d6e00 {\n",
       "                    position: relative;\n",
       "                    width: 100.0%;\n",
       "                    height: 100.0%;\n",
       "                    left: 0.0%;\n",
       "                    top: 0.0%;\n",
       "                }\n",
       "            &lt;/style&gt;\n",
       "        \n",
       "&lt;/head&gt;\n",
       "&lt;body&gt;    \n",
       "    \n",
       "            &lt;div class=&quot;folium-map&quot; id=&quot;map_15ba37c70a97eac3ed121e3d5d1d6e00&quot; &gt;&lt;/div&gt;\n",
       "        \n",
       "&lt;/body&gt;\n",
       "&lt;script&gt;    \n",
       "    \n",
       "            var map_15ba37c70a97eac3ed121e3d5d1d6e00 = L.map(\n",
       "                &quot;map_15ba37c70a97eac3ed121e3d5d1d6e00&quot;,\n",
       "                {\n",
       "                    center: [0, 0],\n",
       "                    crs: L.CRS.EPSG3857,\n",
       "                    zoom: 1,\n",
       "                    zoomControl: true,\n",
       "                    preferCanvas: false,\n",
       "                }\n",
       "            );\n",
       "\n",
       "            \n",
       "\n",
       "        \n",
       "    \n",
       "            var tile_layer_b9e3ea3da00a6e4415b962e349ab758c = L.tileLayer(\n",
       "                &quot;https://{s}.tile.openstreetmap.org/{z}/{x}/{y}.png&quot;,\n",
       "                {&quot;attribution&quot;: &quot;Data by \\u0026copy; \\u003ca href=\\&quot;http://openstreetmap.org\\&quot;\\u003eOpenStreetMap\\u003c/a\\u003e, under \\u003ca href=\\&quot;http://www.openstreetmap.org/copyright\\&quot;\\u003eODbL\\u003c/a\\u003e.&quot;, &quot;detectRetina&quot;: false, &quot;maxNativeZoom&quot;: 18, &quot;maxZoom&quot;: 18, &quot;minZoom&quot;: 0, &quot;noWrap&quot;: false, &quot;opacity&quot;: 1, &quot;subdomains&quot;: &quot;abc&quot;, &quot;tms&quot;: false}\n",
       "            ).addTo(map_15ba37c70a97eac3ed121e3d5d1d6e00);\n",
       "        \n",
       "    \n",
       "            var marker_3e57d3799d0b7cc288306a3282b8c4f2 = L.marker(\n",
       "                [40.10891, -83.09286],\n",
       "                {}\n",
       "            ).addTo(map_15ba37c70a97eac3ed121e3d5d1d6e00);\n",
       "        \n",
       "&lt;/script&gt;\" style=\"position:absolute;width:100%;height:100%;left:0;top:0;border:none !important;\" allowfullscreen webkitallowfullscreen mozallowfullscreen></iframe></div></div>"
      ],
      "text/plain": [
       "<folium.folium.Map at 0x7f0dba59bb10>"
      ]
     },
     "execution_count": 124,
     "metadata": {},
     "output_type": "execute_result"
    }
   ],
   "source": [
    "# Methods to locate pointer on map using latitude and longitude\n",
    "map = folium.Map()\n",
    "marker  = folium.Marker((lat,lon))\n",
    "marker.add_to(map)\n",
    "map"
   ]
  },
  {
   "cell_type": "code",
   "execution_count": 126,
   "metadata": {
    "colab": {
     "base_uri": "https://localhost:8080/"
    },
    "executionInfo": {
     "elapsed": 613,
     "status": "ok",
     "timestamp": 1662408759337,
     "user": {
      "displayName": "sunny pratap",
      "userId": "11288485692058842255"
     },
     "user_tz": -330
    },
    "id": "zmChQJNwReiH",
    "outputId": "760a174b-45f4-4ae7-f2db-a5162b06f6f9"
   },
   "outputs": [
    {
     "name": "stdout",
     "output_type": "stream",
     "text": [
      "('Start_Lat', 594844     32.798456\n",
      "672036     38.470290\n",
      "1059716    33.698282\n",
      "1481707    36.880553\n",
      "1436466    37.560592\n",
      "             ...    \n",
      "1217067    38.933969\n",
      "1906267    26.138875\n",
      "2359821    34.196280\n",
      "307045     25.855249\n",
      "2203388    36.743031\n",
      "Name: Start_Lat, Length: 100, dtype: float64)\n",
      "('Start_Lng', 594844     -96.681517\n",
      "672036    -121.499143\n",
      "1059716    -84.499042\n",
      "1481707    -76.207869\n",
      "1436466   -121.860684\n",
      "              ...    \n",
      "1217067    -94.520713\n",
      "1906267    -80.414394\n",
      "2359821   -117.419159\n",
      "307045     -80.221634\n",
      "2203388   -119.668409\n",
      "Name: Start_Lng, Length: 100, dtype: float64)\n"
     ]
    }
   ],
   "source": [
    "for x in df[['Start_Lat', 'Start_Lng']].sample(100).iteritems():\n",
    "   print(x)"
   ]
  },
  {
   "cell_type": "code",
   "execution_count": 129,
   "metadata": {
    "executionInfo": {
     "elapsed": 376,
     "status": "ok",
     "timestamp": 1662409493917,
     "user": {
      "displayName": "sunny pratap",
      "userId": "11288485692058842255"
     },
     "user_tz": -330
    },
    "id": "BAeb_JYEU4op"
   },
   "outputs": [],
   "source": [
    "from folium.plugins import HeatMap"
   ]
  },
  {
   "cell_type": "code",
   "execution_count": 131,
   "metadata": {
    "executionInfo": {
     "elapsed": 483,
     "status": "ok",
     "timestamp": 1662409532489,
     "user": {
      "displayName": "sunny pratap",
      "userId": "11288485692058842255"
     },
     "user_tz": -330
    },
    "id": "wr5V4QsOUUGw"
   },
   "outputs": [],
   "source": [
    "sample_df = df.sample(int(0.001*len(df)))\n",
    "lat_lon_pairs = list(zip(list(sample_df.Start_Lat),list(sample_df.Start_Lng)))"
   ]
  },
  {
   "cell_type": "code",
   "execution_count": 132,
   "metadata": {
    "colab": {
     "base_uri": "https://localhost:8080/",
     "height": 519
    },
    "executionInfo": {
     "elapsed": 648,
     "status": "ok",
     "timestamp": 1662409534839,
     "user": {
      "displayName": "sunny pratap",
      "userId": "11288485692058842255"
     },
     "user_tz": -330
    },
    "id": "8alk9qaGRahe",
    "outputId": "9da0ed83-92a7-497e-c847-50aae74bcbd4"
   },
   "outputs": [
    {
     "data": {
      "text/html": [
       "<div style=\"width:100%;\"><div style=\"position:relative;width:100%;height:0;padding-bottom:60%;\"><span style=\"color:#565656\">Make this Notebook Trusted to load map: File -> Trust Notebook</span><iframe srcdoc=\"&lt;!DOCTYPE html&gt;\n",
       "&lt;head&gt;    \n",
       "    &lt;meta http-equiv=&quot;content-type&quot; content=&quot;text/html; charset=UTF-8&quot; /&gt;\n",
       "    \n",
       "        &lt;script&gt;\n",
       "            L_NO_TOUCH = false;\n",
       "            L_DISABLE_3D = false;\n",
       "        &lt;/script&gt;\n",
       "    \n",
       "    &lt;style&gt;html, body {width: 100%;height: 100%;margin: 0;padding: 0;}&lt;/style&gt;\n",
       "    &lt;style&gt;#map {position:absolute;top:0;bottom:0;right:0;left:0;}&lt;/style&gt;\n",
       "    &lt;script src=&quot;https://cdn.jsdelivr.net/npm/leaflet@1.6.0/dist/leaflet.js&quot;&gt;&lt;/script&gt;\n",
       "    &lt;script src=&quot;https://code.jquery.com/jquery-1.12.4.min.js&quot;&gt;&lt;/script&gt;\n",
       "    &lt;script src=&quot;https://maxcdn.bootstrapcdn.com/bootstrap/3.2.0/js/bootstrap.min.js&quot;&gt;&lt;/script&gt;\n",
       "    &lt;script src=&quot;https://cdnjs.cloudflare.com/ajax/libs/Leaflet.awesome-markers/2.0.2/leaflet.awesome-markers.js&quot;&gt;&lt;/script&gt;\n",
       "    &lt;link rel=&quot;stylesheet&quot; href=&quot;https://cdn.jsdelivr.net/npm/leaflet@1.6.0/dist/leaflet.css&quot;/&gt;\n",
       "    &lt;link rel=&quot;stylesheet&quot; href=&quot;https://maxcdn.bootstrapcdn.com/bootstrap/3.2.0/css/bootstrap.min.css&quot;/&gt;\n",
       "    &lt;link rel=&quot;stylesheet&quot; href=&quot;https://maxcdn.bootstrapcdn.com/bootstrap/3.2.0/css/bootstrap-theme.min.css&quot;/&gt;\n",
       "    &lt;link rel=&quot;stylesheet&quot; href=&quot;https://maxcdn.bootstrapcdn.com/font-awesome/4.6.3/css/font-awesome.min.css&quot;/&gt;\n",
       "    &lt;link rel=&quot;stylesheet&quot; href=&quot;https://cdnjs.cloudflare.com/ajax/libs/Leaflet.awesome-markers/2.0.2/leaflet.awesome-markers.css&quot;/&gt;\n",
       "    &lt;link rel=&quot;stylesheet&quot; href=&quot;https://cdn.jsdelivr.net/gh/python-visualization/folium/folium/templates/leaflet.awesome.rotate.min.css&quot;/&gt;\n",
       "    \n",
       "            &lt;meta name=&quot;viewport&quot; content=&quot;width=device-width,\n",
       "                initial-scale=1.0, maximum-scale=1.0, user-scalable=no&quot; /&gt;\n",
       "            &lt;style&gt;\n",
       "                #map_903404dfe95aa85bc42168644e8f7dac {\n",
       "                    position: relative;\n",
       "                    width: 100.0%;\n",
       "                    height: 100.0%;\n",
       "                    left: 0.0%;\n",
       "                    top: 0.0%;\n",
       "                }\n",
       "            &lt;/style&gt;\n",
       "        \n",
       "    &lt;script src=&quot;https://cdn.jsdelivr.net/gh/python-visualization/folium@master/folium/templates/leaflet_heat.min.js&quot;&gt;&lt;/script&gt;\n",
       "&lt;/head&gt;\n",
       "&lt;body&gt;    \n",
       "    \n",
       "            &lt;div class=&quot;folium-map&quot; id=&quot;map_903404dfe95aa85bc42168644e8f7dac&quot; &gt;&lt;/div&gt;\n",
       "        \n",
       "&lt;/body&gt;\n",
       "&lt;script&gt;    \n",
       "    \n",
       "            var map_903404dfe95aa85bc42168644e8f7dac = L.map(\n",
       "                &quot;map_903404dfe95aa85bc42168644e8f7dac&quot;,\n",
       "                {\n",
       "                    center: [0, 0],\n",
       "                    crs: L.CRS.EPSG3857,\n",
       "                    zoom: 1,\n",
       "                    zoomControl: true,\n",
       "                    preferCanvas: false,\n",
       "                }\n",
       "            );\n",
       "\n",
       "            \n",
       "\n",
       "        \n",
       "    \n",
       "            var tile_layer_c340866de891bb31f2a863887eaadef7 = L.tileLayer(\n",
       "                &quot;https://{s}.tile.openstreetmap.org/{z}/{x}/{y}.png&quot;,\n",
       "                {&quot;attribution&quot;: &quot;Data by \\u0026copy; \\u003ca href=\\&quot;http://openstreetmap.org\\&quot;\\u003eOpenStreetMap\\u003c/a\\u003e, under \\u003ca href=\\&quot;http://www.openstreetmap.org/copyright\\&quot;\\u003eODbL\\u003c/a\\u003e.&quot;, &quot;detectRetina&quot;: false, &quot;maxNativeZoom&quot;: 18, &quot;maxZoom&quot;: 18, &quot;minZoom&quot;: 0, &quot;noWrap&quot;: false, &quot;opacity&quot;: 1, &quot;subdomains&quot;: &quot;abc&quot;, &quot;tms&quot;: false}\n",
       "            ).addTo(map_903404dfe95aa85bc42168644e8f7dac);\n",
       "        \n",
       "    \n",
       "            var heat_map_11be3809a81f464ae588bfccdccdfa1a = L.heatLayer(\n",
       "                [[33.841849, -118.26279], [28.534281, -81.39716999999997], [33.946265999999994, -118.094104], [29.701897, -95.571108], [41.16166, -112.04287], [45.543842, -122.519531], [38.02182, -121.9607], [41.487709, -112.028995], [37.608629, -76.60229], [35.218929, -84.590547], [33.403253, -111.967692], [41.726029, -73.717077], [36.162925, -86.77687], [40.109369, -83.083075], [33.750135, -117.832021], [39.916985, -74.94476800000002], [37.468487, -122.210699], [34.150676000000004, -118.121387], [28.364509, -81.42394], [42.852341, -73.887526], [28.543132, -81.252648], [39.10047, -121.084983], [34.11957, -117.77898], [32.838429999999995, -97.22698], [33.931006, -118.383876], [38.892826, -77.187474], [40.698887, -73.52300100000002], [45.14549, -122.88658999999998], [41.839279, -124.035101], [35.495379, -108.499488], [39.93515, -74.96556], [36.127148, -86.707564], [43.990543, -123.006187], [29.60027, -95.266393], [42.303696, -88.075098], [39.632395, -77.81353299999998], [34.061529, -117.931684], [29.930426, -95.294169], [35.30312100000001, -119.002522], [40.756862, -111.888142], [38.597292, -77.314753], [43.045431, -75.951265], [33.893956, -118.046974], [25.736808, -80.319627], [39.04598, -77.03227], [37.99478, -122.291239], [32.891, -96.708782], [33.889034, -84.255427], [37.689733, -121.907651], [35.83872, -78.675063], [33.608889000000005, -117.685578], [43.222585, -77.38725500000002], [32.9069, -96.72828], [33.673526, -117.885872], [33.971175, -112.721885], [35.217398, -80.844278], [47.074838, -122.294214], [33.842828000000004, -80.37134], [25.73953, -80.31973], [45.48903, -122.67628], [43.472, -123.31631000000002], [38.083211, -122.549415], [41.49599, -112.01607], [44.952722, -123.052361], [33.526777, -81.785562], [39.6298, -104.90516], [38.875987, -76.976357], [28.44618, -81.47417], [33.871461, -117.685192], [29.090462, -82.169042], [27.96795, -82.728555], [40.841207, -84.841024], [40.993924, -78.253656], [35.26794, -119.00299], [37.698694, -77.737938], [41.86597, -87.64442], [30.3682, -81.76082], [33.2953, -111.96481], [45.331447, -123.837261], [40.704774, -73.816889], [37.683606, -121.052905], [40.078788, -75.187658], [32.334946, -95.309738], [45.998778, -94.340629], [32.930509, -80.140586], [43.062248, -75.80847], [41.107546, -73.41067199999998], [33.772238, -117.908854], [40.992362, -73.661836], [34.120714, -117.872639], [34.039736, -117.318415], [28.544418, -81.25465799999998], [38.810905, -77.487881], [36.614088, -121.520738], [40.7777, -111.91067], [34.151990999999995, -118.132261], [44.843884, -93.059467], [41.05625, -73.81018], [34.14571, -83.6223], [35.190386, -89.956591], [34.09559, -118.2441], [28.551561, -81.396101], [28.473451, -81.396745], [29.830577, -95.530542], [35.863336, -78.711382], [45.734227, -111.098717], [33.765840000000004, -84.386534], [32.235517, -110.806876], [33.987966, -118.361179], [34.181693, -117.174195], [32.605540000000005, -97.32037], [47.045928, -112.41819], [34.067414, -117.427969], [32.74298, -96.91893], [33.845974, -118.092254], [33.48016, -112.2206], [43.276179, -121.773732], [33.974785, -78.74223], [39.1619, -84.556005], [25.764586, -80.303949], [48.832239, -122.485957], [44.403953, -69.750539], [33.264764, -80.187259], [37.855597, -121.274852], [39.160473, -121.688721], [33.909161, -118.262561], [47.624983, -122.18889], [29.84902, -95.50568], [34.031716, -118.41694], [38.004564, -122.279206], [46.915923, -109.764329], [34.857455, -117.08377], [34.06786, -117.4028], [33.812836, -118.287229], [27.777538, -82.63854599999998], [35.848411, -78.580247], [41.3742, -84.187947], [25.724484, -80.415415], [36.44296, -82.61908299999997], [33.5575, -117.19679], [41.88442, -87.64605], [27.822371, -81.00364499999998], [34.02864, -118.21611], [28.206084000000004, -82.666227], [35.832971, -78.675552], [38.012841, -122.119089], [43.77729, -94.42779], [34.647677, -82.5919], [41.332272, -73.817428], [25.90133, -80.243679], [42.14999, -72.61296], [45.074526, -93.286551], [34.018528, -118.480773], [36.947481, -77.72536600000002], [46.179732, -95.708223], [40.67047700000001, -74.282513], [38.525109, -122.497629], [26.023531, -80.167479], [39.359861, -76.504787], [33.690447, -79.11810600000003], [37.901514, -122.070518], [40.748417, -73.156563], [34.808861, -117.098625], [35.84460100000001, -86.432441], [25.716156, -80.43126], [35.3786, -118.949764], [25.891627, -80.163146], [46.571649, -95.52854], [33.913940000000004, -84.47998], [36.00908, -83.83893], [34.136484, -117.50218], [41.100599, -74.03266500000002], [40.1396, -76.38269], [34.652894, -82.23119399999999], [26.325564, -80.116866], [40.89844, -74.48886], [38.423319, -121.395378], [36.148905, -86.857893], [29.97681, -90.09804], [39.979168, -76.758464], [44.768568, -93.799091], [34.06786, -117.4028], [25.865189, -80.205727], [30.503765, -87.23015], [32.656095, -117.086726], [34.747421, -81.05238], [34.033884, -118.356879], [27.78213, -82.660965], [47.54786, -122.67238], [37.595281, -121.872573], [34.893211, -82.344959], [32.439584, -93.716218], [43.022042, -83.654899], [40.60853400000001, -74.088785], [42.43308, -83.42739], [38.152067, -87.55089], [36.23822, -86.783199], [35.75203, -78.69556], [39.77443, -104.85186], [38.922697, -77.21552], [41.69955, -87.59443], [33.960007, -118.286764], [29.222578, -82.119714], [48.316919, -122.234619], [34.171525, -118.518522], [25.68608900000001, -80.395911], [34.072995, -117.776045], [30.32883, -81.676713], [35.738539, -120.70046], [33.046422, -117.13009], [33.85907, -118.28964], [33.63878, -112.30528], [41.11774000000001, -85.1687], [35.79661, -78.58561], [32.949009999999994, -96.82346], [34.03969, -118.38801200000002], [37.642801, -122.094025], [43.02449, -83.73178], [33.816574, -84.250718], [44.87008, -120.92742], [28.32224, -82.32462], [39.904307, -86.069071], [29.822877, -95.392497], [33.956461, -118.281061], [36.276851, -86.79942700000002], [34.98452, -81.97343000000002], [28.476562, -81.417449], [25.769259, -80.34713599999998], [39.15695, -76.83364], [45.074171, -93.286785], [35.966239, -78.517656], [33.930722, -118.210617], [40.264189, -75.59343], [25.914968, -80.209958], [34.014498, -118.128948], [42.228795, -121.766484], [27.935906, -82.29383399999998], [37.702084, -121.823269], [33.74227, -84.391459], [34.055803000000004, -117.689277], [45.024858, -93.453215], [38.96001, -109.72975], [30.553216, -97.692559], [30.320409, -81.681579], [35.350216, -84.746872], [34.07221, -118.16092], [44.527451, -122.907073], [40.708735, -74.188558], [34.173649, -118.518531], [29.749306, -95.339321], [30.235941, -93.217164], [34.138090000000005, -118.22893], [33.598594, -117.247207], [37.990519, -122.310467], [41.647171, -122.520009], [45.58978, -118.46718], [40.464051, -111.913143], [38.661907, -120.941201], [45.900149, -123.67367], [30.05571, -95.43261], [33.549402, -83.351007], [34.128190000000004, -117.92009], [45.18431, -122.80193], [44.96999, -93.31213], [37.41953, -122.090624], [25.926733, -80.293339], [40.65434000000001, -111.9056], [34.490383, -79.872289], [35.096918, -81.664663], [45.72334, -123.23894], [33.935508, -118.291916], [29.955694, -90.080706], [43.039997, -75.462152], [36.13682100000001, -120.164459], [33.856266999999995, -117.987634], [40.6894, -73.62921], [44.86206, -93.22789], [44.951258, -93.136457], [34.090672999999995, -118.475483], [33.00929, -96.70779], [32.225583, -110.853969], [47.951362, -124.38541], [45.48262, -122.566122], [25.571702, -80.376423], [30.334195, -97.738497], [43.01148, -87.91595], [40.374319, -78.75711700000002], [37.981678, -121.342115], [29.792339, -95.411552], [41.096883, -73.940575], [41.107483, -73.807507], [34.028651, -81.101743], [40.28995, -74.73371999999998], [41.582099, -75.421607], [34.274774, -118.596827], [35.021138, -85.16046300000002], [39.659831, -84.157973], [38.88172, -77.38586], [42.286266, -89.31994499999998], [25.55094, -80.39663900000002], [29.860899, -95.387467], [38.28425900000001, -85.82817299999998], [35.65213, -112.13947], [45.327454, -118.068577], [33.12966, -117.09593], [30.471539, -84.290547], [47.17302, -95.68915], [39.048101, -77.150734], [40.247975, -75.243267], [35.774349, -78.72725], [25.921299, -80.309179], [35.79681, -78.58623], [37.959712, -122.051595], [42.37823, -83.21885999999998], [39.935591, -75.14459699999998], [46.099231, -123.065203], [27.932845, -82.73047199999998], [34.066831, -117.443289], [36.065628, -86.812726], [38.660915, -121.355762], [33.13568, -116.37996], [37.916425, -76.471334], [32.69715, -97.06283], [45.26854, -93.00899], [30.469968, -91.163545], [34.067370000000004, -118.16352], [39.66694, -121.732655], [40.815347, -73.886675], [34.291645, -118.468011], [33.992676, -118.061337], [30.257194, -81.433009], [33.6686, -112.127162], [32.904404, -117.224125], [39.042601, -121.094644], [36.157614, -86.759833], [37.690521, -122.078305], [33.612174, -114.599578], [30.550354, -97.943434], [34.364668, -80.435937], [37.560377, -121.909202], [33.869015999999995, -117.757857], [40.13858, -75.17035], [40.72778, -111.95069], [37.03752, -76.39118], [44.85936, -93.39432], [33.88102, -84.16455], [40.75465300000001, -74.121633], [33.940894, -117.261325], [26.611565, -80.17356], [38.68328, -121.337135], [28.449921000000003, -81.479337], [35.285897, -80.849666], [44.53606, -94.48814], [37.589833, -121.870241], [37.357446, -77.339099], [27.839503000000004, -82.786966], [33.106726, -117.312869], [36.677913, -119.777733], [40.101245, -75.418578], [34.480022, -118.2962], [43.22511, -83.07788000000002], [38.98021, -76.16953000000002], [39.76358, -75.51589], [38.848808, -77.42073], [39.668676, -75.601451], [47.602311, -122.332516], [37.58484, -77.43919], [36.050443, -86.61471999999998], [35.028616, -81.92603299999998], [47.607143, -94.746376], [28.526971000000003, -81.434351], [42.34663, -83.10943], [32.923927, -96.774769], [25.733243, -80.333047], [41.75974, -87.90618], [41.044868, -73.76485699999998], [35.153376, -89.882009], [38.358668, -81.71777800000002], [43.18356, -71.652151], [29.555026, -95.151635], [30.339377, -81.540318], [33.256334, -111.327949], [34.175940000000004, -83.91658000000002], [32.327020000000005, -86.26507], [33.776872, -117.831175], [39.797766, -121.88576100000002], [34.433306, -118.585846], [34.016814000000004, -118.160983], [45.346316, -122.962535], [33.854021, -117.915862], [34.004455, -118.173118], [37.68427, -122.116714], [41.35946, -93.77993], [37.60577, -77.51831999999997], [38.879355, -77.25366700000002], [33.2933, -111.08904], [43.164666, -77.664426], [47.351988, -94.622121], [38.861206, -76.969358], [38.79405, -77.15101], [28.397194, -81.249531], [45.01003, -93.19323], [39.746045, -84.199641], [28.76749, -81.359503], [43.04457, -87.92629000000002], [32.812246, -117.15169], [29.83607, -95.33394], [36.214102, -119.329129], [35.855559, -78.59168199999998], [30.24398, -81.58858000000002], [34.18955, -117.43401], [37.85656, -122.495941], [36.785799, -76.41296899999998], [39.792651, -104.988277], [39.13877, -84.53394], [32.837371999999995, -83.614683], [39.419494, -77.45350400000002], [34.081583, -117.723011], [28.449912, -81.47993000000002], [39.479462, -121.548174], [25.692887, -80.365997], [38.838507, -77.44184200000002], [39.47604000000001, -76.82892], [33.381499, -117.173545], [35.026299, -85.368927], [29.59855, -98.35673], [41.81419, -71.403568], [33.042203, -111.783957], [33.87203, -117.66522], [38.322403, -122.025712], [27.99073, -82.72983], [45.203996, -93.351493], [35.214437, -80.780821], [33.860621, -84.29271899999998], [34.119747, -89.906841], [39.58454, -75.07301], [37.61666, -122.155862], [34.261111, -117.44993], [25.62019, -80.44686], [33.969687, -118.247669], [34.17371, -118.556573], [37.756846, -121.456147], [30.383572, -97.690289], [39.65882, -110.86071], [34.035234, -118.149801], [39.026837, -77.10350600000002], [36.046383, -90.269397], [43.980976, -121.514093], [46.510787, -93.828608], [34.27441, -118.54049], [27.444062, -82.576064], [39.20217, -94.49232], [27.97761, -82.453804], [34.170677000000005, -117.453884], [40.89525, -74.11827], [42.73535, -123.3705], [41.03809, -111.938569], [37.573875, -118.742884], [32.7438, -96.72415], [35.083486, -98.243679], [25.744524, -80.319671], [29.252395, -82.18997900000002], [35.721103, -81.65984499999998], [33.66196, -112.35869], [35.825121, -78.58666600000002], [34.598962, -82.657002], [28.313613, -82.505887], [26.814393, -80.097826], [34.15443, -118.31416000000002], [34.171127, -118.574158], [48.426672, -93.57003], [38.767792, -90.491642], [39.74827, -105.39858999999998], [39.120847, -77.198075], [35.70816, -78.607665], [32.80177800000001, -96.826988], [36.803719, -76.13392900000002], [34.067399, -117.571285], [33.423865, -84.684896], [34.101562, -117.538031], [34.006996, -117.965023], [40.025191, -75.523049], [33.95474, -118.107561], [36.867329, -76.43097], [34.927809, -111.736564], [40.699863, -111.890524], [33.668741, -112.082321], [43.156039, -83.619701], [35.27148, -80.83705], [30.725423, -85.908247], [34.703948, -118.130414], [25.854666, -80.207897], [27.904940000000003, -80.597044], [42.492046, -87.85293399999998], [33.854094, -117.794617], [33.696102, -117.084844], [38.728494, -121.286439], [32.436863, -93.74472], [34.018809999999995, -118.178955], [40.589737, -75.55416], [38.61166, -121.40154], [43.133154, -77.47586], [44.25743, -88.46624], [32.645928999999995, -96.857117], [30.449128, -84.30985600000002], [45.52555, -122.6607], [34.99113, -80.84899899999998], [39.670299, -104.82931], [25.899797, -80.20967900000002], [42.332315, -83.138434], [39.00511, -77.08173000000002], [39.243998, -104.878828], [42.240039, -83.198593], [33.856782, -118.028523], [47.493186, -92.421267], [34.8325, -118.866111], [28.092461, -82.73944399999998], [40.73062, -73.92649], [33.937982, -118.094582], [42.274932, -84.386981], [43.56417, -116.192017], [37.778707, -122.168984], [30.46366, -84.299265], [27.565006, -82.513062], [33.498054, -117.658499], [36.975392, -121.983169], [47.864538, -122.63272], [41.220519, -95.832185], [29.96345, -95.550973], [38.825382, -120.056497], [32.79647, -96.81505], [26.18241, -80.15254], [25.686257, -80.385571], [28.33845, -81.506055], [34.06521, -84.27355], [32.740256, -116.939937], [35.968296, -118.486619], [40.226379, -111.677269], [40.828085, -73.93405200000002], [29.963631, -90.071007], [34.585508000000004, -118.133701], [37.53426, -122.07832], [35.634468, -80.362076], [37.354905, -77.410488], [25.740371, -80.335782], [33.668217, -117.753673], [25.684475, -80.445376], [34.067838, -117.403173], [33.928016, -118.028939], [41.85571, -87.64464], [44.836973, -93.398298], [33.805969, -84.381867], [38.018719, -121.89762], [41.05127, -77.18315], [29.71198900000001, -95.269874], [42.892954, -73.77245400000002], [28.27577800000001, -80.693268], [39.71376, -75.60949000000002], [25.900021, -80.209715], [38.32364000000001, -77.4687], [25.844905, -80.206903], [34.08874, -117.99432], [37.59662, -112.926546], [40.61066, -74.03171999999998], [34.171243, -118.518511], [38.63941, -90.44722], [34.151740999999994, -118.468011], [38.925729, -76.90199], [34.048533, -117.549707], [33.581331, -117.671867], [33.960849, -117.313738], [26.121687, -80.16857399999998], [30.448481, -97.552167], [40.133727, -75.447387], [45.411636, -122.628542], [40.304569, -84.18073000000003], [40.64265, -74.63877], [39.116986, -76.968466], [26.08325, -80.17908], [28.22437, -82.724112], [43.160577, -77.63451500000002], [25.68692, -80.416652], [42.714919, -83.34069699999998], [43.38355, -121.21414], [33.743239, -117.115034], [43.01679, -74.87841], [28.494932, -81.43154100000002], [38.397555, -122.783203], [41.84636, -87.63839], [42.19584, -121.6982], [37.034808, -76.35312900000002], [37.21094, -93.312153], [30.44305, -84.41181999999998], [45.407896, -122.56884], [28.357427, -81.49825799999998], [32.933898, -96.753682], [37.66366, -122.10616], [34.018961, -118.178139], [45.662194, -108.80236], [33.672484000000004, -111.970456], [40.117064, -75.349977], [33.543759, -84.582463], [26.40183, -80.090085], [37.54481, -77.42825], [36.84760900000001, -120.055854], [28.188407, -82.46629200000002], [41.822944, -72.666095], [36.1626, -95.95815], [40.01356, -75.235743], [37.3113, -79.399731], [25.731959, -80.385292], [38.606761, -121.431771], [32.843920000000004, -96.63466], [40.914728, -76.429289], [36.730269, -119.286116], [36.8469, -75.99258], [39.816097, -111.833611], [33.83071, -84.36036999999997], [33.489395, -112.127647], [41.299333, -122.314043], [25.884153, -80.35084], [38.898241, -77.010944], [32.206438, -110.850962], [32.685003, -97.461824], [37.066263, -76.428065], [30.215684000000003, -93.366776], [32.775765, -117.134993], [33.751781, -117.846581], [38.010349, -84.495752], [39.64415, -84.23301], [35.91403, -78.68177], [40.66764000000001, -73.99632], [36.67811, -121.64149], [34.892181, -82.28541899999998], [39.051321, -76.8415], [40.4608, -79.9159], [25.705014, -80.334372], [35.231405, -80.970708], [39.932294, -77.633028], [45.04316, -93.452523], [36.851468, -121.605438], [25.943451, -80.30708800000002], [36.046348, -86.713363], [33.731722, -117.833977], [32.47419, -93.74604], [40.72798, -74.12911], [33.66978, -117.82327], [28.532406, -81.52511], [33.462442, -80.526208], [32.66362, -97.28869], [36.702058, -80.251008], [41.714728, -87.629694], [44.777559, -93.217803], [28.196893, -80.708688], [28.392358, -81.36576099999998], [39.519571, -104.867345], [34.099358, -117.819215], [34.201256, -118.464835], [40.66661, -73.80856], [32.926081, -80.042452], [25.804242, -80.321342], [43.654318, -123.876987], [25.69143900000001, -80.36596], [38.610492, -121.380944], [39.010582, -76.861324], [37.72032700000001, -121.937566], [40.665732, -73.74966500000002], [27.447319, -82.531886], [45.12396, -123.11703], [41.5921, -73.76479], [30.353343, -97.753159], [34.236189, -119.17688400000002], [44.948009000000006, -92.985558], [37.401353, -77.531748], [40.87784, -84.62528], [38.00063, -122.28265], [41.64006, -108.48333999999998], [39.77999000000001, -104.95311], [34.346469, -118.504208], [34.279115000000004, -118.474047], [39.030716, -94.55397], [36.151882, -86.78631], [34.150290000000005, -118.06781], [32.815436, -117.158936], [29.602414000000003, -98.442102], [35.491073, -78.34784300000003], [45.977085, -94.461532], [47.757829, -122.172124], [46.73447, -113.697821], [33.989054, -117.349574], [29.82211, -95.333377], [40.218804, -74.757577], [41.089721, -73.45376999999998], [35.060316, -81.96651700000002], [25.702455, -80.332105], [36.140781, -86.666561], [34.139746, -80.916436], [39.580551, -76.106095], [37.932265, -122.401755], [29.843322, -95.273318], [27.471806, -82.554829], [35.797654, -78.56290200000002], [36.01892, -79.82569000000002], [47.868111, -114.027498], [41.55168, -73.03296], [33.974765000000005, -118.252995], [34.06371, -117.28439], [32.827857, -96.823998], [25.972425, -80.214864], [33.685867, -112.397856], [39.78338, -105.00958], [33.864315000000005, -117.87799], [40.739201, -112.191378], [35.183891, -80.758094], [25.648948, -80.41551700000002], [42.512524, -83.114985], [34.183789000000004, -117.350774], [40.65467, -111.45722], [34.087270000000004, -117.646982], [40.886017, -73.809188], [29.674864000000003, -95.555956], [38.979101, -76.833979], [38.408279, -121.384602], [33.859259, -118.201702], [34.021407, -118.196078], [39.153631, -74.748347], [34.974063, -104.942361], [25.850921, -80.384642], [26.375124, -81.807783], [29.857668, -95.321755], [33.901878, -118.286894], [37.280267, -120.487676], [29.89083, -95.41199], [42.40768, -82.95081], [33.93823, -84.49977], [40.70914000000001, -74.2491], [34.614027, -92.268646], [38.2228, -85.51084], [40.71159, -111.98165], [41.030986, -73.749966], [44.078792, -124.105174], [39.984674, -75.27193100000002], [25.732097, -80.33571500000002], [44.99292, -93.40085], [39.726251, -86.046627], [33.933767, -118.352469], [42.27687, -84.36062], [39.72889, -105.01493], [40.815897, -73.934124], [37.995952, -122.287802], [39.239548, -120.752531], [40.718065, -112.114229], [36.756619, -120.132378], [42.154219, -78.669556], [35.25307700000001, -80.978883], [40.721555, -73.94193100000003], [32.841099, -96.625192], [34.020212, -117.814998], [36.590963, -121.86701399999998], [33.75165, -84.37988], [39.444361, -77.40010799999997], [35.202587, -80.730746], [26.09821, -80.24647], [36.065229, -77.821558], [34.070755, -117.762634], [42.6931, -73.37212], [36.975688, -121.898047], [29.6307, -95.16875], [42.025698, -80.123623], [34.316692, -117.479754], [41.57791, -87.54202], [29.356924, -98.631158], [34.060520000000004, -81.04902], [33.8903, -118.10469], [33.773549, -117.871531], [42.334975, -74.051086], [29.94793, -90.073728], [39.418582, -77.453471], [33.727033, -117.981031], [35.935152, -84.145306], [37.71145, -122.39556], [38.56179, -121.64726], [28.067386, -82.74591], [47.64631, -122.32293], [37.09323, -76.4627], [38.96269, -76.86719000000002], [29.004811, -82.150159], [42.183801, -88.190922], [42.924073, -83.625936], [37.24188, -121.79925], [40.012663, -78.11332], [34.15316, -118.3583], [40.010536, -83.119241], [37.6524, -122.09887], [28.67158, -81.556674], [34.664107, -118.153527], [30.213137, -97.753515], [41.324375, -72.882839], [33.767945000000005, -117.920267], [38.88300200000001, -77.03134], [40.932344, -124.114426], [41.578091, -87.645889], [48.418975, -113.750266], [45.521162, -122.813134], [34.620979, -120.080528], [30.25475, -81.51342], [32.691744, -117.093767], [37.23957, -119.707346], [44.28381, -92.90287], [34.765389, -118.799288], [40.37476, -104.99155], [34.890229999999995, -82.46849], [42.75708, -73.6163], [38.543856, -121.408859], [34.690144000000004, -117.880697], [33.916819, -84.342667], [40.16673400000001, -79.73805], [45.96328, -86.25774], [36.8871, -76.429148], [30.335043, -97.510603], [33.007503, -80.249978], [40.74092, -73.837298], [25.796852, -80.354956], [37.600827, -122.062297], [35.021277000000005, -85.380629], [30.264851, -81.608819], [48.386042, -114.051628], [42.15763, -121.79909], [38.66094, -121.35778], [40.821043, -74.027606], [34.039445, -118.589154], [40.710428, -74.002414], [33.818982, -118.296464], [39.98533, -104.98784], [39.77667, -74.24391999999997], [35.395833, -118.961667], [27.828440000000004, -82.658508], [28.191571000000003, -82.74006800000002], [34.045461, -118.270536], [32.807132, -96.793131], [36.197153, -86.781693], [40.18096, -74.10131], [28.567595, -81.20780400000002], [30.402125, -86.93552], [33.779901, -117.883247], [41.136535, -85.012217], [29.66981, -98.63286], [34.001644, -118.174105], [38.767286, -121.253131], [35.447361, -83.37942199999998], [34.039734, -118.58112], [29.957324, -81.44455699999997], [27.854901, -82.694748], [34.09095, -118.23924], [38.24301, -122.112346], [28.35645, -81.523313], [25.536491, -80.410483], [37.51651, -121.94099], [25.70083, -80.33916500000002], [25.714093, -80.428666], [28.33931, -81.410187], [33.994868, -118.404566], [41.29673, -72.916656], [39.863804, -104.98748], [37.466168, -122.347583], [46.049934, -94.454473], [25.598284, -80.36443299999998], [33.252078999999995, -117.183712], [33.445964000000004, -111.891], [38.101044, -121.306217], [40.75327, -74.21083], [30.23252, -97.72103], [29.061448, -82.174276], [37.57133, -122.31467], [39.03723, -121.131912], [25.804233, -80.24824100000002], [41.71332, -87.53529], [41.59236, -93.6708], [32.31832, -111.044307], [40.28508, -74.29448000000002], [38.476556, -107.228418], [38.065685, -122.169696], [36.97016, -121.995752], [34.068704, -81.023974], [29.263018, -82.19184200000002], [25.826285, -80.321567], [36.11065, -84.02431], [40.68975, -74.20304], [26.116539000000003, -80.137096], [38.93438, -94.68096], [41.63535, -93.777118], [32.866440000000004, -96.88175], [34.370006, -117.426051], [28.448094, -81.636174], [42.306032, -87.99811700000002], [35.968351, -78.484654], [29.65947, -81.28274499999998], [25.872704, -80.347313], [28.307992, -81.365524], [28.325333, -81.40371999999998], [39.668676, -75.601451], [37.699131, -122.421055], [34.172995, -81.309884], [42.282875, -87.951993], [38.303972, -85.849903], [35.800477, -83.85115], [45.760449, -123.30404], [32.792551, -96.798084], [34.036261, -118.321182], [35.232517, -111.814062], [29.953039, -82.56930600000003], [25.721375, -80.382805], [26.365631, -81.807707], [30.293192, -97.699889], [33.120857, -97.033322], [33.446936, -112.110961], [35.662382, -120.369026], [33.881159999999994, -117.57548], [38.57306, -121.50902], [34.058717, -118.253123], [25.94459800000001, -80.121172], [26.572171, -80.069304], [35.914038, -82.756973], [42.502352, -71.109107], [29.956455, -90.082276], [30.31711, -81.73409000000002], [47.729753, -122.324159], [40.369702, -75.932317], [37.4625, -122.14454], [41.006545, -124.111816], [33.040063, -80.13963199999998], [29.494031, -82.29368000000002], [32.4547, -93.736298], [35.16245, -80.96988], [33.918501, -118.190834], [32.657051, -96.874826], [41.49682, -95.0688], [25.692562, -80.448153], [42.37322, -87.92421999999998], [38.681915, -121.540216], [38.870451, -77.465843], [37.73279, -120.995231], [46.007054, -123.915089], [28.450256, -81.40700600000002], [30.691324, -88.03137], [40.034498, -111.521959], [40.235111, -74.538787], [29.80803400000001, -95.301989], [28.11669, -80.70585], [34.040766, -117.698247], [29.78476, -95.66375], [34.024648, -118.270186], [34.256683, -118.434866], [37.64131, -77.5161], [39.117753, -121.571129], [41.77888, -71.42545], [34.152707, -118.101476], [44.056216, -122.940305], [41.66935, -73.788717], [29.77873300000001, -95.186642], [29.720423, -95.552199], [33.856189, -78.79217299999998], [36.841451, -121.487034], [42.01795, -71.0463], [40.79539000000001, -74.34154000000002], [33.391323, -117.174027], [36.07246, -80.339015], [32.7424, -96.81808], [34.02571, -117.80597], [29.707346, -95.484613], [46.317881, -95.438664], [30.1868, -81.6412], [25.76911, -80.351476], [37.69937, -121.92906], [36.9035, -76.24277099999998], [33.687345, -117.885667], [41.855452, -122.573964], [40.471403, -78.284351], [25.804242, -80.321342], [35.096752, -81.290305], [34.083721999999995, -117.544605], [29.738191, -95.32763], [45.072194, -93.247028], [29.66346, -95.38519], [41.154633, -73.24521800000002], [33.98766, -118.369759], [35.198938, -83.777477], [38.49532, -77.383361], [27.09945, -82.385154], [33.854002, -117.941834], [30.156185, -97.761333], [30.36220800000001, -81.66882], [45.51016, -122.66665], [32.939825, -96.769857], [34.027336, -81.045974], [34.093974, -117.20064], [39.77915, -86.28919], [28.596190000000004, -81.24457], [34.377596000000004, -118.493462], [36.765982, -76.264553], [32.700139, -96.657094], [34.362915, -119.448265], [40.475882, -78.389717], [30.516105, -90.998478], [34.13537, -118.000743], [34.173157, -118.535976], [32.907454, -96.909094], [30.320775, -81.688448], [37.48722, -121.94161], [39.966172, -75.186689], [30.440465000000003, -91.213098], [33.126729, -117.104891], [38.56384, -121.63678], [33.65653, -84.49672], [35.078990000000005, -78.78865], [35.31517, -80.83357], [25.767932, -80.32457], [40.70943, -74.184232], [25.650685, -80.33105400000002], [33.771288, -117.997126], [34.066511, -117.458084], [36.960166, -81.098159], [32.28796, -82.40590999999998], [39.832189, -86.035945], [40.013749, -76.80333], [38.646067, -121.378616], [26.06663, -80.165297], [32.64488, -96.85063], [25.972505, -80.23812099999998], [27.935949, -82.564305], [41.698722, -73.49457], [37.729893, -122.440062], [38.52232, -121.521844], [34.071775, -118.097839], [43.102637, -73.752712], [32.76875, -96.80471], [37.77056, -122.40589], [29.7227, -95.50072], [25.645095, -80.33364499999998], [40.75553, -111.58732], [39.015316, -82.709222], [33.89952, -84.26938], [28.578062, -81.30935500000002], [42.06503, -88.33564], [33.995354, -81.140363], [33.5384, -86.64493], [43.055093, -76.595197], [34.274741, -118.556538], [35.067944, -85.211945], [35.840323, -78.574291], [33.981995, -118.24281299999998], [29.695805, -95.301591], [25.791015, -80.264484], [37.25322, -121.78909], [37.93452, -121.980582], [43.03076, -89.1948], [33.89083, -118.18853], [34.068649, -117.400765], [44.879065, -123.187485], [33.946707, -118.370118], [28.59757, -81.29799], [35.411235, -119.052897], [28.44643300000001, -81.594899], [28.636648, -81.280035], [40.06986, -75.150672], [41.9279, -72.60905], [45.12276, -93.30651], [39.698871, -86.107095], [33.92819, -118.29621000000002], [38.31422, -111.52318], [41.244668, -73.082963], [38.79497, -90.56894], [32.7729, -96.81064], [34.088, -84.58837], [34.225024, -118.248678], [32.84611, -117.11848], [32.313629, -81.055251], [34.068957, -117.6064], [27.061218, -82.41813], [35.39367, -78.51928000000002], [40.665222, -73.802155], [34.842403999999995, -82.469841], [43.951481, -94.793826], [39.206691, -120.791526], [37.78554000000001, -122.1935], [37.494562, -77.43108000000002], [40.558315, -75.99467299999998], [25.963445, -80.149534], [39.39077, -77.4174], [25.714607, -80.413569], [44.970914, -93.460274], [41.06018, -81.56655], [28.552632, -81.445926], [42.37243, -83.085252], [38.554962, -121.40444], [35.263492, -78.62086500000002], [30.471334, -90.854291], [47.281201, -122.309862], [32.4737, -93.779983], [38.88499, -90.12375], [37.442659, -77.475533], [39.17488, -76.79551], [30.444087, -91.158137], [41.10248, -112.00289], [25.751663, -80.39027800000002], [35.83164, -78.67721999999998], [29.689306, -95.554917], [45.803397, -95.104055], [34.026411, -118.235149], [34.000782, -117.35221], [25.904649, -80.24203299999998], [38.985983, -77.430256], [34.06392, -117.81483], [40.658817, -122.894765], [37.694587, -122.143773], [32.78864, -96.76414], [32.696239, -117.085107], [33.029319, -96.708667], [38.174476, -121.242182], [38.55373400000001, -121.375841], [38.894101, -77.014042], [33.98175, -84.34219], [40.269006, -77.044054], [45.069487, -93.286416], [30.371129, -91.016687], [34.164496, -118.623281], [37.228563, -77.892421], [35.237298, -80.940529], [39.026721, -122.063355], [38.493144, -121.457667], [37.686765, -122.116857], [34.068173, -118.027173], [30.478252, -91.160624], [41.551757, -73.050146], [39.699735, -86.172147], [42.73784000000001, -83.45529], [32.938665, -117.224649], [35.22444, -80.89787], [36.463914, -80.767126], [38.012821, -121.872431], [40.844731, -73.92514399999997], [40.726928, -74.017151], [41.46456, -81.53527], [40.15943, -75.21493000000002], [41.281741, -72.864712], [32.9237, -96.75621], [33.97415, -118.079941], [33.45792, -112.33462], [28.186154, -82.427592], [25.689146, -80.38287199999998], [32.831331, -96.705484], [42.745131, -123.371905], [33.952257, -80.919983], [27.9815, -82.40149], [43.161562, -83.747067], [28.574003, -81.452139], [25.688935, -80.416063], [39.138951, -76.812218], [45.3623, -118.00272], [38.01643, -121.88658999999998], [30.42352600000001, -97.669134], [40.91668, -111.891428], [37.572148, -121.88865], [34.121357, -117.302924], [42.274362, -123.021632], [39.005612, -77.083449], [30.13807000000001, -81.77375], [44.258136, -123.227065], [35.613263, -82.63210600000002], [28.428665, -81.406997], [35.251752, -81.28102700000002], [43.043806, -77.622822], [33.138165, -117.139789], [42.47077, -95.1481], [35.53334, -97.51373], [39.364343, -77.521381], [30.082312, -97.66584], [39.75354, -105.01485], [39.33109, -120.28613], [32.713347, -117.131005], [36.76071500000001, -121.740058], [40.64759, -111.90231], [34.30615, -110.950595], [45.563139, -123.892322], [39.116746, -77.066119], [38.859471, -77.220209], [39.93889, -74.97187], [33.13946, -117.1493], [34.262221999999994, -119.230556], [39.96822, -75.57587], [39.890233, -76.237998], [35.164953000000004, -81.773172], [25.9271, -80.22164000000002], [38.057427, -121.268771], [32.40254, -111.21686], [44.965013, -93.282734], [27.748428000000004, -82.675219], [27.79247, -82.35664], [35.849949, -78.579598], [39.92372, -86.22270300000002], [42.030036, -122.603576], [27.91103, -82.762376], [45.009323, -93.120685], [36.036368, -79.78881899999998], [32.730878000000004, -96.709545], [42.48766, -83.22963], [40.141279, -74.95825699999997], [45.028227, -92.968035], [45.1236, -93.38894], [33.186931, -117.281058], [25.94189200000001, -80.306828], [45.578999, -122.122129], [34.048662, -118.448185], [36.06130200000001, -79.767812], [30.16901, -81.599209], [37.652149, -77.611586], [39.211755, -76.651404], [32.69362, -117.12324], [40.626593, -111.902993], [33.7417, -117.83709], [41.66267, -87.59124], [37.53877, -77.437187], [35.955931, -78.513865], [33.486503000000006, -80.863028], [38.208571, -122.191711], [37.20857, -93.309868], [42.239481, -87.862161], [41.292169, -96.143625], [34.14959, -83.6492], [39.873193, -75.040515], [43.12952, -87.91296], [35.03264, -85.17364], [28.53821, -81.4676], [37.510439, -121.957235], [34.173157, -118.535976], [33.600159999999995, -86.48176], [38.994978, -122.940372], [33.69891, -84.26978000000003], [38.56215, -121.51444], [36.335297, -119.60094], [36.757141, -119.909338], [34.189034, -117.288054], [30.461322, -91.041887], [33.933411, -117.409296], [39.59611, -76.06092], [39.78903, -104.98891], [33.392072, -117.174211], [40.653178, -111.981182], [36.768161, -76.261767], [41.74279600000001, -72.7348], [38.339117, -81.614082], [39.941488, -76.679035], [39.973885, -77.57289200000002], [26.07862, -80.21576999999998], [37.131997, -104.83136], [33.941528000000005, -117.272163], [34.003725, -118.286382], [34.599795, -82.5438], [35.155481, -80.851609], [40.55257, -105.077], [39.13212, -84.5316], [38.61166, -121.40154], [39.317847, -77.7642], [25.747491, -80.33884499999998], [38.551971, -121.511526], [39.260619, -76.820279], [27.828306, -82.694868], [32.832355, -97.061293], [28.223563, -82.364289], [45.51597, -122.6991], [40.027096, -75.418531], [32.3626, -90.231002], [38.94034, -94.75092], [28.011016, -82.354967], [34.272709000000006, -118.35762], [34.04569, -118.21552], [28.333037, -81.47867], [33.829144, -117.528063], [34.430326, -117.377361], [38.65258, -122.59978999999998], [36.84381, -76.033027], [41.752427, -77.237062], [34.14115, -118.27787], [39.19836, -76.70088], [34.062208, -118.000598], [41.501111, -122.468056], [28.451602, -81.477678], [39.928618, -74.956487], [47.46727, -122.2284], [33.762027, -118.025743], [32.769441, -97.212661], [39.922439, -86.033206], [27.935906, -82.29383399999998], [35.049504, -85.144968], [38.880544, -77.23670200000002], [34.015768, -118.239655], [25.627093, -80.38489], [33.476095, -80.457306], [33.71597, -84.23866], [38.125687, -120.845337], [40.869051, -74.002939], [25.905851, -80.210044], [41.247879, -73.081816], [33.990804, -117.934529], [37.909602, -121.288179], [36.775799, -78.02780899999998], [32.758876, -117.20973], [34.980622, -81.89206], [36.10338, -84.022611], [32.861276000000004, -97.314544], [35.39212, -97.26375], [34.12556, -118.476271], [33.652292, -80.275672], [37.465909, -121.18286100000002], [40.78174, -111.9112], [33.99557, -118.17683], [33.98209, -118.25561], [35.109585, -81.044368], [41.160761, -74.184783], [40.36663, -104.9874], [28.037527, -82.034686], [42.985006, -78.468657], [34.445592, -91.626941], [34.732456, -79.644447], [25.597694, -80.37882900000002], [38.65518, -76.05606], [40.80966, -73.90284], [25.861071, -80.205574], [34.441467, -82.53746], [45.089555, -93.431566], [25.55094, -80.39663900000002], [32.759631, -97.107456], [36.571944, -121.520833], [25.926033, -80.151522], [40.125229, -75.15024100000002], [42.028011, -87.865348], [35.31777, -80.94503], [30.39299, -81.56066], [37.353907, -121.838126], [34.937995, -119.471182], [34.134806, -117.67036], [35.997825, -83.961074], [33.425391999999995, -81.492174], [40.610092, -74.119895], [34.690467, -79.772471], [37.97069000000001, -122.32042], [40.178129, -75.178798], [39.46289, -74.533249], [28.577665000000003, -81.476148], [42.36598, -71.06029000000002], [34.068219, -117.384067], [34.068869, -117.839455], [33.251602, -117.125272], [32.688843, -117.11577], [33.43575, -111.93178], [39.07101, -121.48697], [41.8029, -73.12141899999997], [38.374031, -85.756734], [37.149142, -121.648575], [42.103306, -75.848327], [33.878971, -117.557755], [38.7694, -121.24936], [41.863256, -122.717512], [29.739431, -95.260866], [40.717082, -76.346817], [39.43032, -74.58333], [34.03167, -118.02194], [26.203583, -80.141755], [33.413653000000004, -117.241694], [39.601264, -121.661697], [33.291352, -111.93812], [38.610693, -121.427418], [34.11854, -117.8654], [36.728074, -119.795856], [33.803413, -117.901817], [35.398041, -119.158199], [34.145867, -117.311326], [40.724698, -74.133049], [42.65694000000001, -84.1931], [29.665714, -81.293109], [30.394976, -91.085799], [32.31773, -106.7489], [47.394191, -115.430227], [37.296206, -80.088771], [28.355724, -82.666098], [32.647562, -96.88764], [47.46187000000001, -92.90177], [45.52538, -122.662063], [32.880026, -96.777541], [42.26322, -71.57216], [38.45543, -122.72611], [34.032007, -117.327128], [35.889789, -78.562477], [35.835009, -78.58236099999998], [37.342301, -121.847525], [34.277502, -118.453591], [40.950587, -124.100921], [44.932929, -93.417569], [40.724342, -73.93610699999998], [42.947482, -78.765334], [39.126367, -121.6719], [37.31793, -121.97919], [39.275514, -122.079071], [32.221123, -110.839744], [26.65062, -80.06841], [33.993021, -117.931718], [34.136484, -117.448064], [34.207887, -118.218667], [36.772064, -119.817631], [37.8186, -122.25543], [29.469333, -98.406718], [33.194514, -117.25451499999998], [34.017507, -118.176029], [40.47662, -74.40369], [41.401752, -75.588201], [33.796388, -84.393405], [39.912124, -75.192631], [39.95424000000001, -82.97565], [42.816199, -78.79211], [33.662656, -84.395288], [28.58547, -81.159892], [33.698039, -117.941135], [41.926843, -87.686059], [33.008306, -117.080117], [42.870879, -78.818042], [28.54915200000001, -81.638723], [34.168307, -118.301417], [42.960721, -70.85998199999997], [37.690054, -122.13688700000002], [38.07158, -91.40924], [38.58936, -121.38297], [33.360722, -80.161589], [25.9073, -80.38311], [34.710888, -82.500976], [34.000071000000005, -118.409001], [33.885879, -118.104224], [39.108079, -76.83751], [32.639598, -117.099889], [29.921438, -90.106221], [37.972479, -122.061441], [35.22292, -80.85162], [37.579886, -121.31958], [38.235477, -78.545772], [34.12050900000001, -117.872326], [28.535795, -81.37626800000002], [35.246912, -80.91428499999998], [34.09389, -79.730434], [45.465013, -122.63838], [33.778453000000006, -78.97782], [34.035528, -118.169879], [43.662984, -116.355645], [39.72542, -105.022004], [33.778166, -117.86739], [27.00316, -82.174934], [36.768794, -121.754985], [43.63777, -95.5882], [37.465715, -79.816863], [32.964217, -96.724003], [39.615722, -105.23238700000002], [34.58323, -111.8815], [41.86054, -87.97301], [36.450737, -119.489632], [34.096506, -118.083722], [25.648321, -80.42851999999998], [45.648633, -120.961586], [34.04012, -81.1139], [32.074351, -81.246362], [34.00801, -117.96824], [38.91779, -77.024041], [45.320761, -118.260595], [40.12107, -75.3367], [45.01311, -122.99217], [40.92988, -74.0723], [39.235396, -120.020447], [40.62096500000001, -78.690493], [40.437089, -80.03977900000002], [33.836914, -81.022335], [28.552392, -81.448734], [34.989221, -85.246186], [33.94023, -84.15436], [47.298127, -122.255719], [28.524167, -81.312248], [40.086867, -75.454944], [35.187477, -80.822046], [37.682783, -122.129036], [30.439761, -91.202247], [30.425274, -91.051789], [47.52379000000001, -122.198129], [37.829724, -122.293533], [33.81525, -118.185096], [28.549482, -81.447498], [38.28903, -122.036237], [44.95065, -93.00836], [28.786381, -81.305534], [40.504856, -78.410064], [39.034516, -77.501386], [40.73305300000001, -73.336173], [45.608789, -122.69016299999998], [39.076017, -94.602542], [40.90244000000001, -74.19585], [30.269018, -97.746273], [38.18447000000001, -85.5083], [38.666019, -77.2731], [42.72584000000001, -84.51004300000002], [39.898911, -75.17229], [39.094835, -76.626734], [45.515485, -122.693263], [38.01936, -121.93743], [34.21918, -117.39805], [32.441967, -93.760897], [42.006809, -72.585544], [35.974482, -78.87223], [39.75836, -105.0118], [33.907124, -117.881761], [40.598645, -111.432972], [33.770236, -117.869357], [39.00111, -112.315453], [32.7977, -96.6845], [25.874828, -80.170223], [37.553791, -77.42626700000002], [33.180942, -87.369765], [33.98808, -84.54624], [28.42435900000001, -81.40478399999998], [25.844305, -80.225328], [44.640573, -117.868248], [38.597191, -121.502224], [38.6555, -90.449], [30.194440000000004, -84.3711], [25.807949, -80.31314499999998], [30.277406, -97.638191], [41.760443, -88.035697], [25.90498, -80.32467], [35.847038, -78.58009799999998], [33.89685, -117.48528], [44.0757, -122.779457], [38.235183, -121.517257], [29.92267, -81.413873], [25.74887, -80.320132], [36.758719, -76.341215], [37.37662, -121.941589], [32.71148, -117.11908], [34.133416, -117.230504], [28.175843, -82.392021], [30.610338, -83.138626], [36.658597, -121.621484], [31.61166, -84.145935], [45.685527, -108.640184], [32.697747, -117.182656], [36.899736, -76.42447299999998], [42.17016, -88.29720999999998], [37.217555, -93.304993], [25.824641, -80.240902], [32.914513, -80.10849499999998], [33.368418, -117.549272], [34.03693, -118.43877], [38.09709, -122.73339], [43.053778, -76.12189599999998], [39.87103, -75.10172], [47.46828, -122.21789], [33.176339, -86.77887], [30.481672, -81.643787], [33.683556, -117.858527], [28.606639, -81.298105], [39.951899, -75.283501], [47.76225, -122.18477], [26.077412, -80.21599599999998], [40.69649, -73.98040999999998], [40.04293, -82.99701999999998], [30.27883, -97.7298], [38.646819, -77.338359], [38.68203, -121.33527], [39.884868, -77.035485], [33.872889, -118.340002], [39.877262, -123.721515], [33.889581, -84.26263900000002], [40.00111, -75.82183], [33.921588, -118.202808], [39.90971, -104.99094], [34.066945000000004, -117.448231], [36.326435, -119.166311], [34.065058, -117.307019], [45.785273, -123.441957], [42.987688, -117.1171], [45.729078, -111.090971], [39.125887, -94.677311], [40.726669, -74.096693], [35.365232, -80.827156], [35.37269000000001, -80.78958], [40.003669, -77.10945799999998], [40.528664, -74.36743299999998], [39.305938, -76.792448], [37.641996, -113.252661], [34.068639000000005, -117.974155], [38.02163, -122.10261], [25.702455, -80.332105], [25.686005, -80.39960699999997], [32.710935, -96.799918], [40.802647, -73.930322], [41.8942, -87.62029], [34.249041, -117.86453600000002], [25.81226, -80.22936999999997], [34.145109000000005, -118.217248], [40.732606, -79.92452800000002], [28.441268, -81.470359], [33.87625, -117.66029], [28.068112, -82.45927900000002], [34.150325, -117.479349], [37.683304, -122.127095], [43.107972, -123.356143], [46.03772, -95.83599], [33.710566, -80.920053], [39.99084000000001, -83.02511], [32.9763, -117.25161], [35.882944, -78.62647700000002], [39.32466, -76.65701999999997], [48.539288, -109.645281], [34.234842, -118.290932], [33.486328, -111.818457], [43.974085, -92.444534], [45.624364, -121.534374], [30.248193, -81.514845], [32.91594, -87.870347], [36.32209, -119.65092], [34.143477000000004, -117.256301], [34.451542, -118.614887], [25.856199, -80.20794000000002], [33.704370000000004, -84.40405], [30.518127000000003, -91.012189], [25.966722, -80.16575300000002], [37.616641, -120.978965], [41.229056, -73.186234], [33.905559999999994, -84.35831], [39.1178, -120.949585], [45.39394, -122.42451], [29.73974500000001, -95.477136], [34.418547, -119.591508], [32.726814000000005, -117.218732], [46.100769, -123.919158], [38.336922, -77.495479], [34.11159, -118.183079], [25.950259, -80.148865], [32.982935, -117.083956], [42.21803, -87.82056999999998], [44.995461, -93.349274], [25.913173, -80.20808199999998], [40.568238, -75.523549], [29.474207, -98.517352], [34.337181, -117.480057], [45.55458400000001, -94.124947], [40.209285, -74.084855], [28.547273, -81.413824], [39.878751, -75.10297800000002], [43.146321, -77.648004], [39.279389, -121.098966], [42.730567, -73.847639], [33.973127000000005, -117.332535], [39.363831, -76.650184], [38.48024, -121.408707], [38.563181, -121.471441], [47.467415, -122.221772], [38.64281, -121.12187], [33.075364, -80.656887], [29.992805, -90.077104], [45.12028, -93.238016], [33.772412, -78.980305], [25.73778, -80.38459], [34.019539, -117.988035], [36.07128, -79.155582], [34.268063, -118.435696], [38.227154, -86.597746], [38.012813, -102.613302], [34.156676000000004, -118.41677], [25.83877, -80.20589], [40.69432000000001, -111.79615], [41.390922, -73.598694], [33.926390999999995, -118.376552], [27.903095, -82.636016], [25.824092, -80.206452], [34.12113, -117.897252], [36.75483, -119.73611], [25.945115, -80.205365], [38.770655, -77.307647], [30.700618, -86.74589], [25.732988, -80.338049], [28.467752, -81.330759], [35.964376, -119.1787], [28.472491, -81.409154], [40.56413, -74.25829], [40.43584, -75.42442], [35.25757, -80.84143], [34.448344, -92.766636], [25.899362, -80.243608], [37.931467, -87.54804200000002], [39.788563, -123.248201], [32.89276, -96.96681], [34.398598, -82.24662099999998], [40.708508, -111.90397], [34.18412, -84.506803], [36.62669, -121.678959], [32.895512, -96.751878], [34.116943, -117.302772], [32.26737, -95.297032], [36.13974, -80.2395], [35.1747, -80.87142], [33.351521000000005, -110.987621], [35.385931, -120.471007], [39.436347, -77.409651], [36.037681, -86.78524200000004], [33.609284, -117.68599], [45.37404, -122.32131], [36.978905, -121.899274], [44.81868, -92.94057], [36.406947, -121.369549], [36.157626, -86.760403], [33.880002000000005, -117.567705], [37.764022, -122.216843], [34.386728000000005, -117.412478], [34.056448, -80.949148], [28.487366, -81.438506], [34.073998, -117.752207], [25.891745, -80.124215], [28.669551, -81.44318299999998], [32.88839, -117.11263], [33.86322, -117.53919], [29.663397, -82.421976], [34.105290999999994, -112.141273], [34.23356, -118.47298], [40.873825, -73.80621], [35.991714, -86.683965], [32.955564, -96.822091], [33.872862, -118.285705], [47.643, -122.31531], [37.581256, -122.325414], [47.48348, -122.19564], [34.029139, -118.394843], [34.066714000000005, -117.802931], [33.871482, -117.68551399999998], [33.968971, -118.372467], [39.319589, -76.985244], [38.617187, -121.532256], [44.72133, -123.05407], [35.83535999999999, -78.58295], [26.617202, -80.173789], [29.96171, -90.11439], [32.74792, -83.71646], [38.551643, -121.409423], [33.38568, -111.944922], [34.102925, -118.194952], [37.57085, -122.04553], [39.206047, -76.590327], [40.176729, -74.884804], [37.69351, -122.47029], [33.172971000000004, -87.453113], [40.049288, -76.303435], [33.822323, -84.492813], [25.890334, -80.185466], [38.45719, -122.421328], [34.843564, -82.467476], [40.909277, -73.786464], [44.11386, -123.18217], [25.92184, -80.21123], [41.555947, -72.104612], [45.529952, -122.647026], [38.753924, -90.45449], [40.665239, -122.636507], [39.62500900000001, -76.998097], [45.55521, -122.56672], [42.040718, -87.76337099999998], [45.250621, -93.689029], [34.265566, -118.976747], [28.4385, -81.41305], [38.817825, -76.901112], [36.590963, -121.86701399999998], [32.309005, -111.041992], [41.068611, -76.26696], [34.037564, -117.151347], [33.686732, -117.872668], [34.437591999999995, -81.75734399999997], [44.54310200000001, -92.942306], [38.829109, -77.090405], [34.041915, -117.550471], [40.474597, -78.744345], [39.45215, -74.72755], [46.330736, -93.764674], [30.349002, -97.676512], [28.329217, -82.53643199999998], [34.72015, -86.61968], [27.803572, -82.35280999999998], [36.746036, -119.821598], [29.027611, -81.340841], [37.115381, -76.497967], [26.781401, -80.09935], [40.00772, -75.20091], [39.848888, -78.110854], [40.90142, -74.13597], [27.916578, -82.790813], [28.539625, -81.30597399999998], [40.154674, -75.22153], [34.143544, -118.227041], [39.736176, -84.14971700000002], [39.82728, -105.03437], [43.478701, -92.341524], [33.129822999999995, -97.032946], [37.352714, -121.868645], [33.68662, -117.766], [32.453323, -93.852993], [34.579668, -112.360177], [37.813074, -121.015363], [33.652893, -81.159685], [25.94174, -80.205074], [37.54162, -122.28509], [40.619389, -74.02375500000002], [34.024981, -117.757667], [38.670036, -77.33431999999998], [40.223983, -122.340753], [44.607056, -121.139073], [36.727719, -119.96995], [40.27317, -85.5577], [34.545207, -117.300796], [35.844561, -78.680376], [26.260595, -80.132928], [35.390424, -120.838758], [37.48422, -122.18363], [45.08274, -123.47351], [40.741671, -111.903573], [33.873236, -117.690984], [38.961714, -76.656707], [45.590924, -111.090832], [35.35254000000001, -118.9805], [37.34907000000001, -76.72765], [32.79168, -96.74289], [34.1006, -118.478], [41.246269, -73.095871], [39.733843, -121.816243], [36.22089, -86.7747], [32.817844, -117.236359], [45.547589, -122.548466], [37.54823, -122.29147], [35.27299, -80.837], [29.828104, -95.482192], [33.793997999999995, -117.230075], [25.925188, -80.155876], [39.88598, -75.21025], [42.41973, -73.672921], [39.957014, -75.15545], [34.079192, -117.625819], [39.319618, -84.063213], [32.791177000000005, -117.20703], [25.689517, -80.365911], [34.135476000000004, -117.964764], [36.751218, -78.436914], [46.096154, -122.973457], [40.842608, -74.017542], [37.35463, -122.061887], [32.443423, -93.729666], [38.387839, -81.76825799999997], [40.75072, -73.75083000000002], [35.399564, -82.508679], [34.063677, -117.285001], [38.56775800000001, -121.511391], [32.492686, -93.79512], [33.927382, -118.256392], [25.77382, -80.320665], [39.979923, -111.352947], [35.317646, -119.003092], [40.2067, -75.22576], [38.564452, -121.470894], [39.959261, -75.1739], [25.979529, -80.166149], [30.574274, -88.182581], [45.812401, -119.495125], [37.377491, -121.977815], [33.927917, -118.25428], [45.277887, -122.944661], [33.875333000000005, -118.063537], [37.142814, -77.81420899999998], [36.113867, -86.809825], [33.848215, -117.27893799999998], [33.774698, -78.797566], [29.921840000000003, -81.41367], [38.96195, -77.15325899999998], [32.83971, -97.32399], [42.699963, -73.844352], [41.630576, -72.686287], [44.75269, -93.123621], [33.23406, -97.01282], [37.701861, -121.902563], [44.243358, -119.026501], [37.69358, -122.05756], [40.035998, -76.305346], [32.424806, -111.163219], [43.028519, -83.679355], [34.909284, -82.430226], [34.22382, -117.40701], [38.576764, -121.495], [40.5207, -104.9921], [33.733325, -117.990073], [39.05472, -84.39816], [34.012578000000005, -118.490649], [41.613813, -87.086641], [30.365604, -97.717474], [39.756093, -86.193058], [39.874299, -75.099241], [44.969401, -93.303545], [34.102838, -118.195099], [44.27918, -83.60303], [40.72231, -73.58051], [39.674881, -75.67900999999998], [32.959568, -80.157485], [35.083489, -80.72875400000002], [28.291637, -82.67576600000002], [33.854009999999995, -117.93037], [41.681603, -93.091696], [30.191985, -81.73949300000002], [41.31605, -77.4471], [37.78298, -80.890456], [36.480006, -121.733397], [40.791238, -76.545964], [38.720852, -90.315738], [38.683129, -121.336709], [32.485976, -80.612717], [38.644336, -121.350509], [37.969561, -122.046878], [38.004788, -121.841329], [41.802975, -74.05153299999998], [38.310787, -120.508026], [40.668078, -111.933389], [40.853212, -73.87177700000002], [33.87925, -117.55648], [28.313002, -81.239139], [42.10637, -122.61208], [30.388626, -86.413679], [34.409261, -117.393831], [36.017943, -95.895885], [33.58113, -84.27976], [28.54793, -81.16510699999998], [32.814943, -96.628254], [41.984205, -72.499491], [39.26450300000001, -103.555744], [35.151079, -80.876408], [42.19334, -120.37615], [33.971768, -118.07088600000002], [33.81472, -118.18347], [28.979399, -82.007823], [40.855826, -111.943463], [38.534966, -121.357161], [43.066176, -70.791146], [40.856094, -73.971962], [34.01246, -118.49052], [33.466912, -117.669861], [40.75775, -111.83681], [35.797137, -119.787765], [44.123326, -122.632687], [39.309339, -120.910145], [45.64548, -120.99537], [41.510583, -72.807434], [32.90153, -96.8979], [25.684212, -80.449291], [28.338919, -81.409591], [30.380381, -91.01521], [41.430507, -73.249978], [40.415543, -76.560594], [40.85024, -73.94506], [44.97027, -93.32196], [42.020291, -87.950695], [45.068858, -93.269109], [41.74142, -72.633648], [42.04773, -88.34116], [36.793799, -119.646509], [25.685194, -80.418423], [32.133924, -110.964196], [32.785005, -96.684052], [43.1985, -77.634866], [37.896255, -102.612551], [37.514244, -77.17697], [33.874272, -118.195735], [36.130943, -80.372507], [35.272217, -80.884641], [34.067399, -117.571285], [42.323063, -88.164715], [34.070426, -117.418198], [33.831532, -118.287245], [28.609415, -81.287655], [38.72832, -121.19431000000002], [33.047808, -117.07279], [34.514826, -117.940518], [36.223673, -86.760964], [25.571702, -80.376423], [41.58526, -87.24025], [41.574002, -87.465787], [37.5715, -77.43269000000002], [33.771828, -118.000812], [42.985027, -124.153906], [34.120541, -118.271158], [35.35437, -118.91407], [41.861852, -87.925496], [45.107717, -93.465989], [34.753343, -80.722261], [38.57399, -121.384304], [40.28508, -74.29448000000002], [33.911857, -117.283607], [33.9044, -117.27773], [44.408087, -123.572212], [40.76669, -73.896456], [34.036024, -118.37268], [25.733338, -80.302883], [27.99584, -82.34877], [37.428348, -77.62359599999998], [42.05745, -88.02935], [35.846743, -78.87169300000002], [35.39162, -97.48644], [34.02368, -117.76543999999998], [26.262123, -80.13161099999998], [35.652343, -97.424385], [38.85084000000001, -76.974742], [33.11148, -96.76804], [25.794917, -80.26285], [38.673342, -77.242933], [38.940809, -77.205732], [32.061487, -104.065661], [47.510634, -94.969122], [39.01311, -94.497789], [43.45764000000001, -73.44521], [33.12025, -97.03314], [34.027372, -117.800506], [34.287658, -79.89256999999998], [38.971071, -122.830369], [38.68906, -121.36324], [35.946732, -78.536978], [39.230643, -76.649905], [39.6513, -75.31781], [33.368651, -111.842041], [45.545682, -122.392475], [43.055482, -83.596478], [27.333984, -80.37422600000002], [41.803439, -72.546061], [34.055118, -117.750048], [44.81732, -93.597131], [33.201, -87.566271], [29.522683, -82.303528], [26.182748, -80.152419], [40.738565, -73.815067], [40.43477, -79.96611], [34.764292, -82.20080300000002], [33.866332, -118.331963], [27.664979, -80.873356], [34.055374, -118.196743], [25.92446, -80.154219], [38.244255, -77.503792], [40.22686, -111.67775], [34.814705, -82.441175], [32.737149, -96.851591], [39.170431, -94.55819], [29.807105, -95.524544], [36.156015, -95.77017], [26.528865000000003, -80.17253199999998], [36.71055, -79.80193], [33.748641, -79.464414], [33.895158, -79.630974], [39.280875, -76.621989], [40.39464, -84.25709], [36.16167700000001, -95.886762], [33.835778000000005, -79.185307], [30.462635, -91.003716], [25.605825, -80.357056], [34.05308, -117.5481], [31.67851, -83.61794], [38.090072, -121.260202], [38.739982, -120.696735], [37.4234, -121.91584], [39.503864, -121.552251], [30.493521, -91.065058], [40.42025, -74.21076], [40.622999, -112.293275], [43.6176, -122.082771], [40.99648, -74.07167], [39.59114, -111.44859], [33.928023, -118.297058], [44.96604, -93.262544], [28.559243, -81.484096], [36.15365900000001, -86.757406], [34.018966, -118.178667], [45.789717, -118.266267], [40.718282, -112.062445], [42.101811, -73.937827], [28.395561, -82.551197], [41.229603, -76.99079499999998], [41.869655, -87.885633], [41.244449, -111.994381], [33.621947, -117.317162], [42.69344, -84.66887], [42.936865, -83.597613], [38.990617, -77.15735699999998], [40.636302, -111.914003], [33.800156, -84.392495], [33.914214, -117.882533], [38.562782, -121.487603], [37.95326, -122.32823], [26.05793, -80.16251], [33.988587, -118.247729], [33.438984999999995, -117.622269], [39.0515, -76.84142], [46.237957, -94.647422], [39.814475, -77.149773], [38.230237, -122.258382], [33.84599, -118.205476], [34.81432, -82.33424000000002], [39.78513, -84.18481], [30.517481, -91.177243], [35.41309000000001, -80.85874], [34.058002, -118.010098], [28.447931, -81.470943], [36.171979, -86.507879], [42.338544, -123.324343], [44.77511, -93.28839], [38.704109, -77.44540699999997], [30.770637, -86.680459], [34.819844, -114.595645], [41.72806, -72.657096], [25.78756700000001, -80.17932900000002], [44.467303, -92.907006], [44.972008, -117.87947], [37.49557100000001, -121.952119], [38.640342, -121.481677], [37.48213, -77.589526], [40.33069, -74.63901], [26.81281, -80.09823], [33.724855, -117.83571299999998], [42.322353, -83.215257], [33.873721999999994, -118.231435], [40.52439, -74.345566], [25.81562000000001, -80.355202], [34.175227, -79.615487], [34.2175, -119.050278], [25.518103, -80.428043], [33.434455, -117.617204], [37.625623, -77.452025], [28.636536, -81.447419], [39.76038, -105.00582], [45.124457, -93.188408], [40.281365, -75.297629], [42.38295, -83.17851999999998], [40.6217, -111.90387], [34.453109999999995, -117.662133], [40.74684, -74.09674], [40.72428, -111.92449], [39.48724, -86.01516], [37.930062, -121.618965], [41.344524, -73.65355600000002], [36.084389, -79.225717], [45.22186, -122.58188], [38.55953, -121.46929], [40.71796, -81.30308000000002], [41.188751, -111.983179], [30.26173, -81.60656], [38.593537, -121.283354], [36.844786, -76.170433], [40.538769, -80.188224], [42.221722, -73.73454100000002], [41.726955, -93.57692], [37.500593, -77.42815300000002], [26.330456, -81.81423199999998], [37.357388, -76.736358], [34.225233, -117.407873], [31.733643, -106.317937], [47.83281, -122.26422], [40.613219, -74.02930500000002], [39.05651, -84.54286], [28.463554, -80.676521], [42.29025, -83.131045], [38.102161, -122.275809], [33.808924, -118.287496], [35.016422, -85.280422], [35.49312000000001, -97.50703], [34.0317, -84.0664], [40.421831, -80.097161], [43.12754, -75.31060699999998], [33.774468, -118.057423], [25.86802, -80.24430600000002], [38.26835, -122.60878], [45.391209, -94.784018], [37.579769, -122.25558], [33.988532, -117.909416], [42.79629, -76.12335], [28.482225, -81.33086], [34.233773, -117.422078], [35.934358, -79.914625], [30.449308, -91.180522], [38.138652, -121.162314], [29.736839, -95.623846], [40.773471, -73.675271], [40.692189, -73.284677], [43.97218, -91.979388], [33.961751, -84.52015899999998], [44.964613, -93.244289], [37.078564, -78.704032], [30.526869, -84.583083], [40.071234, -76.32253100000001], [41.691731, -92.100459], [42.99824, -71.425159], [41.02553, -73.60949000000002], [36.15521, -80.27873000000002], [47.639632, -122.195612], [40.93111, -78.524637], [37.69422, -121.92019], [37.75228, -121.46727], [25.732173, -80.33572099999998], [25.866741, -80.250744], [45.37192, -122.74481000000002], [42.96325, -85.70786], [34.00594, -118.41367], [35.32481, -109.082297], [36.074714, -86.768498], [41.19036, -73.6874], [33.950316, -118.170575], [42.437921, -123.289378], [25.949511, -80.182727], [33.904656, -117.278119], [29.512696, -98.53283], [39.952492, -76.39386400000002], [44.969157, -93.202305], [34.004446, -117.550174], [30.2319, -92.53466], [25.870141, -80.209959], [45.53161, -122.25303999999998], [35.978776, -119.053462], [25.996278, -80.247845], [44.46836, -88.02633], [35.793579, -78.65065], [35.586134, -117.670343], [25.503998, -80.41725], [34.028098, -117.754149], [37.83168, -122.00418], [36.128642, -80.372667], [35.144746000000005, -80.927865], [33.628392, -117.720432], [47.32185, -122.59133], [44.632348, -121.12957], [40.853937, -74.174312], [35.499098, -120.686152], [33.856149, -117.99872], [25.888454, -80.18638299999998], [25.65616, -80.416814], [42.616588, -87.95243], [34.01541, -118.17078], [42.718999, -122.549881], [27.108322, -80.260075], [38.7885, -77.17697700000002], [44.760267, -120.986801], [40.0811, -76.35096999999998], [33.383406, -117.17441399999998], [40.106139, -75.407629], [30.458834000000003, -91.166699], [42.15746, -122.64732], [28.027781, -82.21593399999998], [33.968129, -118.223057], [35.441282, -119.072753], [42.501329, -83.116453], [33.981425, -118.229006], [42.942314, -71.38709300000002], [28.495819, -81.434958], [29.78543, -95.73804], [43.36381, -124.21321], [45.31993, -93.27053], [47.31837, -122.24482], [35.790678, -119.143027], [33.99668, -117.72149], [27.006357, -80.208488], [44.883542, -93.104724], [28.48275, -81.44471999999998], [43.30057, -73.6784], [34.040795, -118.579103], [41.15926, -73.77447], [29.657593, -95.402096], [40.640887, -116.329339], [28.225959000000003, -82.691013], [35.783497, -78.7994], [26.07301, -80.16786], [36.26946, -86.73678000000002], [33.756669, -118.018993], [43.88806, -92.22655], [37.608581, -121.053249], [34.214403000000004, -117.121581], [37.627819, -79.575766], [36.758719, -76.341215], [33.70345, -84.16691], [32.88025, -97.09938], [27.521985, -82.52129599999998], [25.732574, -80.354607], [40.16209, -75.1238], [43.12387, -122.13452], [29.79121, -95.08309], [37.700407, -122.471279], [36.10338, -84.022611], [32.216119, -110.94372], [36.965617, -121.741726], [42.78698, -74.01414], [42.28437, -122.818297], [35.1303, -80.65349], [32.871637, -96.764755], [38.867514, -77.187251], [33.849526000000004, -117.84854], [42.33661, -88.031387], [44.04975, -121.30677], [34.03167, -118.02194], [28.19372000000001, -82.59684200000002], [40.95351, -73.86027], [42.82039, -94.67894], [36.126567, -86.728317], [42.43751, -123.27864], [40.61243, -74.13231], [33.773383, -117.871914], [39.076901, -78.22206], [40.66202, -111.9012], [34.23015, -84.46859], [38.15097, -122.449378], [37.410953000000006, -122.075131], [33.979440000000004, -118.28062], [38.086477, -121.27843], [33.89992, -118.05736], [35.886525, -86.478114], [27.964781, -82.799966], [43.186708, -83.71481], [34.013671, -117.982397], [25.506931, -80.425719], [47.758244, -122.625478], [33.866931, -117.723573], [34.188489000000004, -114.57423], [47.35892, -93.57526], [40.898576, -73.879544], [36.217561, -121.13101], [37.700968, -121.803864], [28.878432, -82.092536], [42.279112, -83.151909], [25.787337, -80.19726899999998], [34.995517, -118.157699], [26.057327, -80.16233299999998], [37.552072, -77.47760500000003], [40.83707, -104.96743], [38.714371, -121.487535], [38.326481, -87.369557], [33.72029000000001, -84.50253000000002], [27.251256, -82.497661], [34.830572, -82.506977], [34.820625, -82.25639100000002], [25.598777, -80.34812], [29.590275, -90.676456], [41.104499, -78.53354499999998], [33.85974, -118.29428], [29.628028000000004, -95.208916], [35.029399, -82.15915799999998], [25.781226, -80.310287], [29.424859, -98.649471], [28.495118, -81.45908], [40.753228, -74.126644], [33.846709999999995, -117.25241], [39.154341, -75.647334], [28.59504, -81.38455], [44.054351, -123.351161], [33.78475, -117.83119], [32.912346, -96.737054], [26.13668, -80.16463399999998], [42.729112, -74.51843000000002], [39.567636, -86.636971], [35.882838, -83.187264], [28.596957, -81.416442], [43.687208, -91.537324], [36.139816, -85.280889], [43.177058, -77.537059], [40.503903, -86.886399], [41.82416, -72.66556], [25.881657, -80.35433499999998], [38.752371, -122.615242], [38.647051, -90.190811], [40.681916, -73.691841], [45.507384, -122.719613], [29.662788, -81.879463], [40.526515, -80.159111], [35.86288300000001, -78.54809399999998], [36.22121, -86.761834], [32.953702, -80.161749], [41.663894, -72.810007], [29.823745, -95.337641], [41.324086, -72.88316800000003], [36.638587, -119.697349], [33.428399, -86.707775], [37.497437, -121.954556], [32.84635, -117.118281], [27.284015000000004, -82.47278100000003], [32.654102, -96.75666], [43.05407, -88.40564], [25.853491, -80.239947], [41.429339, -77.00948199999998], [40.567799, -111.429938], [41.868031, -87.64482], [38.5138, -122.77859], [39.9612, -82.98248000000002], [39.223108, -121.198933], [34.0321, -118.21904], [35.996121, -86.69103], [42.47448, -83.11053000000003], [40.696646, -111.87136], [39.30651500000001, -76.791459], [40.998519, -75.152138], [37.361345, -79.95389], [32.782539, -96.809827], [37.80967, -122.24658], [40.81573, -73.93097], [33.000644, -117.11328], [40.690795, -73.998938], [29.516111, -98.404884], [32.963709, -117.095598], [25.685328, -80.414491], [44.063748, -123.101044], [45.715688, -95.098375], [35.772807, -78.741681], [32.20693, -110.903075], [42.31447, -71.41638], [45.826193, -122.84452], [45.523598, -122.565185], [35.692638, -81.813007], [42.153752, -88.028632], [25.774129, -80.142785], [44.966768, -93.224262], [36.964197, -119.893838], [37.346243, -76.724439], [28.57695, -81.451387], [39.88362100000001, -75.244749], [37.550977, -77.428505], [35.033663, -81.223837], [40.077921, -76.762601], [38.428845, -81.823208], [40.932742, -73.83691], [27.388581, -82.456313], [40.848617, -73.937081], [26.186975, -80.298396], [33.975261, -117.554171], [34.428781, -119.294496], [37.996108, -122.065486], [40.86183, -73.91244], [39.407819, -77.43547], [27.99609, -82.48439], [39.152773, -76.645656], [28.170594, -81.493577], [33.864472, -118.326524], [33.87034, -118.340225], [38.00364, -121.83618], [41.799146, -93.570235], [45.00958, -93.13169], [44.443053000000006, -95.877195], [40.714119, -111.806949], [29.684089, -95.558115], [33.931027, -118.309118], [34.47213, -118.31595], [25.93321, -80.28907], [41.099323, -74.058599], [29.962555, -90.092394], [37.935624, -122.699993], [28.68670800000001, -81.38884], [30.477378, -81.64471], [43.664919, -116.6651], [39.030077, -77.021242], [26.785204, -80.09923], [25.7307, -80.317718], [33.905429, -118.105102], [41.101997, -74.57915600000003], [29.702051, -95.295384], [25.831247, -80.24035], [28.552392, -81.448734], [27.964482, -82.452632], [42.974492, -83.725916], [40.759545, -73.853627], [36.250296, -119.172194], [28.495335, -81.396918], [34.166536, -118.492349], [40.65107, -74.75029], [38.760699, -77.210701], [34.04965, -118.44876], [34.001559, -117.837005], [28.546661, -81.20830699999998], [35.45310999999999, -84.662371], [33.708622, -117.851855], [40.071769, -76.286918], [25.832454, -80.204385], [38.527476, -123.154864], [33.854529, -117.799877], [41.639118, -78.815565], [37.490979, -76.987332], [44.063726, -123.048645], [45.06869, -93.25868], [41.123274, -78.60684499999998], [36.09564, -115.18054], [30.419135, -87.27569], [28.253349, -82.67449], [36.142218, -86.6802], [27.7416, -82.67635], [38.465037, -121.414381], [28.59757, -81.29799], [42.343352, -83.068033], [34.01553, -117.09262], [25.988148, -80.165745], [39.084807, -76.89759699999998], [47.58566, -122.32004], [40.802246, -76.97563199999998], [38.721131, -94.676495], [27.547051, -82.540083], [36.254829, -119.808757], [34.071352000000005, -118.132602], [35.060927, -80.95501], [25.686722, -80.389025], [38.05664, -122.224776], [34.081375, -118.224796], [33.870003000000004, -117.670657], [33.609682, -81.379159], [34.602119, -118.058583], [40.870938, -74.643852], [33.874283, -117.517601], [36.803642, -119.785453], [27.206323, -80.40035300000002], [30.431128, -91.174475], [32.327020000000005, -86.26507], [34.029211, -118.397067], [38.313366, -78.93017900000002], [34.026732, -117.567448], [38.56197, -121.64736], [40.347965, -85.558551], [35.132667, -85.241864], [36.942847, -80.918415], [32.751457, -117.241823], [39.23141500000001, -77.284451], [45.10762, -93.46579], [32.811131, -96.817965], [25.928918, -80.180707], [40.788245, -78.235886], [44.81351, -93.39842], [33.897559, -117.47854], [26.712696, -80.081618], [46.900889, -122.671119], [26.335966, -81.806488], [41.73976, -72.62993], [46.752324, -92.140667], [38.834717, -76.870571], [42.723101, -123.372421], [34.020212, -117.814998], [40.922079, -111.597208], [40.974461, -75.134508], [41.920362, -92.922005], [35.603129, -117.90224], [45.926853, -95.320934], [37.741051, -121.581283], [41.06063, -111.96405], [40.73217, -73.91944000000002], [44.0978, -123.15507], [33.850437, -117.254319], [38.588037, -122.84923899999998], [46.447866, -109.862955], [38.733304, -90.343798], [30.576957, -84.695051], [32.13394, -110.96149], [37.700924, -113.063958], [36.68532, -121.67434], [30.461322, -91.041887], [42.35212, -83.21625], [33.651507, -112.06807], [36.120268, -95.847558], [28.566451, -81.20342099999998], [37.58525, -121.87261], [40.974584, -78.38350799999998], [39.732475, -84.21567900000002], [40.392811, -80.062922], [38.797817, -77.518322], [28.35741, -81.49181], [28.55334, -81.3956], [40.261459, -74.843152], [25.83733, -80.32194], [25.732843, -80.349036], [29.716387, -95.31796], [40.580631, -74.585076], [44.15987, -94.02048], [28.188767, -82.617722], [34.201268, -118.473588], [39.95116, -83.0143], [37.57458, -77.46122], [36.978255, -121.508497], [43.28284, -123.35588], [38.577116, -121.465422], [33.879813, -118.347297], [40.011467, -75.615569], [37.595254, -122.058332], [35.015183, -85.125325], [29.600418, -95.300849], [32.970585, -117.249409], [34.14271, -118.73596], [37.188091, -121.784991], [38.880838, -123.052484], [44.065572, -93.958801], [37.694474, -77.71131899999997], [47.8367, -122.12449], [28.359328, -81.396774], [45.384082, -94.009166], [41.788206, -87.801379], [42.910821, -85.607014], [40.725406, -111.901942], [28.46853, -80.79929], [43.654507, -123.876353], [28.4756, -81.44951800000003], [26.547128000000004, -81.802725], [41.16634000000001, -73.20882399999998], [32.849897, -96.683231], [26.120809, -80.228585], [38.56675, -121.470352], [40.71783, -111.95363], [34.065248, -117.997819], [34.462878, -119.197281], [36.174173, -86.770768], [33.562798, -117.668005], [37.354804, -121.838401], [34.033359999999995, -118.18099], [27.423972, -82.50519200000002], [41.44852, -81.68959], [35.116758000000004, -85.262049], [35.08163, -106.63677], [44.53850900000001, -92.938594], [38.78619000000001, -121.225236], [37.710881, -121.719082], [37.692355, -122.140533], [38.111036, -120.864155], [33.997911, -118.002655], [34.414179, -119.862546], [39.83168, -86.03662], [40.235699, -76.973208], [38.019089, -121.946589], [41.497732, -95.265487], [33.78674, -117.165106], [37.752231, -77.850934], [30.463311, -91.103386], [38.905182, -94.685662], [33.921564000000004, -118.281673], [47.761501, -104.127329], [30.2758, -97.59999], [41.333431, -95.738972], [41.10862, -73.405761], [27.90203, -82.76236], [27.994399, -82.54545300000002], [41.33149, -85.088], [38.872876, -76.948683], [32.9252, -96.78807], [44.951442, -93.081762], [25.760879, -80.418491], [28.377653, -81.40441], [34.229031, -84.470475], [37.533116, -122.277189], [30.443515, -91.138497], [39.29507, -84.47264], [40.34547, -76.740809], [33.618075, -81.104399], [40.313622, -78.879688], [38.63316, -77.437], [43.666348, -94.724507], [45.572622, -93.207635], [34.037028, -118.309224], [44.037775, -93.49683], [32.76167, -96.96512], [36.605232, -119.786177], [34.162094, -79.755279], [36.62564, -82.14711], [38.296348, -120.703705], [28.611993, -81.206597], [41.68816, -83.656001], [38.931652, -77.123222], [35.396951, -118.908044], [37.37351, -121.92644], [25.767817, -80.200356], [37.981981, -120.299544], [37.565599, -122.271319], [38.18883, -78.997374], [33.797303, -117.877689], [39.959386, -75.173845], [34.15266, -118.107626], [40.442064, -79.824213], [36.156542, -86.775863], [28.493745, -81.396763], [41.345297, -122.342388], [32.84611, -117.11848], [29.88732000000001, -95.41219], [37.93713, -122.51668], [38.776397, -120.267299], [30.57891, -88.174735], [40.649214, -74.477811], [41.76169, -87.62589], [38.60702, -121.43153999999998], [38.245859, -122.090741], [40.12592, -111.95821], [38.743392, -121.170706], [41.724, -72.80855], [38.07057, -122.53942], [38.92685, -77.007636], [45.516742, -122.66712], [25.957044, -80.206941], [35.2487, -80.85556], [34.030437, -117.605073], [25.863801, -80.325703], [46.179774, -92.866305], [34.7351, -86.61919], [32.765577, -96.856688], [40.624802, -75.48834599999998], [36.951765, -120.053663], [38.923777, -76.85341], [27.948571, -82.505742], [42.37106, -83.05438000000002], [35.29076, -80.75674000000002], [43.55562000000001, -123.55489], [38.527977, -120.442157], [40.693856, -73.99918100000002], [41.73257, -74.06602], [28.562387, -81.190732], [32.68739, -96.790352], [38.625472, -77.294729], [40.25854, -74.5133], [27.447751, -82.573305], [40.864838, -74.42056], [37.32285, -121.896547], [33.953257, -118.243024], [43.03231, -87.97381], [38.817248, -112.050328], [34.205231, -118.988034], [39.95472, -82.83846], [40.91978, -74.068], [35.9881, -119.960477], [27.16088, -80.30433000000002], [40.147116, -76.185014], [42.8686, -87.85826], [33.209752, -117.387001], [42.713781, -123.366669], [34.117697, -117.84633], [40.37486, -120.399344], [33.866417, -117.99799], [36.412714, -84.279674], [37.011416, -76.32299300000003], [26.374379, -80.116495], [41.7149, -87.63618000000002], [45.0785, -93.40183], [25.858393, -80.484091], [37.752381, -121.770132], [41.687139, -91.980317], [29.73704600000001, -95.54253], [33.78948, -117.88787], [33.929772, -118.343865], [42.306127, -88.054837], [34.06316, -117.40078], [41.142822, -73.26903399999998], [32.758229, -117.203481], [43.64898, -72.24886], [27.993797, -80.626977], [41.863349, -91.669245], [34.065135999999995, -117.998979], [25.623911, -80.414429], [33.670284, -117.765634], [39.65108, -106.016493], [38.981377, -77.172484], [32.805011, -97.317782], [39.53661, -119.807232], [37.869168, -122.509053], [33.876588, -117.659913], [33.68744, -117.892126], [37.2292, -120.487993], [38.153135, -85.715469], [37.782882, -122.239787], [45.001896, -93.400966], [38.716807, -77.53089399999998], [40.773588, -74.15499799999998], [33.580386, -117.101223], [38.025451, -122.259582], [33.908443, -117.287207], [35.94097, -78.426126], [41.51229, -73.04799], [28.113457, -82.739747], [33.516812, -117.161131], [29.47708, -98.5206], [38.487714, -77.942307], [36.136081, -86.725589], [27.955331, -82.32763299999998], [33.99426, -117.9009], [44.064847, -123.098652], [37.481805, -122.177116], [38.18311, -112.63365], [28.501528000000004, -80.838421], [34.921084, -78.028002], [43.193626, -77.64520300000002], [34.1611, -118.469614], [36.195143, -86.775565], [36.677044, -82.027849], [40.067266, -75.146726], [34.249376, -117.442305], [25.794787, -80.264421], [27.049735, -82.399823], [29.74274, -94.989], [42.893729, -83.63279], [47.50267, -122.19666], [33.160636, -97.07095], [45.715385, -95.387068], [43.443707, -124.221907], [30.164542, -81.747644], [47.241949, -122.392755], [38.10344, -79.06626], [29.950502, -90.085223], [37.508762, -77.115889], [28.476531, -81.417449], [40.235779, -76.284894], [25.760886, -80.420872], [44.720818, -94.492759], [39.72558, -105.058952], [28.421352, -81.40463100000002], [40.182849, -77.244132], [33.457357, -112.107597], [42.47696, -87.82413000000004], [34.023634, -118.472256], [34.033727, -117.371947], [41.76214, -87.86674000000002], [34.11444, -118.33666200000002], [34.711679, -80.255094], [36.21512, -86.76396], [37.59075, -121.87003], [34.28, -119.309444], [46.84452, -95.626366], [38.837573, -121.545302], [45.738519, -118.602036], [37.680139, -122.09398600000002], [37.89406, -122.07567], [40.976461, -73.69984000000002], [44.862724, -93.120603], [33.924374, -117.655185], [33.92564, -118.32172], [28.585433, -81.416556], [42.84882, -85.67845], [40.743839, -124.198715], [40.33676, -74.63169], [33.687527, -117.889656], [36.150587, -86.785522], [34.79927, -81.591484], [36.300317, -119.744053], [37.949694, -122.320744], [38.06231, -122.53377], [39.91404, -83.01729], [39.16559, -84.50685]],\n",
       "                {&quot;blur&quot;: 15, &quot;maxZoom&quot;: 18, &quot;minOpacity&quot;: 0.5, &quot;radius&quot;: 25}\n",
       "            ).addTo(map_903404dfe95aa85bc42168644e8f7dac);\n",
       "        \n",
       "&lt;/script&gt;\" style=\"position:absolute;width:100%;height:100%;left:0;top:0;border:none !important;\" allowfullscreen webkitallowfullscreen mozallowfullscreen></iframe></div></div>"
      ],
      "text/plain": [
       "<folium.folium.Map at 0x7f0dba17fdd0>"
      ]
     },
     "execution_count": 132,
     "metadata": {},
     "output_type": "execute_result"
    }
   ],
   "source": [
    "map = folium.Map()\n",
    "HeatMap(lat_lon_pairs).add_to(map)\n",
    "map"
   ]
  },
  {
   "cell_type": "markdown",
   "metadata": {
    "id": "Zbl1O9ZYV-NM"
   },
   "source": [
    "####to save this file in jovian"
   ]
  },
  {
   "cell_type": "code",
   "execution_count": 133,
   "metadata": {
    "executionInfo": {
     "elapsed": 433,
     "status": "ok",
     "timestamp": 1662409743030,
     "user": {
      "displayName": "sunny pratap",
      "userId": "11288485692058842255"
     },
     "user_tz": -330
    },
    "id": "8HiE1zU3V1eV"
   },
   "outputs": [],
   "source": [
    "import jovian\n"
   ]
  },
  {
   "cell_type": "code",
   "execution_count": 134,
   "metadata": {
    "colab": {
     "base_uri": "https://localhost:8080/",
     "height": 122
    },
    "executionInfo": {
     "elapsed": 119642,
     "status": "ok",
     "timestamp": 1662409902121,
     "user": {
      "displayName": "sunny pratap",
      "userId": "11288485692058842255"
     },
     "user_tz": -330
    },
    "id": "pos2-IQiV6rO",
    "outputId": "005b8dfb-68e1-4b30-9d75-ac7484cf5494"
   },
   "outputs": [
    {
     "name": "stdout",
     "output_type": "stream",
     "text": [
      "[jovian] Detected Colab notebook...\u001b[0m\n",
      "[jovian] Please enter your API key ( from https://jovian.ai/ ):\u001b[0m\n",
      "API KEY: ··········\n",
      "[jovian] Uploading colab notebook to Jovian...\u001b[0m\n",
      "Committed successfully! https://jovian.ai/sunnypratap455/us-accidents\n"
     ]
    },
    {
     "data": {
      "application/vnd.google.colaboratory.intrinsic+json": {
       "type": "string"
      },
      "text/plain": [
       "'https://jovian.ai/sunnypratap455/us-accidents'"
      ]
     },
     "execution_count": 134,
     "metadata": {},
     "output_type": "execute_result"
    }
   ],
   "source": [
    "jovian.commit()"
   ]
  },
  {
   "cell_type": "code",
   "execution_count": null,
   "metadata": {
    "id": "FC6_1Rh6Ycs2"
   },
   "outputs": [],
   "source": [
    "import jovian"
   ]
  },
  {
   "cell_type": "markdown",
   "metadata": {
    "id": "IBUwD8FfShaI"
   },
   "source": [
    "#Ask and answer questions\n",
    "\n",
    "1.Are there more accidents in warmer or colder area?\n",
    "\n",
    "2.Which five states has the highest number of accidents? How about per capita?\n",
    "\n",
    "3.Does new York show up in the data? If yes, why is the count lower if this the most populated city?\n",
    "\n",
    "4.Among the top 100 cities in number of accidents, which states do they belongs to most frequently.\n",
    "\n",
    "5.What time of day are accidents most frequent in?\n",
    "\n",
    "6.Which days of the week have the most accidents?\n",
    "\n",
    "7.Which months have the most accidents?\n",
    "\n",
    "8.What is the trends of the accidents year over year(decreasing or increasing)?\n",
    "\n",
    "9.When is accidents per unit of Traffic the highest?\n",
    "\n",
    "\n",
    "\n",
    "\n"
   ]
  },
  {
   "cell_type": "markdown",
   "metadata": {
    "id": "P1BgDPft8sLD"
   },
   "source": [
    "# Summary and Conclusion\n",
    "\n",
    "Insights:\n",
    "-- No data for New York\n",
    "- The number of accidents per cities decreases exponentially\n",
    "- Less than 5% of cities have more than 1000 yearly accidents\n",
    "-Over 1200 cities have reported just one accidents(Nneed to investigate)\n"
   ]
  },
  {
   "cell_type": "markdown",
   "metadata": {
    "id": "3BMCCNE6OpYr"
   },
   "source": []
  }
 ],
 "metadata": {
  "colab": {
   "collapsed_sections": [],
   "provenance": []
  },
  "language_info": {
   "codemirror_mode": {
    "name": "ipython",
    "version": 3
   },
   "file_extension": ".py",
   "mimetype": "text/x-python",
   "name": "python",
   "nbconvert_exporter": "python",
   "pygments_lexer": "ipython3",
   "version": "3.7.6"
  }
 },
 "nbformat": 4,
 "nbformat_minor": 0
}